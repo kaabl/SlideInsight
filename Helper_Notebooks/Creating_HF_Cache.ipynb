{
 "cells": [
  {
   "cell_type": "code",
   "execution_count": null,
   "id": "d06cfd4c",
   "metadata": {},
   "outputs": [
    {
     "name": "stdout",
     "output_type": "stream",
     "text": [
      "Total entries: 756\n",
      "Entries without license: 76\n",
      "Entries with license: 680\n",
      "\n",
      "Entries without license:\n",
      "- https://focalplane.biologists.com/2023/07/26/sharing-your-poster-on-figshare/\n",
      "- https://datamanagement.hms.harvard.edu/news/promoting-data-management-nikon-imaging-center-and-cell-biology-microscopy-facility\n",
      "- https://blog.delmic.com/data-handling-in-large-scale-electron-microscopy\n",
      "- https://focalplane.biologists.com/2023/06/01/tracking-in-napari/\n",
      "- https://focalplane.biologists.com/2023/05/03/feature-extraction-in-napari/\n",
      "- https://focalplane.biologists.com/2023/03/30/annotating-3d-images-in-napari/\n",
      "- https://focalplane.biologists.com/2023/04/13/quality-assurance-of-segmentation-results/\n",
      "- https://focalplane.biologists.com/2023/03/02/rescaling-images-and-pixel-anisotropy/\n",
      "- https://forum.image.sc/t/user-friendly-image-metadata-annotation-tool-workflow-for-omero/87925/1\n",
      "- https://focalplane.biologists.com/2024/04/03/how-to-write-a-bug-report/\n",
      "- https://focalplane.biologists.com/2024/07/18/prompt-engineering-in-bio-image-analysis/\n",
      "- https://tess.elixir-europe.org/events\n",
      "- https://globalbioimaging.org/international-training-courses\n",
      "- https://www.openmicroscopy.org/events/\n",
      "- https://www.embl.org/about/info/course-and-conference-office/events/bia23-01/\n",
      "- https://biapol.github.io/PoL-BioImage-Analysis-TS-GPU-Accelerated-Image-Analysis/intro.html\n",
      "- https://biapol.github.io/PoL-BioImage-Analysis-TS-Early-Career-Track/intro.html\n",
      "- https://www.dtls.nl/fair-data/byod/\n",
      "- https://github.com/Koushouu/Bioimage-Analysis-Workshop-Taipei/\n",
      "- https://github.com/Koushouu/Bioimage-Analysis-Workshop-23-24\n",
      "- https://github.com/WeiChenChu/Bioimage_Analysis_ICOB_2023\n",
      "- https://doi.org/10.5281/zenodo.14013025\n",
      "- https://git.mpi-cbg.de/rhaase/lecture_applied_bioimage_analysis\n",
      "- https://www.regeringen.se/contentassets/55e7d8fbf6df4a54ac56942b98d94e4f/lund-declaration-on-maximising-the-benefits-of-research-data-pa-engelska.pdf\n",
      "- ['https://www.nature.com/articles/nmeth.2083', 'https://bbbc.broadinstitute.org/']\n",
      "- https://coderefinery.github.io/github-without-command-line/doi/\n",
      "- https://the-turing-way.netlify.app/communication/citable/citable-cff.html\n",
      "- ['https://www.ebi.ac.uk/bioimage-archive/', 'https://www.sciencedirect.com/science/article/abs/pii/S0022283622000791']\n",
      "- ['https://idr.openmicroscopy.org/', 'https://www.nature.com/articles/nmeth.4326']\n",
      "- https://www.wiley.com/en-us/Standard+and+Super+Resolution+Bioimaging+Data+Analysis%3A+A+Primer-p-9781119096900\n",
      "- https://imagej.net/plugins/morpholibj\n",
      "- https://zmb.dozuki.com/c/Image_Analysis\n",
      "- https://cshlpress.com/default.tpl?cart=1700309488232283050&fromlink=T&linkaction=full&linksortby=oop_title&--eqSKUdatarq=1282\n",
      "- https://zenodo.org/communities/eoss\n",
      "- https://www.nature.com/articles/s41592-021-01290-5\n",
      "- https://doi.org/10.1038/s41592-021-01315-z\n",
      "- https://rupress.org/jcb/article/189/5/777/35828/Metadata-matters-access-to-image-data-in-the-real\n",
      "- https://www.nature.com/articles/s41592-018-0195-8\n",
      "- https://arxiv.org/abs/2302.01790v3\n",
      "- https://link.springer.com/article/10.1007/s00418-023-02203-7\n",
      "- https://figshare.com/articles/poster/I2K_Poster_Haase_V6_ImageJ_repro_pdf/7409525\n",
      "- https://www.biorxiv.org/content/10.1101/2023.10.09.561479v1\n",
      "- ['https://academic.oup.com/plcell/article/34/7/e1/6628764', 'https://plantsandpython.github.io/PlantsAndPython/00_Opening_page.html']\n",
      "- ['https://onlinelibrary.wiley.com/doi/10.1111/jmi.13317']\n",
      "- ['https://www.nature.com/articles/s41592-022-01744-4', 'https://jipipe.hki-jena.de/']\n",
      "- ['https://openresearchsoftware.metajnl.com/articles/10.5334/jors.103', 'https://mitobo.informatik.uni-halle.de/']\n",
      "- https://biapy.readthedocs.io/\n",
      "- https://usegalaxy.org/\n",
      "- https://fractal-analytics-platform.github.io/\n",
      "- ['https://snakemake.readthedocs.io/en/stable/', 'https://academic.oup.com/bioinformatics/article/28/19/2520/290322']\n",
      "- ['https://doi.org/10.1111/jmi.13227', 'https://mianalysis.github.io/']\n",
      "- https://www.nextflow.io/\n",
      "- https://nf-co.re/\n",
      "- https://www.youtube.com/neubias\n",
      "- ['https://www.youtube.com/digitalsreeni', 'https://www.youtube.com/watch?v=A4po9z61TME']\n",
      "- https://www.youtube.com/GlobalBioImaging\n",
      "- https://www.youtube.com/watch?v=e-2DbkUwKk4&list=PL5ESQNfM5lc7SAMstEu082ivW4BDMvd0U\n",
      "- https://www.youtube.com/OpenMicroscopyEnvironment\n",
      "- https://www.youtube.com/c/eurobioimagingcommunication\n",
      "- https://www.youtube.com/@cobacenterforopenbioimagea1864\n",
      "- https://www.youtube.com/@melbourneadvancedmicroscop2617\n",
      "- https://www.youtube.com/playlist?list=PL5Edc1v41fyCLFZbBCLo41zFO-_cXBfAb\n",
      "- https://www.youtube.com/watch?v=aRHNHk07t3Q&list=PLyCNTVs-UBvuJF7WausQ5q7v7pI1vEpI1\n",
      "- https://www.youtube.com/watch?v=OH3VKI7ErAE\n",
      "- ['https://zenodo.org/records/12533989', 'https://doi.org/10.5281/zenodo.12533989']\n",
      "- ['https://zenodo.org/records/6905931', 'https://doi.org/10.5281/zenodo.6905931']\n",
      "- https://github.com/Graylab/DL4Proteins-notebooks\n",
      "- https://github.com/CellMigrationLab/V4SDB_Winter_School_2025\n",
      "- ['https://zenodo.org/records/14792534', 'https://doi.org/10.5281/zenodo.14792534']\n",
      "- https://github.com/German-BioImaging/omero-ontop-mappings\n",
      "- ['https://zenodo.org/records/14933318', 'https://doi.org/10.5281/zenodo.14933318']\n",
      "- ['https://developmental.cellatlas.io/webatlas', 'https://www.biorxiv.org/content/10.1101/2023.05.19.541329v1']\n",
      "- ['https://zenodo.org/records/10669918', 'https://doi.org/10.5281/zenodo.10669918']\n",
      "- ['https://zenodo.org/records/8417503', 'https://doi.org/10.5281/zenodo.8417503']\n",
      "- https://doi.org/10.1038/s41592-021-01113-7\n",
      "- https://github.com/klauck/data_visualization_tutorial\n",
      "\n",
      "Entries with license:\n",
      "- https://biapol.github.io/blog/marcelo_zoccoler/omero_scripts/readme.html (License: CC-BY-4.0)\n",
      "- https://biapol.github.io/blog/robert_haase/browsing_idr/readme.html (License: CC-BY-4.0)\n",
      "- https://biapol.github.io/blog/mara_lampert/getting_started_with_mambaforge_and_python/readme.html (License: CC-BY-4.0)\n",
      "- https://focalplane.biologists.com/2022/12/08/managing-scientific-python-environments-using-conda-mamba-and-friends/ (License: CC-BY-4.0)\n",
      "- https://github.com/bioimage-io/Workshop-June2024-Madrid (License: MIT)\n",
      "- https://github.com/German-BioImaging/RDM4mic/tree/master/presentations (License: CC-BY-4.0)\n",
      "- https://biii.eu/training-material (License: ODC-BY-1.0)\n",
      "- https://haesleinhuepf.github.io/BioImageAnalysisNotebooks/intro.html (License: ['CC-BY-4.0', 'BSD-3-CLAUSE'])\n",
      "- https://bioimagebook.github.io/index.html (License: CC-BY-4.0)\n",
      "- https://f1000research.com/slides/12-971 (License: CC-BY-4.0)\n",
      "- https://microscopydb.io/ (License: ALL RIGHTS RESERVED)\n",
      "- https://www.openmicroscopy.org/docs/ (License: CC-BY-4.0)\n",
      "- https://omero.readthedocs.io/en/stable/ (License: UNKNOWN)\n",
      "- https://omero-guides.readthedocs.io/en/latest/ (License: BSD-2-CLAUSE)\n",
      "- https://omero-guides.readthedocs.io/en/latest/example_facility_manager.html (License: BSD-2-CLAUSE)\n",
      "- https://omero-guides.readthedocs.io/en/latest/example.html (License: BSD-2-CLAUSE)\n",
      "- https://bio.tools/ (License: CC-BY-4.0)\n",
      "- https://gerbi-gmb.de/resources/teaching-resources/ (License: UNKNOWN)\n",
      "- https://forschungsdaten.info/ (License: PUBLIC DOMAIN)\n",
      "- https://www.forschungsdaten.org/ (License: CC-BY-4.0)\n",
      "- ['https://zenodo.org/record/4071471', 'https://doi.org/10.5281/zenodo.4071471'] (License: CC-BY-4.0)\n",
      "- ['https://zenodo.org/record/3490058', 'https://doi.org/10.5281/zenodo.3490058'] (License: CC-BY-4.0)\n",
      "- https://rdmkit.elixir-europe.org/all_training_resources (License: CC-BY-4.0)\n",
      "- https://tess.elixir-europe.org/materials (License: UNKNOWN)\n",
      "- https://gerbi-gmb.de/i3dbio/i3dbio-teaching/train-mat/bioimagelist/ (License: UNKNOWN)\n",
      "- https://github.com/CellProfiler/tutorials (License: BSD-3-CLAUSE)\n",
      "- https://github.com/dwaithe/ONBI_image_analysis (License: GPL-2.0)\n",
      "- https://syn.mrc-lmb.cam.ac.uk/acardona/fiji-tutorial/ (License: CC0-1.0)\n",
      "- https://git.mpi-cbg.de/rhaase/lecture_imagej2_dev (License: BSD-3-CLAUSE)\n",
      "- https://git.mpi-cbg.de/rhaase/lecture_multiview_registration (License: BSD-3-CLAUSE)\n",
      "- https://git.mpi-cbg.de/rhaase/lecture_tracking_trackmate (License: BSD-3-CLAUSE)\n",
      "- https://git.mpi-cbg.de/rhaase/lecture_working_with_pixels (License: BSD-3-CLAUSE)\n",
      "- https://git.mpi-cbg.de/rhaase/lecture_working_with_objects_in_2d_and_3d (License: BSD-3-CLAUSE)\n",
      "- https://github.com/guiwitz/Python_image_processing (License: MIT)\n",
      "- https://github.com/tpecot/DeepLearningBasedSegmentationForBiologists/ (License: AGPL-3.0)\n",
      "- https://www.fabriziomusacchio.com/teaching/teaching_bioimage_analysis/ (License: CC-BY-ND-SA-4.0)\n",
      "- https://github.com/zeissmicroscopy/ZEN_Python_OAD_workshop (License: GPL-3.0)\n",
      "- ['https://zenodo.org/record/6602101', 'https://doi.org/10.5281/zenodo.6602101'] (License: CC-BY-4.0)\n",
      "- ['https://doi.org/10.1371/journal.pbio.3002167', 'https://www.bioimagingguide.org/'] (License: BSD-3-CLAUSE)\n",
      "- https://the-turing-way.netlify.app/reproducible-research/reproducible-research (License: ['CC-BY-4.0', 'MIT'])\n",
      "- https://github.com/miura/ij_textbook1/raw/76b51338e1f006c580b6f0f5cfc48fe02fba38d7/CMCIBasicCourse201102Bib.pdf (License: ALL RIGHTS RESERVED)\n",
      "- ['https://www.scienceeurope.org/our-resources/practical-guide-to-the-international-alignment-of-research-data-management/', 'https://doi.org/10.5281/zenodo.4915861'] (License: CC-BY-4.0)\n",
      "- http://celltrackingchallenge.net/2d-datasets/ (License: UNKNOWN)\n",
      "- http://celltrackingchallenge.net/3d-datasets/ (License: UNKNOWN)\n",
      "- https://www.microlist.org/ (License: ALL RIGHTS RESERVED)\n",
      "- https://git.mpi-cbg.de/scicomp/bioimage_team/coursematerialimageanalysis/tree/master/ImageJMacro_24h_2017-01 (License: UNKNOWN)\n",
      "- https://github.com/mpicbg-scicomp/CourseIntroToIA (License: CC-BY-NC-4.0)\n",
      "- https://neubias.github.io/training-resources/ (License: CC-BY-4.0)\n",
      "- https://bioimage.io/ (License: UNKNOWN)\n",
      "- https://github.com/ome/omero-deployment-examples (License: BSD-2-CLAUSE)\n",
      "- https://ai4life.eurobioimaging.eu/announcing-bioengine/ (License: UNKNOWN)\n",
      "- https://kevinyamauchi.github.io/open-image-data/how_tos/conda_forge_packaging.html (License: CC-BY-4.0)\n",
      "- https://ai4life.eurobioimaging.eu/ai4life-teams-up-with-galaxy-training-network-gtn-to-enhance-training-resources/ (License: UNKNOWN)\n",
      "- ['https://zenodo.org/records/8323588', 'https://www.youtube.com/playlist?list=PL2k-L-zWPoR7SHjG1HhDIwLZj0MB_stlU', 'https://doi.org/10.5281/zenodo.8323588'] (License: CC-BY-4.0)\n",
      "- https://github.com/InsightSoftwareConsortium/ITKElastix/tree/main/examples (License: APACHE-2.0)\n",
      "- https://www.edx.org/learn/image-analysis/ecole-polytechnique-federale-de-lausanne-image-processing-and-analysis-for-life-scientists (License: ALL RIGHTS RESERVED)\n",
      "- https://github.com/RMS-DAIM/Python-for-Bioimage-Analysis (License: GPL-3.0)\n",
      "- https://github.com/guiwitz/Fundamentals_image_processing (License: UNKNOWN)\n",
      "- https://github.com/guiwitz/NumpyPandas_course (License: BSD-3-CLAUSE)\n",
      "- https://github.com/guiwitz/neubias_academy_biapy (License: BSD-3-CLAUSE)\n",
      "- https://github.com/bnsreenu/python_for_microscopists (License: MIT)\n",
      "- https://github.com/VolkerH/Jupyter-Napari-Desktop (License: UNKNOWN)\n",
      "- ['https://github.com/rougier/scientific-visualization-book', 'https://inria.hal.science/hal-03427242/document'] (License: CC-BY-ND-SA-4.0)\n",
      "- https://github.com/CamachoDejay/teaching-bioimage-analysis-python (License: MIT)\n",
      "- https://github.com/CamachoDejay/Teaching-ImageJ-FIJI (License: MIT)\n",
      "- https://github.com/jni/halfway-to-i2k-skimage-napari (License: BSD-3-CLAUSE)\n",
      "- https://github.com/scipy-2023-image-analysis/tutorial (License: BSD-3-CLAUSE)\n",
      "- https://github.com/guiwitz/DaskCourse (License: UNKNOWN)\n",
      "- https://github.com/guiwitz/DLImaging (License: UNKNOWN)\n",
      "- https://github.com/guiwitz/MICPy_Workshop_2022 (License: UNKNOWN)\n",
      "- https://github.com/miura/NEUBIAS_Bioimage_Analyst_Course2017 (License: UNKNOWN)\n",
      "- ['https://github.com/quantixed/TheDigitalCell', 'https://zenodo.org/records/2643411', 'https://doi.org/10.5281/zenodo.2643411'] (License: GPL-3.0)\n",
      "- https://github.com/miura/NEUBIAS_AnalystSchool2020 (License: UNKNOWN)\n",
      "- https://github.com/miura/NEUBIAS_AnalystSchool2019 (License: UNKNOWN)\n",
      "- https://github.com/miura/NEUBIAS_AnalystSchool2018 (License: UNKNOWN)\n",
      "- https://github.com/marionlouveaux/NEUBIAS2018_TS7/ (License: UNKNOWN)\n",
      "- https://github.com/miura/BIAS_Nucleus_Segmentation/blob/master/module9.pdf (License: UNKNOWN)\n",
      "- https://github.com/miura/HTManalysisCourse/blob/master/CentreCourseProtocol.md (License: UNKNOWN)\n",
      "- https://github.com/tischi/presentation-image-analysis (License: UNKNOWN)\n",
      "- ['https://github.com/WhoIsJack/python-bioimage-analysis-tutorial'] (License: MIT)\n",
      "- ['https://github.com/WhoIsJack/EMBL-CodingClub', 'https://bio-it.embl.de/Coding%20Club/Curated%20Tutorials/'] (License: UNKNOWN)\n",
      "- https://github.com/karinsasaki/python-workshop-image-processing (License: UNKNOWN)\n",
      "- https://github.com/karinsasaki/metabolic-networks-modelling (License: UNKNOWN)\n",
      "- https://github.com/tischi/cellprofiler-practical-NeuBIAS-Lisbon-2017 (License: UNKNOWN)\n",
      "- https://github.com/tischi/i2k-2020-s3-zarr-workshop (License: UNKNOWN)\n",
      "- ['https://datacarpentry.org/image-processing/', 'https://github.com/datacarpentry/image-processing'] (License: CC-BY-4.0)\n",
      "- https://datacarpentry.org/semester-biology/ (License: ['CC-BY-4.0', 'MIT'])\n",
      "- https://github.com/kreshuklab/teaching-dl-course-2019 (License: UNKNOWN)\n",
      "- https://github.com/kreshuklab/teaching-dl-course-2023 (License: UNKNOWN)\n",
      "- https://github.com/kreshuklab/teaching-dl-course-2022 (License: UNKNOWN)\n",
      "- https://github.com/yandexdataschool/deep_vision_and_graphics (License: MIT)\n",
      "- https://github.com/kreshuklab/predoc-course (License: UNKNOWN)\n",
      "- https://github.com/imjoy-team/bioimage-io-resources (License: UNKNOWN)\n",
      "- https://github.com/constantinpape/training-deep-learning-models-for-vison (License: UNKNOWN)\n",
      "- https://github.com/constantinpape/dl-teaching-resources (License: MIT)\n",
      "- https://github.com/JaneliaSciComp/nf-demos (License: UNKNOWN)\n",
      "- https://github.com/JaneliaSciComp/2020AprilGitCourse (License: UNKNOWN)\n",
      "- ['https://github.com/HenriquesLab/ZeroCostDL4Mic', 'https://www.nature.com/articles/s41467-021-22518-0', 'https://doi.org/10.1038/s41467-021-22518-0'] (License: MIT)\n",
      "- https://github.com/HenriquesLab/DL4MicEverywhere (License: CC-BY-4.0)\n",
      "- ['https://www.biorxiv.org/content/10.1101/2023.10.20.563252v2', 'https://github.com/guijacquemet/CellTracksColab'] (License: MIT)\n",
      "- https://github.com/tischi/image-analysis-course-material (License: MIT)\n",
      "- https://github.com/guiwitz/PyImageCourse_beginner (License: BSD-3-CLAUSE)\n",
      "- https://github.com/ahklemm/ImageJMacro_Introduction (License: UNKNOWN)\n",
      "- https://github.com/ahklemm/CellProfiler_Introduction (License: UNKNOWN)\n",
      "- https://github.com/maweigert/embo_2022 (License: UNKNOWN)\n",
      "- https://github.com/maweigert/neubias_academy_stardist (License: UNKNOWN)\n",
      "- https://github.com/maweigert/stardist-i2k (License: UNKNOWN)\n",
      "- https://github.com/maweigert/zidas_2020_DL_intro_Part_2 (License: UNKNOWN)\n",
      "- https://github.com/holgerhennig/machine-learning-IFC (License: UNKNOWN)\n",
      "- ['https://github.com/cytomining/profiling-handbook', 'https://cytomining.github.io/profiling-handbook/'] (License: CC0-1.0)\n",
      "- ['https://github.com/cytomining/DeepProfiler-handbook', 'https://cytomining.github.io/DeepProfiler-handbook/docs/00-welcome.html'] (License: UNKNOWN)\n",
      "- ['https://www.ebi.ac.uk/training/events/methods-bioimage-analysis/', 'https://doi.org/10.6019/TOL.BioImageAnalysis22-w.2022.00001.1', 'https://drive.google.com/file/d/1MhuqfKhZcYu3bchWMqogIybKjamU5Msg/view'] (License: CC-BY-4.0)\n",
      "- https://github.com/esgomezm/NEUBIAS_chapter_DL_2020 (License: UNKNOWN)\n",
      "- https://github.com/esgomezm/zidas2020_intro_DL (License: UNKNOWN)\n",
      "- https://raw.githubusercontent.com/esgomezm/esgomezm.github.io/master/assets/pdf/SPAOM2018/MachineLearning_SPAOMworkshop_public.pdf (License: UNKNOWN)\n",
      "- https://github.com/JLrumberger/DL-MBL-2021 (License: UNKNOWN)\n",
      "- https://github.com/galaxyproject/training-material (License: MIT)\n",
      "- https://zenodo.org/doi/10.5281/zenodo.4330625 (License: CC-BY-4.0)\n",
      "- ['https://zenodo.org/records/4334697', 'https://doi.org/10.5281/zenodo.4334697'] (License: CC-BY-4.0)\n",
      "- ['https://zenodo.org/records/4328911', 'https://doi.org/10.5281/zenodo.4328911'] (License: CC-BY-4.0)\n",
      "- ['https://zenodo.org/records/4317149', 'https://doi.org/10.5281/zenodo.4317149'] (License: CC-BY-4.0)\n",
      "- https://docs.google.com/presentation/d/1q8q1xE-c35tvCsRXZay98s2UYWwXpp0cfCljBmMFpco/edit#slide=id.ga456d5535c_2_53 (License: UNKNOWN)\n",
      "- https://docs.google.com/presentation/d/1henPIDTpHT3bc1Y26AltItAHJ2C5xCOl/edit#slide=id.p1 (License: UNKNOWN)\n",
      "- https://www.dropbox.com/s/5abw3cvxrhpobg4/20220923_DefragmentationTS.pdf?dl=0 (License: UNKNOWN)\n",
      "- https://git.embl.de/oezdemir/course_scripts#ome-zarr-course (License: UNKNOWN)\n",
      "- https://docs.google.com/presentation/d/1oJoy9gHmUuSmUwCkPs_InJf_WZAzmLlUNvK1FUEB4PA/edit#slide=id.ge3a24e733b_0_54 (License: UNKNOWN)\n",
      "- ['https://f1000research.com/slides/11-1171', 'https://doi.org/10.7490/f1000research.1119154.1'] (License: CC-BY-4.0)\n",
      "- https://docs.google.com/presentation/d/1WG_4307XmKsGfWT3taxMvX2rZiG1k0SM1E7SAENJQkI/edit#slide=id.p (License: UNKNOWN)\n",
      "- https://github.com/RoccoDAnt/Defragmentation_TrainingSchool_EOSC-Life_2022/blob/main/Slides/Adding_a_workflow_to_BIAFLOWS.pdf (License: BSD-2-CLAUSE)\n",
      "- https://analyticalscience.wiley.com/do/10.1002/was.00050003/full/bioimagedataanalysis.pdf (License: ALL RIGHTS RESERVED)\n",
      "- https://github.com/hereariim/DEEP-NAPARI (License: UNKNOWN)\n",
      "- https://kevinyamauchi.github.io/open-image-data/intro.html (License: CC-BY-4.0)\n",
      "- https://github.com/BiAPoL/Bio-image_Analysis_with_Python (License: CC-BY-4.0)\n",
      "- ['https://zenodo.org/records/10083555', 'https://doi.org/10.5281/zenodo.10083555'] (License: CC-BY-4.0)\n",
      "- ['https://zenodo.org/records/10815329', 'https://doi.org/10.5281/zenodo.10815329'] (License: CC-BY-4.0)\n",
      "- https://github.com/BiAPoL/PoL-BioImage-Analysis-TS-GPU-Accelerated-Image-Analysis/ (License: CC-BY-4.0)\n",
      "- https://github.com/ScaDS/BIDS-lecture-2024 (License: CC-BY-4.0)\n",
      "- https://github.com/computational-cell-analytics/dl-for-micro (License: MIT)\n",
      "- https://zoccoler.github.io/QM_Course_Bio_Image_Analysis_with_napari_2024 (License: CC-BY-4.0)\n",
      "- https://bethac07.github.io/qi_2024_analysis_lab_manual/intro.html (License: CC-BY-4.0)\n",
      "- ['https://zenodo.org/records/10679054', 'https://doi.org/10.5281/zenodo.10679054'] (License: CC-BY-4.0)\n",
      "- ['https://zenodo.org/records/10654775', 'https://doi.org/10.5281/zenodo.10654775'] (License: CC-BY-4.0)\n",
      "- ['https://zenodo.org/records/10008465', 'https://doi.org/10.5281/zenodo.10008465'] (License: CC-BY-4.0)\n",
      "- https://m-albert.github.io/elastix_tutorial/intro.html (License: BSD-3-CLAUSE)\n",
      "- https://thejacksonlaboratory.github.io/intro-napari-slides/#/section (License: MIT)\n",
      "- https://github.com/gletort/NeubiasPasteur2023_AdvancedCellPose (License: BSD-3-CLAUSE)\n",
      "- https://www.ebi.ac.uk/training/materials/microscopy-data-analysis-machine-learning-and-the-bioimage-archive-materials/ (License: CC-BY-4.0)\n",
      "- ['https://zenodo.org/records/10972692', 'https://doi.org/10.5281/zenodo.10972692'] (License: CC-BY-4.0)\n",
      "- ['https://zenodo.org/records/10990107', 'https://doi.org/10.5281/zenodo.10990107'] (License: CC-BY-4.0)\n",
      "- ['https://zenodo.org/records/10970869', 'https://doi.org/10.5281/zenodo.10970869'] (License: CC-BY-4.0)\n",
      "- ['https://zenodo.org/records/11066250', 'https://doi.org/10.5281/zenodo.11066250'] (License: CC-BY-4.0)\n",
      "- https://f1000research.com/slides/13-147 (License: CC-BY-4.0)\n",
      "- https://www.ebi.ac.uk/bioimage-archive/galleries/AI.html (License: CC0-1.0)\n",
      "- https://www.ebi.ac.uk/bioimage-archive/galleries/visualisation.html (License: CC0-1.0)\n",
      "- https://www.ebi.ac.uk/bioimage-archive/galleries/vem.html (License: CC0-1.0)\n",
      "- https://github.com/rmassei/2024-jn-omero-pipeline (License: MIT)\n",
      "- https://drive.google.com/file/d/1pPVUUMi5w2Ojw_SaBzSQVaXUuIKtQ7Ma/view (License: UNKNOWN)\n",
      "- ['https://zenodo.org/records/11473803', 'https://doi.org/10.5281/zenodo.11473803'] (License: CC-BY-4.0)\n",
      "- ['https://zenodo.org/records/11474407', 'https://doi.org/10.5281/zenodo.11474407'] (License: CC-BY-4.0)\n",
      "- ['https://zenodo.org/records/11548617', 'https://doi.org/10.5281/zenodo.11548617'] (License: CC-BY-4.0)\n",
      "- https://zenodo.org/doi/10.5281/zenodo.10687658 (License: CC-BY-4.0)\n",
      "- https://doi.org/10.5281/zenodo.8434325 (License: CC-BY-4.0)\n",
      "- https://zenodo.org/doi/10.5281/zenodo.8349562 (License: CC-BY-4.0)\n",
      "- https://zenodo.org/doi/10.5281/zenodo.8340247 (License: CC-BY-4.0)\n",
      "- https://zenodo.org/doi/10.5281/zenodo.8139353 (License: CC-BY-4.0)\n",
      "- https://zenodo.org/doi/10.5281/zenodo.10886749 (License: CC-BY-4.0)\n",
      "- https://zenodo.org/doi/10.5281/zenodo.10793699 (License: CC-BY-4.0)\n",
      "- ['https://zenodo.org/records/11265038', 'https://doi.org/10.5281/zenodo.11265038'] (License: CC-BY-4.0)\n",
      "- ['https://zenodo.org/records/11107798', 'https://doi.org/10.5281/zenodo.11107798'] (License: CC-BY-4.0)\n",
      "- ['https://zenodo.org/records/10942559', 'https://doi.org/10.5281/zenodo.10942559'] (License: CC-BY-4.0)\n",
      "- ['https://zenodo.org/records/10816895', 'https://doi.org/10.5281/zenodo.10816895'] (License: CC-BY-4.0)\n",
      "- ['https://zenodo.org/records/4461261', 'https://doi.org/10.5281/zenodo.4461261'] (License: CC-BY-4.0)\n",
      "- ['https://zenodo.org/records/11472148', 'https://doi.org/10.5281/zenodo.11472148'] (License: CC-BY-4.0)\n",
      "- ['https://zenodo.org/records/11396199', 'https://doi.org/10.5281/zenodo.11396199'] (License: CC-BY-4.0)\n",
      "- ['https://zenodo.org/records/4748510', 'https://doi.org/10.5281/zenodo.4748510'] (License: CC-BY-4.0)\n",
      "- ['https://zenodo.org/records/4630788', 'https://doi.org/10.5281/zenodo.4630788'] (License: CC-BY-4.0)\n",
      "- ['https://zenodo.org/records/4748534', 'https://doi.org/10.5281/zenodo.4748534'] (License: CC-BY-4.0)\n",
      "- ['https://zenodo.org/records/3778431', 'https://doi.org/10.5281/zenodo.3778431'] (License: CC-BY-4.0)\n",
      "- https://zenodo.org/records/12623730 (License: CC-BY-4.0)\n",
      "- https://github.com/ScaDS/BIDS-lecture-2024/ (License: CC-BY-4.0)\n",
      "- https://zenodo.org/records/11201216 (License: CC-BY-4.0)\n",
      "- https://zenodo.org/records/12744715 (License: CC-BY-4.0)\n",
      "- https://archiv.ub.uni-heidelberg.de/volltextserver/29489/ (License: CC-BY-SA-4.0)\n",
      "- https://f1000research.com/articles/11-638 (License: CC-BY-4.0)\n",
      "- https://f1000research.com/slides/10-519 (License: CC-BY-4.0)\n",
      "- https://focalplane.biologists.com/2023/05/06/if-you-license-it-itll-be-harder-to-steal-it-why-we-should-license-our-work/ (License: CC-BY-4.0)\n",
      "- https://focalplane.biologists.com/2023/02/15/sharing-research-data-with-zenodo/ (License: CC-BY-4.0)\n",
      "- https://focalplane.biologists.com/2021/09/04/collaborative-bio-image-analysis-script-editing-with-git/ (License: CC-BY-4.0)\n",
      "- https://analyticalscience.wiley.com/do/10.1002/was.0004000267/ (License: ALL RIGHTS RESERVED)\n",
      "- https://doi.org/10.1515/hsz-2022-0304 (License: UNKNOWN)\n",
      "- https://doi.org/10.52825/cordi.v1i.285 (License: CC-BY-4.0)\n",
      "- ['https://zenodo.org/record/7018929', 'https://doi.org/10.5281/zenodo.7018929'] (License: CC-BY-4.0)\n",
      "- https://analyticalscience.wiley.com/do/10.1002/was.0004000112/ (License: ALL RIGHTS RESERVED)\n",
      "- https://doi.org/10.1038/s41592-019-0650-1 (License: ALL RIGHTS RESERVED)\n",
      "- https://febs.onlinelibrary.wiley.com/doi/full/10.1002/1873-3468.14451 (License: CC-BY-4.0)\n",
      "- https://onlinelibrary.wiley.com/doi/full/10.1111/jmi.13192 (License: CC-BY-4.0)\n",
      "- https://doi.org/10.1038/s41592-022-01602-3 (License: ALL RIGHTS RESERVED)\n",
      "- https://f1000research.com/articles/10-302 (License: CC-BY-4.0)\n",
      "- https://www.frontiersin.org/articles/10.3389/fbinf.2022.889755/full (License: CC-BY-4.0)\n",
      "- https://f1000research.com/articles/10-334/v1 (License: CC-BY-4.0)\n",
      "- https://www.nature.com/articles/s41592-021-01288-z (License: ALL RIGHTS RESERVED)\n",
      "- https://onlinelibrary.wiley.com/doi/10.1111/jmi.13041 (License: CC-BY-4.0)\n",
      "- https://www.nature.com/articles/s41592-021-01326-w (License: CC-BY-4.0)\n",
      "- https://ceur-ws.org/Vol-3415/paper-27.pdf (License: CC-BY-4.0)\n",
      "- https://www.biorxiv.org/content/10.1101/2023.05.05.539647v1.abstract (License: CC-BY-4.0)\n",
      "- https://www.nature.com/articles/s41592-023-01987-9 (License: ALL RIGHTS RESERVED)\n",
      "- https://doi.org/10.1093/bioinformatics/btab106 (License: CC-BY-4.0)\n",
      "- https://f1000research.com/posters/9-162 (License: CC-BY-4.0)\n",
      "- ['https://zenodo.org/records/8329306', 'https://doi.org/10.5281/zenodo.8329306'] (License: CC-BY-4.0)\n",
      "- https://f1000research.com/slides/12-1054 (License: CC-BY-4.0)\n",
      "- ['https://github.com/NFDI4BIOIMAGE/Cologne-Hackathon-2023', 'https://doi.org/10.5281/zenodo.10609770'] (License: CC-BY-4.0)\n",
      "- https://zenodo.org/doi/10.5281/zenodo.10008464 (License: CC-BY-4.0)\n",
      "- ['https://doi.org/10.5281/zenodo.8070038', 'https://zenodo.org/records/8070038'] (License: CC-BY-4.0)\n",
      "- https://zenodo.org/doi/10.5281/zenodo.10609770 (License: CC-BY-4.0)\n",
      "- https://zenodo.org/doi/10.5281/zenodo.11235512 (License: CC-BY-4.0)\n",
      "- https://zenodo.org/doi/10.5281/zenodo.8329305 (License: CC-BY-4.0)\n",
      "- https://zenodo.org/doi/10.5281/zenodo.7928332 (License: CC-BY-4.0)\n",
      "- https://zenodo.org/doi/10.5281/zenodo.8414318 (License: CC-BY-4.0)\n",
      "- https://zenodo.org/doi/10.5281/zenodo.10730423 (License: CC-BY-4.0)\n",
      "- https://zenodo.org/doi/10.5281/zenodo.10939519 (License: CC-BY-4.0)\n",
      "- https://zenodo.org/doi/10.5281/zenodo.11031746 (License: CC-BY-4.0)\n",
      "- ['https://zenodo.org/records/13168693', 'https://doi.org/10.5281/zenodo.13168693'] (License: CC-BY-4.0)\n",
      "- ['https://zenodo.org/records/11318151', 'https://doi.org/10.5281/zenodo.11318151'] (License: CC-BY-4.0)\n",
      "- ['https://zenodo.org/records/11521029', 'https://doi.org/10.5281/zenodo.11521029'] (License: CC-BY-SA-4.0)\n",
      "- ['https://doi.org/10.1017/s2633903x21000039', 'https://github.com/ciminilab/2021_Jamali_BiologicalImaging'] (License: BSD-3-CLAUSE)\n",
      "- ['https://www.biorxiv.org/content/10.1101/2023.06.05.543701v1', 'https://github.com/COBA-NIH/2023_ImageAnalysisSurvey'] (License: BSD-3-CLAUSE)\n",
      "- https://doi.org/10.1016/j.vibspec.2024.103685 (License: CC-BY-4.0)\n",
      "- https://bioimage-io.github.io/bioengine/#/ (License: MIT)\n",
      "- https://www.ibiology.org/online-biology-courses/bioimage-analysis-course/ (License: CC BY-NC-ND 3.0 DEED)\n",
      "- https://imaris.oxinst.com/tutorials (License: ALL RIGHTS RESERVED)\n",
      "- https://www.youtube.com/playlist?list=PLRc9dt9lEZh_SVRC4G5moOvgHuvjPwmv0 (License: ALL RIGHTS RESERVED)\n",
      "- ['https://www.youtube.com/@chrishavlin', 'https://www.youtube.com/playlist?list=PLqbhAmYZU5KxuAcnNBIxyBkivUEiKswq1'] (License: UNKNOWN)\n",
      "- ['https://www.youtube.com/@RDM4mic'] (License: UNKNOWN)\n",
      "- ['https://www.youtube.com/watch?v=8zd4KTy-oYI&list=PLW-oxncaXRqU4XqduJzwFHvWLF06PvdVm'] (License: CC-BY-4.0)\n",
      "- ['https://zenodo.org/records/13379394', 'https://doi.org/10.5281/zenodo.13379394'] (License: CC-BY-4.0)\n",
      "- ['https://zenodo.org/records/13371196', 'https://doi.org/10.5281/zenodo.13371196'] (License: CC-BY-4.0)\n",
      "- ['https://zenodo.org/records/13506641', 'https://doi.org/10.5281/zenodo.13506641'] (License: CC-BY-4.0)\n",
      "- https://hal.science/hal-02267597/document (License: CC-BY-4.0)\n",
      "- https://www.biorxiv.org/content/10.1101/2024.08.20.608021v1 (License: CC-BY-4.0)\n",
      "- https://biapol.github.io/omero-tools/ (License: CC-BY-4.0)\n",
      "- https://github.com/juglab/EmbedSeg (License: CC-BY-NC-4.0)\n",
      "- https://github.com/scipy/scipy-cookbook (License: BSD-3-CLAUSE)\n",
      "- https://github.com/InsightSoftwareConsortium/SimpleITK-Notebooks (License: APACHE-2.0)\n",
      "- https://github.com/scikit-image/skimage-tutorials (License: CC0 1.0 UNIVERSAL)\n",
      "- https://github.com/INRIA/scikit-learn-mooc (License: CC-BY-4.0)\n",
      "- https://github.com/yandexdataschool/nlp_course (License: MIT)\n",
      "- https://quarep-limi.github.io/WG12_checklists_for_image_publishing/intro.html (License: BSD-3-CLAUSE)\n",
      "- https://www.ebi.ac.uk/training/on-demand?facets=type:Course%20materials&query= (License: CC0 (MOSTLY, BUT CAN DIFFER DEPENDING ON RESOURCE))\n",
      "- ['https://zenodo.org/records/11109616', 'https://doi.org/10.5281/zenodo.11109616'] (License: CC-BY-4.0)\n",
      "- ['https://zenodo.org/records/13908480', 'https://doi.org/10.5281/zenodo.13908480'] (License: CC-BY-4.0)\n",
      "- ['https://zenodo.org/records/13908108', 'https://doi.org/10.5281/zenodo.13908108'] (License: CC-BY-4.0)\n",
      "- https://www.ugent.be/en/research/openscience/datamanagement (License: UNKNOWN)\n",
      "- https://www.go-fair.org/resources/rdm-starter-kit/ (License: CC-BY-4.0)\n",
      "- ['https://f1000research.com/slides/11-746', 'https://doi.org/10.7490/f1000research.1119026.1'] (License: CC-BY-4.0)\n",
      "- https://www.mdpi.com/2304-6775/5/1/2 (License: CC-BY-4.0)\n",
      "- ['https://www.nature.com/articles/sdata201618', 'https://doi.org/10.1038/sdata.2016.18'] (License: CC-BY-4.0)\n",
      "- ['https://pubmed.ncbi.nlm.nih.gov/36371407/', 'https://www.nature.com/articles/s41597-022-01815-3'] (License: CC-BY-4.0)\n",
      "- https://www.ncbi.nlm.nih.gov/pmc/articles/PMC9271325/ (License: UNKNOWN)\n",
      "- ['https://www.ncbi.nlm.nih.gov/pmc/articles/PMC8606015/', 'https://www.nature.com/articles/s41592-021-01166-8', 'https://doi.org/10.1038/s41592-021-01166-8'] (License: UNKNOWN)\n",
      "- https://doi.org/10.12688/f1000research.12344.2 (License: UNKNOWN)\n",
      "- https://doi.org/10.11588/heidok.00029489 (License: CCY-BY-SA-4.0)\n",
      "- https://rdmkit.elixir-europe.org/data_life_cycle (License: CC-BY-4.0)\n",
      "- https://tess.elixir-europe.org/search?q=data+life+cycle#materials (License: UNKNOWN)\n",
      "- ['https://bausteine-fdm.de/article/view/7945', 'https://doi.org/10.17192/bfdm.2018.1.7945'] (License: CC-BY-4.0)\n",
      "- https://www.o-bib.de/bib/article/view/2018H2S1-13 (License: CC-BY-4.0)\n",
      "- ['https://discovery.ucl.ac.uk/id/eprint/1546596/1/26_Learn_Guidance_137-140.pdf', 'https://doi.org/10.14324/000.learn.27'] (License: CC-BY-4.0)\n",
      "- https://ds-wizard.org/ (License: UNKOWN)\n",
      "- https://rdmorganiser.github.io/ (License: UNKNOWN)\n",
      "- https://focalplane.biologists.com/2023/11/06/creating-a-research-data-management-plan-using-chatgpt/ (License: CC-BY-4.0)\n",
      "- https://hup.sub.uni-hamburg.de/oa-pub/catalog/book/205 (License: CC-BY-4.0)\n",
      "- https://omero-guides.readthedocs.io/en/latest/fiji/docs/index.html (License: BSD-2-CLAUSE)\n",
      "- ['https://gerbi-gmb.de/i3dbio/i3dbio-rdm/i3dbio-bioimage-metadata/'] (License: UNKNOWN)\n",
      "- https://guide-kvpairs-scripts.readthedocs.io/en/latest/ (License: UNKNOWN)\n",
      "- ['https://genomebiology.biomedcentral.com/articles/10.1186/gb-2005-6-5-r47', 'https://doi.org/10.1186/gb-2005-6-5-r47'] (License: CC-BY-4.0)\n",
      "- https://www.frontiersin.org/journals/neuroscience/articles/10.3389/fnins.2022.871228/full (License: CC-BY-4.0)\n",
      "- https://www.ebi.ac.uk/bioimage-archive/rembi-help-overview/ (License: CC0-1.0)\n",
      "- https://www.nature.com/articles/s41597-023-02367-w (License: CC-BY-4.0)\n",
      "- ['https://www.fdm.tu-clausthal.de/fileadmin/FDM/documents/Manual_eLab_v0.3_20200323.pdf', 'https://www.elabftw.net/'] (License: AGPL-3.0)\n",
      "- http://opendatahandbook.org/guide/en/what-is-open-data/ (License: CC-BY-4.0)\n",
      "- https://web.library.uq.edu.au/blog/2022/03/five-great-reasons-share-your-research-data (License: UNKNOWN)\n",
      "- https://www.publisso.de/en/advice/publishing-advice-faqs/research-data (License: UNKNOWN)\n",
      "- https://gerbi-gmb.de/2023/06/01/finding-and-choosing-a-repository/ (License: UNKNOWN)\n",
      "- https://www.re3data.org/ (License: CC-BY-4.0)\n",
      "- https://www.go-fair.org/fair-principles/ (License: CC-BY-4.0)\n",
      "- https://www.ebi.ac.uk/bioimage-archive/submit/ (License: CC0-1.0)\n",
      "- ['https://www.sciencedirect.com/science/article/pii/S0022283622000791?via%3Dihub', 'https://doi.org/10.1016/j.jmb.2022.167505'] (License: UNKNOWN)\n",
      "- https://www.nfdi.de/ (License: UNKNOWN)\n",
      "- https://journals.plos.org/ploscompbiol/article?id=10.1371/journal.pcbi.1007854 (License: CC-BY-4.0)\n",
      "- https://www.nature.com/articles/s41431-018-0160-0 (License: CC-BY-4.0)\n",
      "- https://downloads.openmicroscopy.org/presentations/2024/Dundee/Day1/Research%20Data%20Management%20at%20France%20BioImaging.pdf (License: UNKNOWN)\n",
      "- https://nfdi4plants.org/nfdi4plants.knowledgebase/index.html (License: CC-BY-4.0)\n",
      "- https://www.glencoesoftware.com/products/ngff-converter/ (License: GPL-2.0)\n",
      "- https://github.com/glencoesoftware/bioformats2raw (License: GPL-2.0)\n",
      "- https://github.com/glencoesoftware/raw2ometiff (License: GPL-2.0)\n",
      "- https://www.nature.com/collections/djiciihhjh (License: UNKNOWN)\n",
      "- https://forum.image.sc/t/checklists-for-publishing-images-and-image-analysis/86304 (License: CC0-1.0)\n",
      "- https://workflowhub.eu/ (License: BSD-3-CLAUSE)\n",
      "- https://galaxyproject.org/learn/advanced-workflow/ (License: CC-BY-4.0)\n",
      "- https://galaxy-au-training.github.io/tutorials/modules/workflows/ (License: CC0-1.0)\n",
      "- https://training.galaxyproject.org/ (License: CC-BY-4.0)\n",
      "- https://www.knime.com/community/image-processing (License: GPL-3.0)\n",
      "- https://base4nfdi.de/images/AbstractDMP4NFDI.pdf (License: CC-BY-4.0)\n",
      "- https://www.youtube.com/@OpenMicroscopyEnvironment (License: CC-BY-4.0)\n",
      "- https://www.youtube.com/watch?v=GmhyDNm1RsM (License: YOUTUBE STANDARD LICENSE)\n",
      "- https://github.com/GReD-Clermont/simple-omero-client (License: GPL-2.0)\n",
      "- https://github.com/GReD-Clermont/omero_batch-plugin (License: GPL-2.0)\n",
      "- https://doi.org/10.1016/j.patter.2024.101024 (License: CC-BY-4.0)\n",
      "- https://github.com/NL-BioImaging/biomero (License: APACHE-2.0)\n",
      "- https://github.com/ome/omero-cli-transfer (License: GPL-2.0)\n",
      "- ['https://ome.github.io/ome-ngff-validator/', 'https://github.com/ome/ome-ngff-validator'] (License: BSD-2-CLAUSE)\n",
      "- https://bio-formats.readthedocs.io/en/v8.0.0/users/comlinetools/index.html (License: CC-BY-4.0)\n",
      "- ['https://zenodo.org/records/13928832', 'https://doi.org/10.5281/zenodo.13928832'] (License: CC-BY-4.0)\n",
      "- ['https://zenodo.org/records/13331351', 'https://doi.org/10.5281/zenodo.13331351'] (License: CC-BY-4.0)\n",
      "- https://wiki-biop.epfl.ch/en/data-management/omero/qupath (License: CC-BY-NC-SA-4.0)\n",
      "- ['https://www.nature.com/articles/s41592-024-02334-2', 'https://arxiv.org/abs/2407.19778'] (License: CC-BY-NC-SA)\n",
      "- ['https://zenodo.org/records/14001044', 'https://doi.org/10.5281/zenodo.14001044'] (License: CC-BY-4.0)\n",
      "- https://github.com/qupath/i2k-qupath-for-python-programmers (License: UNKNOWN)\n",
      "- ['https://saalfeldlab.github.io/i2k2024-lazy-workshop/', 'https://github.com/saalfeldlab/i2k2024-lazy-workshop'] (License: APACHE-2.0)\n",
      "- ['https://github.com/royerlab/ultrack-i2k2024', 'https://royerlab.github.io/ultrack-i2k2024/'] (License: BSD3-CLAUSE)\n",
      "- ['https://github.com/BIIFSweden/I2K2024-MTIWorkshop', 'https://docs.google.com/presentation/d/1R9-4lXAmTYuyFZpTMDR85SjnLsPZhVZ8/edit#slide=id.p1'] (License: CC-BY-4.0)\n",
      "- https://github.com/haesleinhuepf/i2k2024-ai-code-generation (License: BSD-3-CLAUSE)\n",
      "- https://github.com/CellMigrationLab/I2K_2024 (License: GPL-3.0)\n",
      "- https://github.com/StRigaud/clesperanto_workshop_I2K24?tab=readme-ov-file (License: BSD-3-CLAUSE)\n",
      "- ['https://timmonko.github.io/napari-ndev/tutorial/01_example_pipeline/', 'https://github.com/timmonko/napari-ndev'] (License: BSD-3-CLAUSE)\n",
      "- ['https://zenodo.org/records/14001388', 'https://doi.org/10.5281/zenodo.14001388'] (License: CC-BY-4.0)\n",
      "- ['https://zenodo.org/records/13831274', 'https://doi.org/10.5281/zenodo.13831274'] (License: CC-BY-4.0)\n",
      "- ['https://zenodo.org/records/13991322', 'https://doi.org/10.5281/zenodo.13991322'] (License: CC-BY-4.0)\n",
      "- ['https://zenodo.org/records/14014252', 'https://doi.org/10.5281/zenodo.14014252'] (License: CC-BY-4.0)\n",
      "- https://www.glencoesoftware.com/media/webinars/ (License: UNKNOWN)\n",
      "- https://f1000research.com/articles/11-638/v2 (License: CC-BY-4.0)\n",
      "- ['https://github.com/m-albert/Virtual-I2K-2024-multiview-stitcher'] (License: BSD-3-CLAUSE)\n",
      "- ['https://zenodo.org/records/14032908', 'https://doi.org/10.5281/zenodo.14032908'] (License: CC-BY-4.0)\n",
      "- ['https://zenodo.org/records/14030307', 'https://doi.org/10.5281/zenodo.14030307'] (License: CC-BY-4.0)\n",
      "- https://github.com/HelmholtzAI-Consultants-Munich/Prompt-Engineering-LLMs-Course (License: MIT)\n",
      "- ['https://zenodo.org/records/14044640', 'https://doi.org/10.5281/zenodo.14044640', 'https://galaxyproject.org/news/2024-11-08-galaxy-imaging-fair-pipelines/'] (License: CC-BY-4.0)\n",
      "- ['https://github.com/vibbits/introduction-to-generative-ai', 'https://liascript.github.io/course/?https://raw.githubusercontent.com/vibbits/introduction-to-generative-ai/refs/heads/main/README.md'] (License: CC-BY-4.0)\n",
      "- ['https://github.com/vibbits/nextflow-workshop', 'https://liascript.github.io/course/?https://raw.githubusercontent.com/vibbits/nextflow-workshop/main/README.md#1'] (License: CC-BY-4.0)\n",
      "- https://forum.image.sc/t/upcoming-image-analysis-events/60018/67 (License: UNKNOWN)\n",
      "- https://github.com/rmassei/ymia_python_event_series_material (License: MIT)\n",
      "- https://github.com/SaibotMagd/RDM_system_connector (License: UNKNOWN)\n",
      "- https://www.ebi.ac.uk/training/online/courses/finding-using-public-data/ (License: CC-BY-4.0)\n",
      "- ['https://zenodo.org/records/14013026', 'https://doi.org/10.5281/zenodo.14013026'] (License: CC-BY-4.0)\n",
      "- https://github.com/deeplife4eu/Lecture-materials/ (License: UNKNOWN)\n",
      "- https://github.com/NEUBIAS/training-resources (License: CC-BY-4.0)\n",
      "- https://git.embl.de/grp-cba/cba-support-template (License: MIT)\n",
      "- https://www.udemy.com/course/docker-mastery/?srsltid=AfmBOornR5gRqOg-4v8Nsap1z24CaPPUPxg8JzyqEGZ6MvW_dh-sf4Af&couponCode=ST2MT110724BNEW (License: UNKNOWN)\n",
      "- https://software-skills.neuroinformatics.dev/index.html (License: CC-BY-4.0)\n",
      "- ['https://www.diataxis.fr/'] (License: CC-BY-SA-4.0)\n",
      "- https://datacarpentry.org/image-processing/key-points.html (License: CC-BY-4.0)\n",
      "- ['https://zenodo.org/records/13680725', 'https://doi.org/10.5281/zenodo.13680725'] (License: CC-BY-4.0)\n",
      "- ['https://zenodo.org/records/5675686', 'https://doi.org/10.5281/zenodo.5675686'] (License: CC-BY-4.0)\n",
      "- ['https://zenodo.org/records/8153907', 'https://doi.org/10.5281/zenodo.8153907'] (License: CC-BY-4.0)\n",
      "- ['https://zenodo.org/records/8305531', 'https://doi.org/10.5281/zenodo.8305531'] (License: CC-BY-4.0)\n",
      "- ['https://zenodo.org/records/1472859', 'https://doi.org/10.5281/zenodo.1472859'] (License: CC-BY-4.0)\n",
      "- https://www.youtube.com/watch?v=TJXNMIWtdac (License: UNKNOWN)\n",
      "- https://www.youtube.com/watch?v=KTdZBgSCYJQ (License: UNKNOWN)\n",
      "- https://metrics-reloaded.dkfz.de/ (License: UNKNOWN)\n",
      "- ['https://zenodo.org/records/8314968', 'https://doi.org/10.5281/zenodo.8314968'] (License: CC-BY-4.0)\n",
      "- ['https://zenodo.org/records/13945179', 'https://doi.org/10.5281/zenodo.13945179'] (License: CC-BY-4.0)\n",
      "- ['https://zenodo.org/records/5847477', 'https://doi.org/10.5281/zenodo.5847477'] (License: CC-BY-4.0)\n",
      "- ['https://zenodo.org/records/10069368', 'https://doi.org/10.5281/zenodo.10069368'] (License: CC-BY-4.0)\n",
      "- ['https://zenodo.org/records/11445843', 'https://doi.org/10.5281/zenodo.11445843'] (License: CC-BY-4.0)\n",
      "- https://github.com/cxli233/Online_R_learning (License: CC0-1.0)\n",
      "- https://github.com/cxli233/FriendsDontLetFriends (License: MIT)\n",
      "- ['https://zenodo.org/records/14178789', 'https://doi.org/10.5281/zenodo.14178789'] (License: CC-BY-4.0)\n",
      "- ['https://zenodo.org/records/14006558', 'https://doi.org/10.5281/zenodo.14006558'] (License: CC-BY-4.0)\n",
      "- ['https://zenodo.org/records/13837146', 'https://doi.org/10.5281/zenodo.13837146'] (License: CC-BY-4.0)\n",
      "- ['https://zenodo.org/records/11503289', 'https://doi.org/10.5281/zenodo.11503289'] (License: CC-BY-4.0)\n",
      "- ['https://zenodo.org/records/13684187', 'https://doi.org/10.5281/zenodo.13684187'] (License: CC-BY-4.0)\n",
      "- ['https://zenodo.org/records/13640979', 'https://doi.org/10.5281/zenodo.13640979'] (License: CC-BY-4.0)\n",
      "- ['https://zenodo.org/records/13380289', 'https://doi.org/10.5281/zenodo.13380289'] (License: CC-BY-4.0)\n",
      "- ['https://zenodo.org/records/12699637', 'https://doi.org/10.5281/zenodo.12699637'] (License: CC-BY-4.0)\n",
      "- ['https://zenodo.org/records/11501662', 'https://doi.org/10.5281/zenodo.11501662'] (License: CC-BY-4.0)\n",
      "- ['https://zenodo.org/records/11350689', 'https://doi.org/10.5281/zenodo.11350689'] (License: CC-BY-4.0)\n",
      "- ['https://zenodo.org/records/11235513', 'https://doi.org/10.5281/zenodo.11235513'] (License: CC-BY-4.0)\n",
      "- ['https://zenodo.org/records/11146807', 'https://doi.org/10.5281/zenodo.11146807'] (License: CC-BY-4.0)\n",
      "- ['https://zenodo.org/records/11031747', 'https://doi.org/10.5281/zenodo.11031747'] (License: CC-BY-4.0)\n",
      "- ['https://zenodo.org/records/10939520', 'https://doi.org/10.5281/zenodo.10939520'] (License: CC-BY-4.0)\n",
      "- ['https://zenodo.org/records/10886750', 'https://doi.org/10.5281/zenodo.10886750'] (License: CC-BY-4.0)\n",
      "- ['https://zenodo.org/records/10808486', 'https://doi.org/10.5281/zenodo.10808486'] (License: CC-BY-4.0)\n",
      "- ['https://zenodo.org/records/10793700', 'https://doi.org/10.5281/zenodo.10793700'] (License: CC-BY-4.0)\n",
      "- ['https://zenodo.org/records/10730424', 'https://doi.org/10.5281/zenodo.10730424'] (License: CC-BY-4.0)\n",
      "- ['https://zenodo.org/records/12546808', 'https://doi.org/10.5281/zenodo.12546808'] (License: CC-BY-4.0)\n",
      "- ['https://zenodo.org/records/7890311', 'https://doi.org/10.5281/zenodo.7890311'] (License: CC-BY-4.0)\n",
      "- ['https://zenodo.org/records/10103316', 'https://doi.org/10.5281/zenodo.10103316'] (License: CC-BY-4.0)\n",
      "- ['https://zenodo.org/records/12547566', 'https://doi.org/10.5281/zenodo.12547566'] (License: CC-BY-4.0)\n",
      "- ['https://zenodo.org/records/14168603', 'https://doi.org/10.5281/zenodo.14168603'] (License: CC-BY-4.0)\n",
      "- ['https://zenodo.org/records/14161633', 'https://doi.org/10.5281/zenodo.14161633'] (License: CC-BY-4.0)\n",
      "- ['https://zenodo.org/records/14161289', 'https://doi.org/10.5281/zenodo.14161289'] (License: CC-BY-4.0)\n",
      "- ['https://zenodo.org/records/14113714', 'https://doi.org/10.5281/zenodo.14113714'] (License: CC-BY-4.0)\n",
      "- ['https://zenodo.org/records/13683167', 'https://doi.org/10.5281/zenodo.13683167'] (License: CC-BY-ND-4.0)\n",
      "- ['https://zenodo.org/records/13736218', 'https://doi.org/10.5281/zenodo.13736218'] (License: CC-BY-ND-4.0)\n",
      "- ['https://zenodo.org/records/13736240', 'https://doi.org/10.5281/zenodo.13736240'] (License: CC-BY-ND-4.0)\n",
      "- ['https://zenodo.org/records/13682928', 'https://doi.org/10.5281/zenodo.13682928'] (License: CC-BY-ND-4.0)\n",
      "- ['https://zenodo.org/records/13807114', 'https://doi.org/10.5281/zenodo.13807114'] (License: CC-BY-4.0)\n",
      "- ['https://zenodo.org/records/13810879', 'https://doi.org/10.5281/zenodo.13810879'] (License: CC-BY-4.0)\n",
      "- ['https://zenodo.org/records/12578084', 'https://doi.org/10.5281/zenodo.12578084'] (License: CC-BY-4.0)\n",
      "- ['https://zenodo.org/records/7944877', 'https://doi.org/10.5281/zenodo.7944877'] (License: CC-BY-4.0)\n",
      "- ['https://zenodo.org/records/7963020', 'https://doi.org/10.5281/zenodo.7963020'] (License: CC-BY-4.0)\n",
      "- ['https://zenodo.org/records/7963006', 'https://doi.org/10.5281/zenodo.7963006'] (License: CC-BY-4.0)\n",
      "- ['https://zenodo.org/records/7945018', 'https://doi.org/10.5281/zenodo.7945018'] (License: CC-BY-4.0)\n",
      "- ['https://zenodo.org/records/12166710', 'https://doi.org/10.5281/zenodo.12166710'] (License: CC-BY-4.0)\n",
      "- ['https://zenodo.org/records/10925217', 'https://doi.org/10.5281/zenodo.10925217'] (License: CC-BY-4.0)\n",
      "- ['https://zenodo.org/records/10889694', 'https://doi.org/10.5281/zenodo.10889694'] (License: CC-BY-4.0)\n",
      "- ['https://zenodo.org/records/10839310', 'https://doi.org/10.5281/zenodo.10839310'] (License: CC-BY-4.0)\n",
      "- ['https://zenodo.org/records/10805204', 'https://doi.org/10.5281/zenodo.10805204'] (License: CC-BY-4.0)\n",
      "- ['https://zenodo.org/records/10796364', 'https://doi.org/10.5281/zenodo.10796364'] (License: CC-BY-4.0)\n",
      "- ['https://zenodo.org/records/10679318', 'https://doi.org/10.5281/zenodo.10679318'] (License: CC-BY-4.0)\n",
      "- ['https://zenodo.org/records/8338931', 'https://doi.org/10.5281/zenodo.8338931'] (License: CC-BY-4.0)\n",
      "- ['https://zenodo.org/records/8182154', 'https://doi.org/10.5281/zenodo.8182154'] (License: CC-BY-4.0)\n",
      "- ['https://zenodo.org/records/8146412', 'https://doi.org/10.5281/zenodo.8146412'] (License: CC-BY-4.0)\n",
      "- ['https://zenodo.org/records/7788899', 'https://doi.org/10.5281/zenodo.7788899'] (License: CC-BY-4.0)\n",
      "- ['https://zenodo.org/records/13739137', 'https://doi.org/10.5281/zenodo.13739137'] (License: CC-BY-4.0)\n",
      "- ['https://zenodo.org/records/10460434', 'https://doi.org/10.5281/zenodo.10460434'] (License: CC-BY-4.0)\n",
      "- ['https://zenodo.org/records/8372703', 'https://doi.org/10.5281/zenodo.8372703'] (License: CC-BY-4.0)\n",
      "- ['https://zenodo.org/records/7919117', 'https://doi.org/10.5281/zenodo.7919117'] (License: CC-BY-4.0)\n",
      "- ['https://zenodo.org/records/7885379', 'https://doi.org/10.5281/zenodo.7885379'] (License: CC-BY-4.0)\n",
      "- ['https://zenodo.org/records/7447491', 'https://doi.org/10.5281/zenodo.7447491'] (License: CC-BY-4.0)\n",
      "- ['https://zenodo.org/records/7409423', 'https://doi.org/10.5281/zenodo.7409423'] (License: CC-BY-4.0)\n",
      "- ['https://zenodo.org/records/7215114', 'https://doi.org/10.5281/zenodo.7215114'] (License: CC-BY-4.0)\n",
      "- ['https://zenodo.org/records/7209862', 'https://doi.org/10.5281/zenodo.7209862'] (License: CC-BY-4.0)\n",
      "- ['https://zenodo.org/records/7015307', 'https://doi.org/10.5281/zenodo.7015307'] (License: CC-BY-4.0)\n",
      "- ['https://zenodo.org/records/6991106', 'https://doi.org/10.5281/zenodo.6991106'] (License: OTHER-OPEN)\n",
      "- ['https://zenodo.org/records/6953610', 'https://doi.org/10.5281/zenodo.6953610'] (License: OTHER-OPEN)\n",
      "- ['https://zenodo.org/records/6834214', 'https://doi.org/10.5281/zenodo.6834214'] (License: CC-BY-4.0)\n",
      "- ['https://zenodo.org/records/6646128', 'https://doi.org/10.5281/zenodo.6646128'] (License: CC-BY-4.0)\n",
      "- ['https://zenodo.org/records/6645978', 'https://doi.org/10.5281/zenodo.6645978'] (License: CC-BY-4.0)\n",
      "- ['https://zenodo.org/records/6554166', 'https://doi.org/10.5281/zenodo.6554166'] (License: CC-BY-4.0)\n",
      "- ['https://zenodo.org/records/6535296', 'https://doi.org/10.5281/zenodo.6535296'] (License: OTHER-AT)\n",
      "- ['https://zenodo.org/records/6523649', 'https://doi.org/10.5281/zenodo.6523649'] (License: CC-BY-4.0)\n",
      "- ['https://zenodo.org/records/6140111', 'https://doi.org/10.5281/zenodo.6140111'] (License: CC-BY-4.0)\n",
      "- ['https://zenodo.org/records/6139958', 'https://doi.org/10.5281/zenodo.6139958'] (License: CC-BY-4.0)\n",
      "- ['https://zenodo.org/records/5996883', 'https://doi.org/10.5281/zenodo.5996883'] (License: CC-BY-4.0)\n",
      "- ['https://zenodo.org/records/6023317', 'https://doi.org/10.5281/zenodo.6023317'] (License: CC-BY-4.0)\n",
      "- ['https://zenodo.org/records/5121890', 'https://doi.org/10.5281/zenodo.5121890'] (License: MIT)\n",
      "- ['https://zenodo.org/records/5101351', 'https://doi.org/10.5281/zenodo.5101351'] (License: CC-BY-4.0)\n",
      "- ['https://zenodo.org/records/13642395', 'https://doi.org/10.5281/zenodo.13642395'] (License: CC0-1.0)\n",
      "- ['https://zenodo.org/records/12773657', 'https://doi.org/10.5281/zenodo.12773657'] (License: CC-BY-4.0)\n",
      "- ['https://zenodo.org/records/11637422', 'https://doi.org/10.5281/zenodo.11637422'] (License: CC-BY-4.0)\n",
      "- ['https://zenodo.org/records/11234863', 'https://doi.org/10.5281/zenodo.11234863'] (License: CC-BY-4.0)\n",
      "- ['https://zenodo.org/records/7018750', 'https://doi.org/10.5281/zenodo.7018750'] (License: CC-BY-4.0)\n",
      "- ['https://zenodo.org/records/14197622', 'https://doi.org/10.5281/zenodo.14197622'] (License: CC-BY-4.0)\n",
      "- ['https://zenodo.org/records/14234608', 'https://doi.org/10.5281/zenodo.14234608'] (License: CC-BY-4.0)\n",
      "- ['https://zenodo.org/records/14235726', 'https://doi.org/10.5281/zenodo.14235726'] (License: CC-BY-4.0)\n",
      "- https://github.com/ome/ome2024-ngff-challenge (License: BSD 3-Clause)\n",
      "- ['https://zenodo.org/records/14278058', 'https://doi.org/10.5281/zenodo.14278058'] (License: cc-by-4.0)\n",
      "- ['https://zenodo.org/records/14287640', 'https://doi.org/10.5281/zenodo.14287640'] (License: cc-by-4.0)\n",
      "- ['https://zenodo.org/records/14281237', 'https://doi.org/10.5281/zenodo.14281237'] (License: cc-by-4.0)\n",
      "- ['https://zenodo.org/records/14268554', 'https://doi.org/10.5281/zenodo.14268554'] (License: cc-by-4.0)\n",
      "- https://github.com/KatherLab/patho_prompt_injection (License: GPL-3.0)\n",
      "- https://github.com/RMS-DAIM/introduction-to-image-analysis (License: cc-by-sa-4.0)\n",
      "- https://github.com/jatkinson1000/rse-skills-workshop (License: GPL-3.0)\n",
      "- ['https://zenodo.org/records/14418209', 'https://doi.org/10.5281/zenodo.14418209'] (License: cc-by-4.0)\n",
      "- ['https://zenodo.org/records/14381522', 'https://doi.org/10.5281/zenodo.14381522'] (License: cc-by-4.0)\n",
      "- ['https://zenodo.org/records/14186101', 'https://doi.org/10.5281/zenodo.14186101'] (License: cc-by-4.0)\n",
      "- ['https://zenodo.org/records/14035822', 'https://doi.org/10.5281/zenodo.14035822'] (License: cc-by-4.0)\n",
      "- ['https://zenodo.org/records/13861026', 'https://doi.org/10.5281/zenodo.13861026'] (License: cc-by-4.0)\n",
      "- ['https://zenodo.org/records/14510432', 'https://doi.org/10.5281/zenodo.14510432'] (License: cc-by-4.0)\n",
      "- ['https://zenodo.org/records/14626054', 'https://doi.org/10.5281/zenodo.14626054'] (License: cc-by-4.0)\n",
      "- https://simplystatistics.org/posts/2024-12-23-biologists-stop-including-umap-plots-in-your-papers/ (License: UNKNOWN)\n",
      "- ['https://zenodo.org/records/7257808', 'https://joachimgoedhart.github.io/DataViz-protocols/'] (License: CC-BY-NC-SA-4.0)\n",
      "- https://thenode.biologists.com/data-visualization-with-flying-colors/research/ (License: UNKNOWN)\n",
      "- https://training.galaxyproject.org/training-material/topics/imaging/tutorials/omero-suite/tutorial.html (License: CC-BY-4.0)\n",
      "- https://focalplane.biologists.com/2024/07/29/dl4miceverywhere-overcoming-reproducibility-challenges-in-deep-learning-microscopy-imaging/ (License: UNKNOWN)\n",
      "- https://www.statnews.com/sponsor/2024/11/26/new-report-highlights-the-scientific-impact-of-open-source-software/ (License: UNKNOWN)\n",
      "- https://training.galaxyproject.org/training-material/topics/imaging/tutorials/detection-of-mitoflashes/tutorial.html#tracking-of-mitochondria-and-capturing-mitoflashes (License: cc-by-4.0)\n",
      "- https://journals.biologists.com/jcs/article/137/20/jcs262139/362478/Making-the-most-of-bioimaging-data-through (License: cc-by-4.0)\n",
      "- https://www.youtube.com/watch?v=Om9tl4Dh2yw (License: UNKNOWN)\n",
      "- https://zenodo.org/records/4778265 (License: CC-BY-4.0)\n",
      "- https://www.youtube.com/playlist?list=PLDcUM9US4XdPz-KxHM4XHt7uUVGWWVSus (License: UNKNOWN)\n",
      "- https://github.com/rmcelreath/stat_rethinking_2024 (License: CC0-1.0)\n",
      "- https://discourse.datamethods.org/t/reference-collection-to-push-back-against-common-statistical-myths/1787 (License: UNKNOWN)\n",
      "- ['https://zenodo.org/records/14264885', 'https://doi.org/10.5281/zenodo.14264885'] (License: cc-by-4.0)\n",
      "- https://github.com/scverse/scanpy-tutorials (License: bsd 3-clause)\n",
      "- ['https://zenodo.org/records/14716546', 'https://doi.org/10.5281/zenodo.14716546'] (License: cc-by-4.0)\n",
      "- ['https://zenodo.org/records/14650434', 'https://doi.org/10.5281/zenodo.14650434'] (License: cc-by-4.0)\n",
      "- ['https://zenodo.org/records/14641777', 'https://doi.org/10.5281/zenodo.14641777'] (License: cc-by-4.0)\n",
      "- ['https://zenodo.org/records/14675120', 'https://doi.org/10.5281/zenodo.14675120'] (License: CC0-1.0)\n",
      "- ['https://zenodo.org/records/14771563', 'https://doi.org/10.5281/zenodo.14771563'] (License: mit-license)\n",
      "- ['https://zenodo.org/records/14692037', 'https://doi.org/10.5281/zenodo.14692037'] (License: cc-by-4.0)\n",
      "- ['https://zenodo.org/records/14777242', 'https://doi.org/10.5281/zenodo.14777242'] (License: cc-by-4.0)\n",
      "- ['https://zenodo.org/records/14769820', 'https://doi.org/10.5281/zenodo.14769820'] (License: cc-by-4.0)\n",
      "- https://github.com/abcucberkeley/Parallel_Fiji_Visualizer (License: BSD 3-Clause \"New\" or \"Revised\" License)\n",
      "- https://github.com/nobias-fht/advanced-scripting (License: BSD 3-Clause \"New\" or \"Revised\" License)\n",
      "- https://github.com/NFDI4BIOIMAGE/omero-vitessce (License: GNU Affero General Public License v3.0)\n",
      "- https://github.com/NFDI4BIOIMAGE/LEO (License: MIT License)\n",
      "- ['https://zenodo.org/records/14729452', 'https://doi.org/10.5281/zenodo.14729452'] (License: cc-by-4.0)\n",
      "- https://github.com/SaibotMagd/dmtxSampleCreator (License: Apache License 2.0)\n",
      "- https://www.youtube.com/c/galaxyproject (License: UNKNOWN)\n",
      "- https://imaging.usegalaxy.eu (License: ['Academic Free License version 3.0', 'Creative Commons Attribution 3.0 (CC BY 3.0) License'])\n",
      "- https://www.denbi.de/online-training-media-library (License: UNKNOWN)\n",
      "- https://cloud.denbi.de/get-started/ (License: UNKNOWN)\n",
      "- https://cloud.denbi.de/wiki/registration/ (License: UNKNOWN)\n",
      "- https://arc-rdm.org/ (License: UNKNOWN)\n",
      "- https://www.youtube.com/@denbi5170 (License: UNKNOWN)\n",
      "- https://www.nature.com/articles/s41587-023-01848-y (License: UNKNOWN)\n",
      "- https://training.galaxyproject.org/training-material/topics/imaging/tutorials/bioimage-REMBI/tutorial.html (License: CC-BY-4.0 International)\n",
      "- https://doi.org/10.5281/zenodo.14767944 (License: CC-BY-4.0 International)\n",
      "- https://www.youtube.com/@globias (License: UNKNOWN)\n",
      "- https://www.globias.org/activities/bia-seminar-series (License: UNKNOWN)\n",
      "- https://github.com/tstoeter/datenbiene (License: GNU General Public License v3.0)\n",
      "- https://github.com/cmohl2013/omero-arc (License: GNU General Public License v3.0)\n",
      "- ['https://zenodo.org/records/14845059', 'https://doi.org/10.5281/zenodo.14845059'] (License: cc-by-4.0)\n",
      "- ['https://zenodo.org/records/14832855', 'https://doi.org/10.5281/zenodo.14832855'] (License: cc-by-4.0)\n",
      "- ['https://zenodo.org/records/13880367', 'https://doi.org/10.5281/zenodo.13880367'] (License: cc-by-4.0)\n",
      "- ['https://zenodo.org/records/14917722', 'https://doi.org/10.5281/zenodo.14917722'] (License: mit-license)\n",
      "- ['https://zenodo.org/records/14913673', 'https://doi.org/10.5281/zenodo.14913673'] (License: bsd-3-clause)\n",
      "- ['https://zenodo.org/records/14893791', 'https://doi.org/10.5281/zenodo.14893791'] (License: cc-by-4.0)\n",
      "- ['https://zenodo.org/records/14053758', 'https://doi.org/10.5281/zenodo.14053758'] (License: cc-by-4.0)\n",
      "- ['https://zenodo.org/records/14043615', 'https://doi.org/10.5281/zenodo.14043615'] (License: cc-by-4.0)\n",
      "- https://github.com/DragaDoncila/napari-scipy2025-workshop (License: BSD 3-Clause \"New\" or \"Revised\" License)\n",
      "- ['https://zenodo.org/records/14937632', 'https://doi.org/10.5281/zenodo.14937632'] (License: cc-by-4.0)\n",
      "- ['https://zenodo.org/records/14944040', 'https://doi.org/10.5281/zenodo.14944040'] (License: cc-by-4.0)\n",
      "- ['https://biapol.github.io/TrendsInMicroscopy_2025/', 'https://github.com/BiAPoL/TrendsInMicroscopy_2025'] (License: Creative Commons Attribution 4.0 International)\n",
      "- ['https://zenodo.org/records/15031842', 'https://doi.org/10.5281/zenodo.15031842'] (License: cc-by-4.0)\n",
      "- ['https://zenodo.org/records/15026373', 'https://doi.org/10.5281/zenodo.15026373'] (License: cc-by-4.0)\n",
      "- ['https://zenodo.org/records/14988921', 'https://doi.org/10.5281/zenodo.14988921'] (License: cc-by-4.0)\n",
      "- ['https://zenodo.org/records/14979253', 'https://doi.org/10.5281/zenodo.14979253'] (License: cc-by-4.0)\n",
      "- ['https://zenodo.org/records/14975462', 'https://doi.org/10.5281/zenodo.14975462'] (License: cc-by-4.0)\n",
      "- ['https://zenodo.org/records/14909526', 'https://doi.org/10.5281/zenodo.14909526'] (License: cc-by-4.0)\n",
      "- ['https://zenodo.org/records/15001649', 'https://doi.org/10.5281/zenodo.15001649'] (License: cc-by-4.0)\n",
      "- ['https://zenodo.org/records/14968770', 'https://doi.org/10.5281/zenodo.14968770'] (License: cc-by-4.0)\n",
      "- ['https://zenodo.org/records/15083018', 'https://doi.org/10.5281/zenodo.15083018'] (License: cc-by-4.0)\n",
      "- ['https://zenodo.org/records/15047849', 'https://doi.org/10.5281/zenodo.15047849'] (License: mit-license)\n",
      "- https://github.com/bioimage-io/bioimageio-chatbot (License: MIT License)\n",
      "- ['https://www.youtube.com/playlist?list=PL0RrV4sTNwh2S9Lb7d1TzJWPGgdw_YVnb', 'https://docs.google.com/document/d/1h-3oJDR7gd_y3tfgN3clPwt2O4g34QRPp_FJ4v2Q7kA/edit?usp=sharing', 'https://www.dropbox.com/scl/fi/7njq2wp680vubt6rwhn5f/ParticipantImages.zip?rlkey=pk3kttbsclk69ixxp1yv9j8p3&dl=0'] (License: CC-BY-4.0)\n",
      "- ['https://zenodo.org/records/15065070', 'https://doi.org/10.5281/zenodo.15065070'] (License: cc-by-4.0)\n",
      "- ['https://zenodo.org/records/15150937', 'https://doi.org/10.5281/zenodo.15150937'] (License: cc-by-4.0)\n",
      "- ['https://zenodo.org/records/15168241', 'https://doi.org/10.5281/zenodo.15168241'] (License: cc-by-4.0)\n",
      "- ['https://zenodo.org/records/14710820', 'https://doi.org/10.5281/zenodo.14710820'] (License: cc-by-4.0)\n",
      "- ['https://zenodo.org/records/15268798', 'https://doi.org/10.5281/zenodo.15268798'] (License: cc-by-4.0)\n",
      "- https://github.com/fefossa/2023_CourseImageAnalysis_NanoCell (License: MIT License)\n",
      "- https://nfdi4bioimage.de/home/ (License: UNKNOWN)\n",
      "- https://zenodo.org/records/8349563 (License: CC-BY-4.0)\n",
      "- https://github.com/NFDI4BIOIMAGE/BHG2023-OMERO-ARC (License: CC-BY-4.0)\n",
      "- https://www.tib-op.org/ojs/index.php/CoRDI/article/view/285 (License: CC-BY-4.0)\n",
      "- https://www.nature.com/articles/d41586-023-03064-9 (License: UNKNOWN)\n",
      "- https://www.tib-op.org/ojs/index.php/CoRDI/article/view/417 (License: CC-BY-4.0)\n",
      "- https://www.scitepress.org/Link.aspx?doi=10.5220/0012808000003756 (License: CC BY-NC-ND 4.0)\n",
      "- https://onlinelibrary.wiley.com/doi/10.1111/jmi.13360 (License: CC-BY-4.0)\n",
      "- https://journals.biologists.com/jcs/article/137/20/jcs262322/362545/The-crucial-role-of-bioimage-analysts-in (License: CC-BY-4.0)\n",
      "- https://arxiv.org/abs/2401.13023 (License: CC-BY-NC-SA-4.0 International)\n",
      "- https://arxiv.org/abs/2401.13022 (License: CC-BY-NC-SA-4.0 International)\n",
      "- https://doi.org/10.5281/zenodo.15373555 (License: cc-by-4.0)\n",
      "- https://training.galaxyproject.org/training-material/topics/imaging/tutorials/multiplex-tissue-imaging-TMA/tutorial.html#end-to-end-tissue-microarray-image-analysis-with-galaxy-me (License: CC-BY-4.0)\n",
      "- http://neuralnetworksanddeeplearning.com (License: CC-BY-NC-3.0 Unported)\n",
      "- https://cs231n.github.io/convolutional-networks/ (License: UNKNOWN)\n",
      "- https://choosealicense.com (License: CC-BY-3.0 Unported)\n",
      "- https://journals.biologists.com/jcs/article/138/7/jcs263801/367617/Practical-considerations-for-data-exploration-in (License: CC-BY-4.0)\n",
      "- https://observablehq.com/blog/effective-animation (License: UNKNOWN)\n",
      "- https://www.youtube.com/watch?v=wAHOPT6lRV0 (License: UNKNOWN)\n",
      "- https://github.com/aicjanelia/BioImagingAI (License: BSD-3-Clause)\n",
      "- https://youtube.com/playlist?list=PLWfaNqiSdtzW_muHrCkwJm9FyovAue-jN&si=-zIXh87DMkAEuJVd (License: UNKNOWN)\n",
      "- https://youtube.com/playlist?list=PLWfaNqiSdtzVkfJW2gO-unAYjcDji7-9i&si=U5gvYtUYvmLHxi0z (License: UNKNOWN)\n",
      "- https://epcced.github.io/20210322-intro-hpc-life-scientists/ (License: CC-BY-4.0)\n",
      "- https://blog.josephscott.org/2007/02/12/things-that-shouldnt-be-in-file-names-for-1000-alex/ (License: UNKNOWN)\n",
      "- https://authors.library.caltech.edu/records/mmnpf-cez11 (License: CC-BY-4.0)\n",
      "- https://www.tdda.info/name-styles (License: UNKNOWN)\n",
      "- https://www.youtube.com/watch?v=o_cAOa5fMhE (License: UNKNOWN)\n",
      "- https://gitlab.in2p3.fr/fbi-data/omero-quay (License: Mozilla Public License 2.0)\n",
      "- ['https://zenodo.org/records/5220610', 'https://doi.org/10.5281/zenodo.5220610'] (License: cc-by-4.0)\n",
      "- ['https://zenodo.org/records/6560910', 'https://doi.org/10.5281/zenodo.6560910'] (License: cc-by-4.0)\n",
      "- ['https://zenodo.org/records/5942575', 'https://doi.org/10.5281/zenodo.5942575'] (License: cc-by-4.0)\n",
      "- ['https://zenodo.org/records/6560759', 'https://doi.org/10.5281/zenodo.6560759'] (License: cc-by-4.0)\n",
      "- ['https://zenodo.org/records/6140064', 'https://doi.org/10.5281/zenodo.6140064'] (License: cc-by-4.0)\n",
      "- ['https://zenodo.org/records/6657260', 'https://doi.org/10.5281/zenodo.6657260'] (License: cc-by-4.0)\n",
      "- ['https://zenodo.org/records/10617532', 'https://doi.org/10.5281/zenodo.10617532'] (License: cc-by-4.0)\n",
      "- ['https://zenodo.org/records/13442128', 'https://doi.org/10.5281/zenodo.13442128'] (License: cc-by-4.0)\n",
      "- ['https://zenodo.org/records/10572200', 'https://doi.org/10.5281/zenodo.10572200'] (License: cc-by-4.0)\n",
      "- ['https://zenodo.org/records/10572122', 'https://doi.org/10.5281/zenodo.10572122'] (License: cc-by-4.0)\n",
      "- ['https://zenodo.org/records/10572231', 'https://doi.org/10.5281/zenodo.10572231'] (License: cc-by-4.0)\n",
      "- ['https://zenodo.org/records/10572310', 'https://doi.org/10.5281/zenodo.10572310'] (License: cc-by-4.0)\n",
      "- ['https://zenodo.org/records/7690494', 'https://doi.org/10.5281/zenodo.7690494'] (License: cc-by-4.0)\n",
      "- ['https://zenodo.org/records/13442877', 'https://doi.org/10.5281/zenodo.13442877'] (License: cc-by-4.0)\n",
      "- ['https://zenodo.org/records/2579118', 'https://doi.org/10.5281/zenodo.2579118'] (License: cc-by-4.0)\n",
      "- ['https://zenodo.org/records/13304399', 'https://doi.org/10.5281/zenodo.13304399'] (License: cc-by-4.0)\n",
      "- ['https://zenodo.org/records/11235393', 'https://doi.org/10.5281/zenodo.11235393'] (License: cc-by-4.0)\n",
      "- ['https://zenodo.org/records/4811213', 'https://doi.org/10.5281/zenodo.4811213'] (License: cc-by-4.0)\n",
      "- ['https://zenodo.org/records/4765599', 'https://doi.org/10.5281/zenodo.4765599'] (License: cc-by-4.0)\n",
      "- ['https://zenodo.org/records/11105050', 'https://doi.org/10.5281/zenodo.11105050'] (License: cc-by-4.0)\n",
      "- ['https://zenodo.org/records/4034939', 'https://doi.org/10.5281/zenodo.4034939'] (License: cc-by-4.0)\n",
      "- ['https://zenodo.org/records/4034976', 'https://doi.org/10.5281/zenodo.4034976'] (License: cc-by-4.0)\n",
      "- ['https://zenodo.org/records/7003909', 'https://doi.org/10.5281/zenodo.7003909'] (License: cc-by-4.0)\n",
      "- ['https://zenodo.org/records/4034929', 'https://doi.org/10.5281/zenodo.4034929'] (License: cc-by-4.0)\n",
      "- ['https://zenodo.org/records/8091914', 'https://doi.org/10.5281/zenodo.8091914'] (License: cc-by-4.0)\n",
      "- ['https://zenodo.org/records/5551009', 'https://doi.org/10.5281/zenodo.5551009'] (License: cc-by-4.0)\n",
      "- ['https://zenodo.org/records/8252039', 'https://doi.org/10.5281/zenodo.8252039'] (License: cc-by-4.0)\n",
      "- ['https://zenodo.org/records/3715492', 'https://doi.org/10.5281/zenodo.3715492'] (License: cc-by-4.0)\n",
      "- ['https://zenodo.org/records/7949940', 'https://doi.org/10.5281/zenodo.7949940'] (License: cc-by-4.0)\n",
      "- ['https://zenodo.org/records/13443221', 'https://doi.org/10.5281/zenodo.13443221'] (License: cc-by-4.0)\n",
      "- ['https://zenodo.org/records/10720439', 'https://doi.org/10.5281/zenodo.10720439'] (License: cc-by-4.0)\n",
      "- ['https://zenodo.org/records/5550933', 'https://doi.org/10.5281/zenodo.5550933'] (License: cc-by-4.0)\n",
      "- ['https://zenodo.org/records/5550968', 'https://doi.org/10.5281/zenodo.5550968'] (License: cc-by-4.0)\n",
      "- ['https://zenodo.org/records/5550935', 'https://doi.org/10.5281/zenodo.5550935'] (License: cc-by-4.0)\n",
      "- ['https://zenodo.org/records/4590066', 'https://doi.org/10.5281/zenodo.4590066'] (License: cc-by-4.0)\n",
      "- ['https://zenodo.org/records/10913446', 'https://doi.org/10.5281/zenodo.10913446'] (License: cc-by-4.0)\n",
      "- ['https://zenodo.org/records/5841376', 'https://doi.org/10.5281/zenodo.5841376'] (License: cc-by-4.0)\n",
      "- ['https://zenodo.org/records/3675220', 'https://doi.org/10.5281/zenodo.3675220'] (License: cc-by-4.0)\n",
      "- ['https://zenodo.org/records/10043461', 'https://doi.org/10.5281/zenodo.10043461'] (License: cc-by-4.0)\n",
      "- ['https://zenodo.org/records/14330011', 'https://doi.org/10.5281/zenodo.14330011'] (License: cc-by-4.0)\n",
      "- ['https://zenodo.org/records/5765648', 'https://doi.org/10.5281/zenodo.5765648'] (License: cc-by-4.0)\n",
      "- ['https://zenodo.org/records/7739793', 'https://doi.org/10.5281/zenodo.7739793'] (License: cc-by-4.0)\n",
      "- ['https://zenodo.org/records/7335439', 'https://doi.org/10.5061/dryad.rxwdbrvct'] (License: cc-zero)\n",
      "- ['https://zenodo.org/records/7041137', 'https://doi.org/10.5281/zenodo.7041137'] (License: cc-by-4.0)\n",
      "- ['https://zenodo.org/records/12656468', 'https://doi.org/10.5281/zenodo.12656468'] (License: cc-by-4.0)\n",
      "- ['https://zenodo.org/records/8188948', 'https://doi.org/10.5281/zenodo.8188948'] (License: cc-by-4.0)\n",
      "- ['https://zenodo.org/records/15370205', 'https://doi.org/10.5281/zenodo.15370205'] (License: cc-zero)\n",
      "- ['https://zenodo.org/records/10719375', 'https://doi.org/10.5281/zenodo.10719375'] (License: cc-by-nc-nd-4.0)\n",
      "- ['https://zenodo.org/records/8065174', 'https://doi.org/10.5281/zenodo.8065174'] (License: cc-by-4.0)\n",
      "- ['https://zenodo.org/records/15050523', 'https://doi.org/10.5281/zenodo.15050523'] (License: cc-zero)\n",
      "- ['https://zenodo.org/records/5979761', 'https://doi.org/10.5281/zenodo.5979761'] (License: cc-by-4.0)\n",
      "- ['https://zenodo.org/records/15423904', 'https://doi.org/10.5281/zenodo.15423904'] (License: cc-by-4.0)\n",
      "- ['https://zenodo.org/records/15152576', 'https://doi.org/10.5281/zenodo.15152576'] (License: cc-by-4.0)\n",
      "- ['https://zenodo.org/records/15425770', 'https://doi.org/10.5281/zenodo.15425770'] (License: cc-by-4.0)\n",
      "- ['https://zenodo.org/records/15314214', 'https://doi.org/10.5281/zenodo.15314214'] (License: cc-by-4.0)\n",
      "- ['https://zenodo.org/records/15353569', 'https://doi.org/10.5281/zenodo.15353569'] (License: cc-by-4.0)\n",
      "- ['https://zenodo.org/records/15546497', 'https://doi.org/10.5281/zenodo.15546497'] (License: cc-by-4.0)\n",
      "- ['https://zenodo.org/records/15379632', 'https://doi.org/10.5281/zenodo.15379632'] (License: cc-by-4.0)\n",
      "- ['https://zenodo.org/records/15165424', 'https://doi.org/10.5281/zenodo.15165424'] (License: cc-by-4.0)\n",
      "- ['https://zenodo.org/records/14996127', 'https://doi.org/10.5281/zenodo.14996127'] (License: cc-by-4.0)\n",
      "- https://bbbc.broadinstitute.org/BBBC005 (License: CC0-1.0)\n",
      "- https://bbbc.broadinstitute.org/BBBC008 (License: CC-BY-NC-SA-3.0)\n",
      "- https://bbbc.broadinstitute.org/BBBC024 (License: CC-BY-3.0)\n",
      "- https://bbbc.broadinstitute.org/BBBC032 (License: CC0-1.0)\n",
      "- https://bbbc.broadinstitute.org/BBBC039 (License: CC0-1.0)\n",
      "- https://bbbc.broadinstitute.org/BBBC006 (License: CC0-1.0)\n",
      "- https://bbbc.broadinstitute.org/BBBC004 (License: CC-BY-NC-SA-3.0)\n",
      "- https://bbbc.broadinstitute.org/BBBC035 (License: CC0-1.0)\n",
      "- https://bbbc.broadinstitute.org/BBBC026 (License: CC-BY-3.0)\n",
      "- https://www.ebi.ac.uk/bioimage-archive/galleries/S-BIAD843-ai.html (License: CC0-1.0)\n",
      "- https://bbbc.broadinstitute.org/BBBC050 (License: CC0-1.0)\n",
      "- https://bbbc.broadinstitute.org/BBBC007 (License: CC0-1.0)\n",
      "- https://www.ebi.ac.uk/bioimage-archive/galleries/S-BIAD634-ai.html (License: CC0-1.0)\n",
      "- https://bbbc.broadinstitute.org/BBBC030 (License: CC-BY-3.0)\n",
      "- https://www.ebi.ac.uk/bioimage-archive/galleries/S-BIAD599-ai.html (License: CC-BY-4.0)\n",
      "- https://janelia.figshare.com/articles/dataset/Ground-truth_cell_body_segmentation_used_for_Starfinity_training/13624268 (License: CC-BY-4.0)\n",
      "- https://www.ebi.ac.uk/bioimage-archive/galleries/S-BIAD686-ai.html (License: CC0-1.0)\n",
      "- https://www.ebi.ac.uk/bioimage-archive/galleries/ai/analysed-dataset/S-BIAD1026/ (License: CC0-1.0)\n",
      "- https://www.ebi.ac.uk/bioimage-archive/galleries/ai/analysed-dataset/S-BIAD1196/ (License: CC-BY-4.0)\n",
      "- https://www.ebi.ac.uk/bioimage-archive/galleries/ai/analysed-dataset/S-BIAD1492/ (License: CC-BY-3.0)\n",
      "- https://www.ebi.ac.uk/bioimage-archive/galleries/ai/analysed-dataset/S-BIAD1518/ (License: CC-BY-4.0)\n",
      "- https://monuseg.grand-challenge.org/Data/ (License: CC-BY-NC-SA-4.0)\n",
      "- https://monusac-2020.grand-challenge.org/Data/ (License: CC-BY-NC-SA-4.0)\n",
      "- https://www.kaggle.com/datasets/ipateam/segmentation-of-nuclei-in-cryosectioned-he-images (License: CC-BY-NC-SA-4.0)\n",
      "- https://www.kaggle.com/datasets/ipateam/nuinsseg (License: CC-BY-4.0)\n",
      "- https://github.com/Shenggan/BCCD_Dataset (License: MIT License)\n",
      "- https://paperswithcode.com/dataset/tnbc (License: CC-BY-4.0)\n",
      "- https://www.cellpose.org/dataset (License: Custom license)\n",
      "- https://github.com/DeepMicroscopy/MIDOG (License: UNLICENSED)\n",
      "- https://github.com/bupt-ai-cz/BALNMP (License: UNLICENSED)\n",
      "- https://www.cancerimagingarchive.net/collection/post-nat-brca/ (License: CC-BY-3.0)\n",
      "- https://github.com/PathologyDataScience/BCSS (License: CC0)\n",
      "- ['https://zenodo.org/records/15575379', 'https://doi.org/10.5281/zenodo.15575379'] (License: cc-by-4.0)\n",
      "- ['https://zenodo.org/records/15393592', 'https://doi.org/10.5281/zenodo.15393592'] (License: cc-by-4.0)\n",
      "- ['https://zenodo.org/records/15479606', 'https://doi.org/10.5281/zenodo.15479606'] (License: cc-by-4.0)\n",
      "- ['https://zenodo.org/records/15493140', 'https://doi.org/10.5281/zenodo.15493140'] (License: cc-by-4.0)\n",
      "- ['https://zenodo.org/records/15579371', 'https://doi.org/10.5281/zenodo.15579371'] (License: cc-by-4.0)\n",
      "- https://github.com/ImagingDataCommons/IDC-Tutorials (License: BSD 3-Clause \"New\" or \"Revised\" License)\n",
      "- ['https://zenodo.org/records/15597856', 'https://doi.org/10.5281/zenodo.15597856'] (License: cc-by-4.0)\n",
      "- ['https://zenodo.org/records/15647102', 'https://doi.org/10.5281/zenodo.15647102'] (License: cc-by-4.0)\n",
      "- ['https://zenodo.org/records/12584729', 'https://doi.org/10.5281/zenodo.12584729'] (License: cc-by-4.0)\n",
      "- ['https://zenodo.org/records/15402904', 'https://doi.org/10.5281/zenodo.15402904'] (License: cc-by-4.0)\n",
      "- ['https://zenodo.org/records/13897937', 'https://doi.org/10.5281/zenodo.13897937'] (License: cc-by-4.0)\n",
      "- ['https://zenodo.org/records/15796252', 'https://doi.org/10.5281/zenodo.15796252'] (License: cc-by-4.0)\n",
      "- ['https://zenodo.org/records/15793536', 'https://doi.org/10.5281/zenodo.15793536'] (License: cc-by-4.0)\n",
      "- ['https://zenodo.org/records/15771899', 'https://doi.org/10.5281/zenodo.15771899'] (License: cc-by-4.0)\n",
      "- ['https://zenodo.org/records/15756866', 'https://doi.org/10.5281/zenodo.15756866'] (License: cc-by-4.0)\n",
      "- ['https://zenodo.org/records/15735577', 'https://doi.org/10.5281/zenodo.15735577'] (License: cc-by-4.0)\n",
      "- ['https://zenodo.org/records/15747344', 'https://doi.org/10.5281/zenodo.15747344'] (License: cc-by-4.0)\n",
      "- ['https://zenodo.org/records/15827771', 'https://doi.org/10.5281/zenodo.15827771'] (License: cc-by-4.0)\n",
      "- ['https://zenodo.org/records/15070246', 'https://doi.org/10.5281/zenodo.15070246'] (License: cc-by-4.0)\n",
      "- https://github.com/fmi-faim/image-processing-basics (License: Apache License 2.0)\n",
      "- https://github.com/HMS-IAC/qupath-workshop (License: Creative Commons Attribution 4.0 International)\n",
      "- ['https://zenodo.org/records/15858127', 'https://doi.org/10.5281/zenodo.15858127'] (License: cc-by-4.0)\n",
      "- ['https://zenodo.org/records/15837532', 'https://doi.org/10.5281/zenodo.15837532'] (License: cc-by-4.0)\n",
      "- ['https://zenodo.org/records/8025067', 'https://doi.org/10.5281/zenodo.8025067'] (License: cc-by-4.0)\n",
      "- ['https://zenodo.org/records/10205578', 'https://doi.org/10.5281/zenodo.10205578'] (License: cc-by-4.0)\n",
      "- ['https://zenodo.org/records/13284351', 'https://doi.org/10.5281/zenodo.13284351'] (License: cc-by-4.0)\n",
      "- ['https://zenodo.org/records/14045172', 'https://doi.org/10.5281/zenodo.14045172'] (License: cc-by-4.0)\n",
      "- ['https://zenodo.org/records/15933943', 'https://doi.org/10.5281/zenodo.15933943'] (License: cc-by-4.0)\n"
     ]
    }
   ],
   "source": [
    "import yaml\n",
    "import requests\n",
    "\n",
    "# Download the YAML file\n",
    "file_url = \"https://raw.githubusercontent.com/NFDI4BIOIMAGE/training/main/resources/nfdi4bioimage.yml\"\n",
    "response = requests.get(file_url)\n",
    "\n",
    "# Parse YAML\n",
    "data = yaml.safe_load(response.content)\n",
    "\n",
    "# Count all entries and those without license\n",
    "total_entries = 0\n",
    "entries_without_license = []\n",
    "entries_with_license = []\n",
    "\n",
    "for entry in data.get(\"resources\", []):\n",
    "    total_entries += 1\n",
    "    if not entry.get(\"license\"):\n",
    "        entries_without_license.append(entry.get(\"url\", \"No URL\"))\n",
    "    else:\n",
    "        entries_with_license.append((entry.get(\"url\", \"No URL\"), entry.get(\"license\")))\n",
    "\n",
    "print(f\"Total entries: {total_entries}\")\n",
    "print(f\"Entries without license: {len(entries_without_license)}\")\n",
    "print(f\"Entries with license: {len(entries_with_license)}\")\n",
    "print(\"\\nEntries without license:\")\n",
    "for url in entries_without_license:\n",
    "    print(f\"- {url}\")\n",
    "print(\"\\nEntries with license:\")\n",
    "for url, license in entries_with_license:\n",
    "    print(f\"- {url} (License: {license})\")\n",
    "\n",
    "\n"
   ]
  },
  {
   "cell_type": "code",
   "execution_count": null,
   "id": "b94e1e26",
   "metadata": {},
   "outputs": [
    {
     "name": "stdout",
     "output_type": "stream",
     "text": [
      "Failed to fetch Zenodo record 14729452, skipping...\n",
      "Failed to fetch Zenodo record 14845059, skipping...\n",
      "Failed to fetch Zenodo record 14832855, skipping...\n",
      "Failed to fetch Zenodo record 13880367, skipping...\n",
      "Failed to fetch Zenodo record 14917722, skipping...\n",
      "Failed to fetch Zenodo record 14913673, skipping...\n",
      "Failed to fetch Zenodo record 14893791, skipping...\n",
      "Failed to fetch Zenodo record 14053758, skipping...\n",
      "Failed to fetch Zenodo record 14043615, skipping...\n",
      "Failed to fetch Zenodo record 14937632, skipping...\n",
      "Failed to fetch Zenodo record 14933318, skipping...\n",
      "Failed to fetch Zenodo record 14944040, skipping...\n",
      "Failed to fetch Zenodo record 15031842, skipping...\n",
      "Failed to fetch Zenodo record 15026373, skipping...\n",
      "Failed to fetch Zenodo record 14988921, skipping...\n",
      "Failed to fetch Zenodo record 14979253, skipping...\n",
      "Failed to fetch Zenodo record 14975462, skipping...\n",
      "Failed to fetch Zenodo record 14909526, skipping...\n",
      "Failed to fetch Zenodo record 15001649, skipping...\n",
      "Failed to fetch Zenodo record 14968770, skipping...\n",
      "Failed to fetch Zenodo record 15083018, skipping...\n",
      "Failed to fetch Zenodo record 15047849, skipping...\n",
      "Failed to fetch Zenodo record 15065070, skipping...\n",
      "Failed to fetch Zenodo record 15150937, skipping...\n",
      "Failed to fetch Zenodo record 15168241, skipping...\n",
      "Failed to fetch Zenodo record 14710820, skipping...\n",
      "Failed to fetch Zenodo record 15268798, skipping...\n",
      "Failed to fetch Zenodo record 15423904, skipping...\n",
      "Failed to fetch Zenodo record 15152576, skipping...\n",
      "Failed to fetch Zenodo record 15425770, skipping...\n",
      "Failed to fetch Zenodo record 15314214, skipping...\n",
      "Failed to fetch Zenodo record 15353569, skipping...\n",
      "Failed to fetch Zenodo record 15546497, skipping...\n",
      "Failed to fetch Zenodo record 15379632, skipping...\n",
      "Failed to fetch Zenodo record 15165424, skipping...\n",
      "Failed to fetch Zenodo record 14996127, skipping...\n",
      "Failed to fetch Zenodo record 15575379, skipping...\n",
      "Failed to fetch Zenodo record 15393592, skipping...\n",
      "Failed to fetch Zenodo record 15479606, skipping...\n",
      "Failed to fetch Zenodo record 15493140, skipping...\n",
      "Failed to fetch Zenodo record 15579371, skipping...\n",
      "Failed to fetch Zenodo record 15597856, skipping...\n",
      "Failed to fetch Zenodo record 15647102, skipping...\n",
      "Failed to fetch Zenodo record 12584729, skipping...\n",
      "Failed to fetch Zenodo record 15402904, skipping...\n",
      "Failed to fetch Zenodo record 13897937, skipping...\n",
      "Failed to fetch Zenodo record 15796252, skipping...\n",
      "Failed to fetch Zenodo record 15793536, skipping...\n",
      "Failed to fetch Zenodo record 15771899, skipping...\n",
      "Failed to fetch Zenodo record 15756866, skipping...\n",
      "Failed to fetch Zenodo record 15735577, skipping...\n",
      "Failed to fetch Zenodo record 15747344, skipping...\n",
      "Failed to fetch Zenodo record 15827771, skipping...\n",
      "Failed to fetch Zenodo record 15070246, skipping...\n",
      "Failed to fetch Zenodo record 15858127, skipping...\n",
      "Failed to fetch Zenodo record 15837532, skipping...\n",
      "Failed to fetch Zenodo record 8025067, skipping...\n",
      "Failed to fetch Zenodo record 10205578, skipping...\n",
      "Failed to fetch Zenodo record 13284351, skipping...\n",
      "Failed to fetch Zenodo record 14045172, skipping...\n",
      "Failed to fetch Zenodo record 15933943, skipping...\n",
      "Total entries: 756\n",
      "Entries with type: 554\n",
      "Entries without type: 202\n",
      "Entries without type that are Zenodo PDF links: 71\n",
      "\n",
      "Entries without type that are Zenodo PDF links:\n",
      "- ['https://zenodo.org/records/13168693', 'https://doi.org/10.5281/zenodo.13168693']\n",
      "- ['https://zenodo.org/records/11318151', 'https://doi.org/10.5281/zenodo.11318151']\n",
      "- ['https://zenodo.org/records/11521029', 'https://doi.org/10.5281/zenodo.11521029']\n",
      "- ['https://zenodo.org/records/13379394', 'https://doi.org/10.5281/zenodo.13379394']\n",
      "- ['https://zenodo.org/records/13371196', 'https://doi.org/10.5281/zenodo.13371196']\n",
      "- ['https://zenodo.org/records/13506641', 'https://doi.org/10.5281/zenodo.13506641']\n",
      "- ['https://zenodo.org/records/11109616', 'https://doi.org/10.5281/zenodo.11109616']\n",
      "- ['https://zenodo.org/records/13908108', 'https://doi.org/10.5281/zenodo.13908108']\n",
      "- ['https://zenodo.org/records/13928832', 'https://doi.org/10.5281/zenodo.13928832']\n",
      "- ['https://zenodo.org/records/13331351', 'https://doi.org/10.5281/zenodo.13331351']\n",
      "- ['https://zenodo.org/records/14001044', 'https://doi.org/10.5281/zenodo.14001044']\n",
      "- ['https://zenodo.org/records/14001388', 'https://doi.org/10.5281/zenodo.14001388']\n",
      "- ['https://zenodo.org/records/13831274', 'https://doi.org/10.5281/zenodo.13831274']\n",
      "- ['https://zenodo.org/records/13991322', 'https://doi.org/10.5281/zenodo.13991322']\n",
      "- ['https://zenodo.org/records/14032908', 'https://doi.org/10.5281/zenodo.14032908']\n",
      "- ['https://zenodo.org/records/14013026', 'https://doi.org/10.5281/zenodo.14013026']\n",
      "- ['https://zenodo.org/records/8314968', 'https://doi.org/10.5281/zenodo.8314968']\n",
      "- ['https://zenodo.org/records/13945179', 'https://doi.org/10.5281/zenodo.13945179']\n",
      "- ['https://zenodo.org/records/10069368', 'https://doi.org/10.5281/zenodo.10069368']\n",
      "- ['https://zenodo.org/records/11445843', 'https://doi.org/10.5281/zenodo.11445843']\n",
      "- ['https://zenodo.org/records/14178789', 'https://doi.org/10.5281/zenodo.14178789']\n",
      "- ['https://zenodo.org/records/14006558', 'https://doi.org/10.5281/zenodo.14006558']\n",
      "- ['https://zenodo.org/records/11503289', 'https://doi.org/10.5281/zenodo.11503289']\n",
      "- ['https://zenodo.org/records/13684187', 'https://doi.org/10.5281/zenodo.13684187']\n",
      "- ['https://zenodo.org/records/13640979', 'https://doi.org/10.5281/zenodo.13640979']\n",
      "- ['https://zenodo.org/records/13380289', 'https://doi.org/10.5281/zenodo.13380289']\n",
      "- ['https://zenodo.org/records/12699637', 'https://doi.org/10.5281/zenodo.12699637']\n",
      "- ['https://zenodo.org/records/11501662', 'https://doi.org/10.5281/zenodo.11501662']\n",
      "- ['https://zenodo.org/records/11350689', 'https://doi.org/10.5281/zenodo.11350689']\n",
      "- ['https://zenodo.org/records/11235513', 'https://doi.org/10.5281/zenodo.11235513']\n",
      "- ['https://zenodo.org/records/11031747', 'https://doi.org/10.5281/zenodo.11031747']\n",
      "- ['https://zenodo.org/records/10939520', 'https://doi.org/10.5281/zenodo.10939520']\n",
      "- ['https://zenodo.org/records/10886750', 'https://doi.org/10.5281/zenodo.10886750']\n",
      "- ['https://zenodo.org/records/10808486', 'https://doi.org/10.5281/zenodo.10808486']\n",
      "- ['https://zenodo.org/records/10730424', 'https://doi.org/10.5281/zenodo.10730424']\n",
      "- ['https://zenodo.org/records/7890311', 'https://doi.org/10.5281/zenodo.7890311']\n",
      "- ['https://zenodo.org/records/10103316', 'https://doi.org/10.5281/zenodo.10103316']\n",
      "- ['https://zenodo.org/records/14168603', 'https://doi.org/10.5281/zenodo.14168603']\n",
      "- ['https://zenodo.org/records/14161633', 'https://doi.org/10.5281/zenodo.14161633']\n",
      "- ['https://zenodo.org/records/13807114', 'https://doi.org/10.5281/zenodo.13807114']\n",
      "- ['https://zenodo.org/records/13810879', 'https://doi.org/10.5281/zenodo.13810879']\n",
      "- ['https://zenodo.org/records/10925217', 'https://doi.org/10.5281/zenodo.10925217']\n",
      "- ['https://zenodo.org/records/10889694', 'https://doi.org/10.5281/zenodo.10889694']\n",
      "- ['https://zenodo.org/records/10839310', 'https://doi.org/10.5281/zenodo.10839310']\n",
      "- ['https://zenodo.org/records/10805204', 'https://doi.org/10.5281/zenodo.10805204']\n",
      "- ['https://zenodo.org/records/10796364', 'https://doi.org/10.5281/zenodo.10796364']\n",
      "- ['https://zenodo.org/records/8338931', 'https://doi.org/10.5281/zenodo.8338931']\n",
      "- ['https://zenodo.org/records/8182154', 'https://doi.org/10.5281/zenodo.8182154']\n",
      "- ['https://zenodo.org/records/8146412', 'https://doi.org/10.5281/zenodo.8146412']\n",
      "- ['https://zenodo.org/records/7788899', 'https://doi.org/10.5281/zenodo.7788899']\n",
      "- ['https://zenodo.org/records/8372703', 'https://doi.org/10.5281/zenodo.8372703']\n",
      "- ['https://zenodo.org/records/7209862', 'https://doi.org/10.5281/zenodo.7209862']\n",
      "- ['https://zenodo.org/records/6834214', 'https://doi.org/10.5281/zenodo.6834214']\n",
      "- ['https://zenodo.org/records/6554166', 'https://doi.org/10.5281/zenodo.6554166']\n",
      "- ['https://zenodo.org/records/6535296', 'https://doi.org/10.5281/zenodo.6535296']\n",
      "- ['https://zenodo.org/records/6523649', 'https://doi.org/10.5281/zenodo.6523649']\n",
      "- ['https://zenodo.org/records/7018750', 'https://doi.org/10.5281/zenodo.7018750']\n",
      "- ['https://zenodo.org/records/6905931', 'https://doi.org/10.5281/zenodo.6905931']\n",
      "- ['https://zenodo.org/records/14234608', 'https://doi.org/10.5281/zenodo.14234608']\n",
      "- ['https://zenodo.org/records/14278058', 'https://doi.org/10.5281/zenodo.14278058']\n",
      "- ['https://zenodo.org/records/14418209', 'https://doi.org/10.5281/zenodo.14418209']\n",
      "- ['https://zenodo.org/records/14381522', 'https://doi.org/10.5281/zenodo.14381522']\n",
      "- ['https://zenodo.org/records/14186101', 'https://doi.org/10.5281/zenodo.14186101']\n",
      "- ['https://zenodo.org/records/14035822', 'https://doi.org/10.5281/zenodo.14035822']\n",
      "- ['https://zenodo.org/records/13861026', 'https://doi.org/10.5281/zenodo.13861026']\n",
      "- ['https://zenodo.org/records/14626054', 'https://doi.org/10.5281/zenodo.14626054']\n",
      "- ['https://zenodo.org/records/14716546', 'https://doi.org/10.5281/zenodo.14716546']\n",
      "- ['https://zenodo.org/records/14650434', 'https://doi.org/10.5281/zenodo.14650434']\n",
      "- ['https://zenodo.org/records/14771563', 'https://doi.org/10.5281/zenodo.14771563']\n",
      "- ['https://zenodo.org/records/14692037', 'https://doi.org/10.5281/zenodo.14692037']\n",
      "- ['https://zenodo.org/records/14792534', 'https://doi.org/10.5281/zenodo.14792534']\n"
     ]
    }
   ],
   "source": [
    "# Count all entries without a 'type' tag and count those that are Zenodo PDF links to actual PDF files\n",
    "#TODO: make sure that pds are slides and not text files\n",
    "from caching import extract_zenodo_ids, get_zenodo_pdfs\n",
    "\n",
    "total_entries = 0\n",
    "entries_without_type = []\n",
    "entries_with_type = []\n",
    "entries_without_type_zenodo_pdf = []\n",
    "test = []\n",
    "\n",
    "for entry in data.get(\"resources\", []):\n",
    "    total_entries += 1\n",
    "    url = entry.get(\"url\", \"No URL\")\n",
    "    if not entry.get(\"type\"):\n",
    "        entries_without_type.append(url)\n",
    "        zenodo_ids = extract_zenodo_ids(url)\n",
    "        if zenodo_ids:\n",
    "            # Check if the Zenodo record has at least one PDF file\n",
    "            for record_id in zenodo_ids:\n",
    "                pdf_files = get_zenodo_pdfs(record_id)\n",
    "                if pdf_files:\n",
    "                    entries_without_type_zenodo_pdf.append(url)\n",
    "                    break\n",
    "    else:\n",
    "        entries_with_type.append((url, entry.get(\"type\")))\n",
    "\n",
    "print(f\"Total entries: {total_entries}\")\n",
    "print(f\"Entries with type: {len(entries_with_type)}\")\n",
    "print(f\"Entries without type: {len(entries_without_type)}\")\n",
    "print(f\"Entries without type that are Zenodo PDF links: {len(entries_without_type_zenodo_pdf)}\")\n",
    "\n",
    "print(\"\\nEntries without type that are Zenodo PDF links:\")\n",
    "for url in entries_without_type_zenodo_pdf:\n",
    "    print(f\"- {url}\")"
   ]
  },
  {
   "cell_type": "code",
   "execution_count": null,
   "id": "91b4700a",
   "metadata": {},
   "outputs": [],
   "source": [
    "# RAW CELL: \n",
    "# try for later \n",
    "# Check for URLs that point directly to a .pdf file\n",
    "# man könnte auch noch abfangen ob von github etc.\n",
    "# if isinstance(url, str) and url.lower().endswith(\".pdf\"):\n",
    "#     entries_without_type_zenodo_pdf.append(url)\n",
    "#     test.append(url)"
   ]
  },
  {
   "cell_type": "markdown",
   "id": "ec3bcad6-2656-42bb-ae8d-77f08c1d5144",
   "metadata": {},
   "source": [
    "### Caching the Embeddings for each Presentation Slide in our Training Material \n",
    "For each Zenodo Record in our Resources \"nfdi4bioimage.yml\" File, we can generate different embeddings (visual, text and mixed). \n",
    "Instead of Calculating it over and over again for different tasks, we can calculate the Embeddings once and store them somewhere (e.g. via Huggingface) to load them again at any time.\n",
    "For now, the Embeddings are stored as a Dataset on Huggingface.\n",
    "\n",
    "To get started, you have to choose between using the free Github Models or your own API key (from OpenAI). For that, adjust the variables __use_gh_models__ and __use_openai__ in the cell below. If neccessary, also edit the name of the API Key (as stored in your environment)."
   ]
  },
  {
   "cell_type": "code",
   "execution_count": 1,
   "id": "09087a00-2e5f-4061-858d-ab8598ae08bb",
   "metadata": {},
   "outputs": [],
   "source": [
    "import sys\n",
    "import os\n",
    "\n",
    "# Add the root directory to sys.path\n",
    "sys.path.append(os.path.abspath(os.path.join(os.getcwd(), '..')))"
   ]
  },
  {
   "cell_type": "code",
   "execution_count": 2,
   "id": "3f93ec02-58ff-4ad8-b63b-1b86b1833bdd",
   "metadata": {},
   "outputs": [
    {
     "data": {
      "application/vnd.jupyter.widget-view+json": {
       "model_id": "076edff8b26c4749bdb8b83d6c9c1741",
       "version_major": 2,
       "version_minor": 0
      },
      "text/plain": [
       "VBox(children=(HTML(value='<center> <img\\nsrc=https://huggingface.co/front/assets/huggingface_logo-noborder.sv…"
      ]
     },
     "metadata": {},
     "output_type": "display_data"
    }
   ],
   "source": [
    "from huggingface_hub import login\n",
    "import os\n",
    "\n",
    "#Authenticate your current session\n",
    "login(token=os.getenv(\"HF_TOKEN\"))"
   ]
  },
  {
   "cell_type": "code",
   "execution_count": null,
   "id": "c63f5c10-134e-429d-9bb0-e99d1a4f9d5a",
   "metadata": {},
   "outputs": [],
   "source": [
    "# Decide on whether to use GH Models or OpenAI API\n",
    "use_gh_models = True\n",
    "use_openai = False\n",
    "\n",
    "if use_gh_models:\n",
    "    token = os.environ[\"GITHUB_TOKEN\"]\n",
    "    \n",
    "if use_openai:\n",
    "    token = os.environ[\"OPENAI_API_KEY\"]"
   ]
  },
  {
   "cell_type": "markdown",
   "id": "93eab5e8-a2c8-4210-8033-888fbab53a6a",
   "metadata": {},
   "source": [
    "1. Create lists of valid licenses to filter out unwanted entries"
   ]
  },
  {
   "cell_type": "code",
   "execution_count": 7,
   "id": "a32d49ab-0439-480f-b688-faa88652174a",
   "metadata": {},
   "outputs": [],
   "source": [
    "valid_licenses = [\n",
    "    'cc-by-3.0',\n",
    "    'mozilla public license 2.0',\n",
    "    'cc0 1.0 universal',\n",
    "    'cc0-1.0',\n",
    "    'apache-2.0',\n",
    "    'bsd 3-clause',\n",
    "    'mit-license',\n",
    "    'odc-by-1.0',\n",
    "    'apache license 2.0',\n",
    "    'cc-by-3.0 unported',\n",
    "    'cc-by-nc-3.0 unported',\n",
    "    'cc0',\n",
    "    'bsd3-clause',\n",
    "    'cc-zero',\n",
    "    'public domain',\n",
    "    'mit license',\n",
    "    'bsd 3-clause \"new\" or \"revised\" license',\n",
    "    'cc0 (mostly, but can differ depending on resource)',\n",
    "    'cc-by-4.0 international',\n",
    "    'bsd-3-clause',\n",
    "    'cc-by-nc-4.0',\n",
    "    'creative commons attribution 4.0 international',\n",
    "    'mit',\n",
    "    'cc-by-4.0',\n",
    "    'bsd-2-clause',\n",
    "    'academic free license version 3.0',\n",
    "    'creative commons attribution 3.0 (cc by 3.0) license',\n",
    "    'cc-by-4.0',\n",
    "    'bsd-3-clause',\n",
    "]"
   ]
  },
  {
   "cell_type": "code",
   "execution_count": 5,
   "id": "43fc0b49-3e6e-40d2-bfba-d12afee93d05",
   "metadata": {},
   "outputs": [],
   "source": [
    "unclear_licenses = ['custom license', 'unlicensed', 'nan', 'none', 'unknown', 'other-open', 'unkown']"
   ]
  },
  {
   "cell_type": "markdown",
   "id": "1455e861-332e-4d24-be00-5d4976df7d9e",
   "metadata": {},
   "source": [
    "2. Load all Zenodo Record IDs from our Training Material"
   ]
  },
  {
   "cell_type": "code",
   "execution_count": 6,
   "id": "5a3f8e4f-a0af-45ce-bf7f-edeb3055230a",
   "metadata": {},
   "outputs": [
    {
     "name": "stderr",
     "output_type": "stream",
     "text": [
      "Using a slow image processor as `use_fast` is unset and a slow processor was saved with this model. `use_fast=True` will be the default behavior in v4.52, even if the model was saved with a slow processor. This will result in minor differences in outputs. You'll still be able to use a slow processor with `use_fast=False`.\n"
     ]
    },
    {
     "name": "stdout",
     "output_type": "stream",
     "text": [
      "File downloaded successfully as nfdi4bioimage.yml\n",
      "Found 39 Zenodo records: ['10008464', '10008465', '10083555', '10654775', '10679054', '10687658', '10793699', '10815329', '10816895', '10886749', '10939519', '10942559', '10970869', '10972692', '10990107', '11031746', '11066250', '11107798', '11265038', '11396199', '11472148', '11474407', '11548617', '12623730', '3778431', '4317149', '4328911', '4330625', '4334697', '4461261', '4630788', '4748510', '4748534', '4778265', '8070038', '8323588', '8329305', '8329306', '8414318']\n"
     ]
    }
   ],
   "source": [
    "from caching import get_zenodo_ids_from_yaml\n",
    "import requests\n",
    "\n",
    "file_url = \"https://raw.githubusercontent.com/NFDI4BIOIMAGE/training/main/resources/nfdi4bioimage.yml\"\n",
    "yaml_file = \"nfdi4bioimage.yml\" \n",
    "response = requests.get(file_url)\n",
    "\n",
    "# Download the current Training Material yaml file from the Git Repository\n",
    "with open(yaml_file, \"wb\") as file:\n",
    "    file.write(response.content)\n",
    "print(f\"File downloaded successfully as {yaml_file}\")\n",
    "\n",
    "# Extract the Zenodo Record IDs\n",
    "zenodo_ids = get_zenodo_ids_from_yaml(yaml_file, valid_licenses, unclear_licenses)\n",
    "print(f\"Found {len(zenodo_ids)} Zenodo records: {zenodo_ids}\")"
   ]
  },
  {
   "cell_type": "markdown",
   "id": "76d7a75b-da13-4fe1-a5ec-8ff916219692",
   "metadata": {},
   "source": [
    "3. Calculate and save all embeddings in a Huggingface Dataset"
   ]
  },
  {
   "cell_type": "code",
   "execution_count": 3,
   "id": "4762e2ce-1064-48c4-a81d-6472515588b7",
   "metadata": {},
   "outputs": [
    {
     "name": "stdout",
     "output_type": "stream",
     "text": [
      "Repository 'haesleinhuepf/SlightInsight_Cache' created.\n",
      "Processing 2023-Moore-N4BI-AHM-Welcome.pdf from Zenodo Record 10008464\n"
     ]
    },
    {
     "data": {
      "application/vnd.jupyter.widget-view+json": {
       "model_id": "b1a2061cf705476ca75c1861d75bfa43",
       "version_major": 2,
       "version_minor": 0
      },
      "text/plain": [
       "Uploading the dataset shards:   0%|          | 0/1 [00:00<?, ?it/s]"
      ]
     },
     "metadata": {},
     "output_type": "display_data"
    },
    {
     "data": {
      "application/vnd.jupyter.widget-view+json": {
       "model_id": "a6ce716e5fa8414e97edac9b8cf9194f",
       "version_major": 2,
       "version_minor": 0
      },
      "text/plain": [
       "Creating parquet from Arrow format:   0%|          | 0/1 [00:00<?, ?ba/s]"
      ]
     },
     "metadata": {},
     "output_type": "display_data"
    },
    {
     "name": "stdout",
     "output_type": "stream",
     "text": [
      "Finished processing Zenodo Record 10008464.\n",
      "Repository 'haesleinhuepf/SlightInsight_Cache' already exists.\n"
     ]
    },
    {
     "data": {
      "application/vnd.jupyter.widget-view+json": {
       "model_id": "0cacc5e449774e1e988e916d4f3c52a8",
       "version_major": 2,
       "version_minor": 0
      },
      "text/plain": [
       "README.md:   0%|          | 0.00/510 [00:00<?, ?B/s]"
      ]
     },
     "metadata": {},
     "output_type": "display_data"
    },
    {
     "name": "stderr",
     "output_type": "stream",
     "text": [
      "C:\\Users\\rober\\miniforge3\\envs\\genai-gpu\\Lib\\site-packages\\huggingface_hub\\file_download.py:139: UserWarning: `huggingface_hub` cache-system uses symlinks by default to efficiently store duplicated files but your machine does not support them in C:\\Users\\rober\\.cache\\huggingface\\hub\\datasets--haesleinhuepf--SlightInsight_Cache. Caching files will still work but in a degraded version that might require more space on your disk. This warning can be disabled by setting the `HF_HUB_DISABLE_SYMLINKS_WARNING` environment variable. For more details, see https://huggingface.co/docs/huggingface_hub/how-to-cache#limitations.\n",
      "To support symlinks on Windows, you either need to activate Developer Mode or to run Python as an administrator. In order to activate developer mode, see this article: https://docs.microsoft.com/en-us/windows/apps/get-started/enable-your-device-for-development\n",
      "  warnings.warn(message)\n"
     ]
    },
    {
     "data": {
      "application/vnd.jupyter.widget-view+json": {
       "model_id": "4be55be00b7f4116ba659a08530d4c74",
       "version_major": 2,
       "version_minor": 0
      },
      "text/plain": [
       "train-00000-of-00001.parquet:   0%|          | 0.00/874k [00:00<?, ?B/s]"
      ]
     },
     "metadata": {},
     "output_type": "display_data"
    },
    {
     "data": {
      "application/vnd.jupyter.widget-view+json": {
       "model_id": "1a960eb147494f2f8248e3cea959460c",
       "version_major": 2,
       "version_minor": 0
      },
      "text/plain": [
       "Generating train split:   0%|          | 0/53 [00:00<?, ? examples/s]"
      ]
     },
     "metadata": {},
     "output_type": "display_data"
    },
    {
     "name": "stdout",
     "output_type": "stream",
     "text": [
      "Processing 2023-Moore-N4BI-AHM-Welcome.pdf from Zenodo Record 10008465\n"
     ]
    },
    {
     "data": {
      "application/vnd.jupyter.widget-view+json": {
       "model_id": "4127541720db440686226c00e2182e75",
       "version_major": 2,
       "version_minor": 0
      },
      "text/plain": [
       "Uploading the dataset shards:   0%|          | 0/1 [00:00<?, ?it/s]"
      ]
     },
     "metadata": {},
     "output_type": "display_data"
    },
    {
     "data": {
      "application/vnd.jupyter.widget-view+json": {
       "model_id": "94e73039003c45938b39a55a41a75d91",
       "version_major": 2,
       "version_minor": 0
      },
      "text/plain": [
       "Creating parquet from Arrow format:   0%|          | 0/1 [00:00<?, ?ba/s]"
      ]
     },
     "metadata": {},
     "output_type": "display_data"
    },
    {
     "name": "stdout",
     "output_type": "stream",
     "text": [
      "Finished processing Zenodo Record 10008465.\n",
      "Repository 'haesleinhuepf/SlightInsight_Cache' already exists.\n"
     ]
    },
    {
     "data": {
      "application/vnd.jupyter.widget-view+json": {
       "model_id": "8c5a096b1b6c4f2ea74192bb1f7f876c",
       "version_major": 2,
       "version_minor": 0
      },
      "text/plain": [
       "README.md:   0%|          | 0.00/514 [00:00<?, ?B/s]"
      ]
     },
     "metadata": {},
     "output_type": "display_data"
    },
    {
     "data": {
      "application/vnd.jupyter.widget-view+json": {
       "model_id": "9afb63b804f847478385084ee5e8ae5f",
       "version_major": 2,
       "version_minor": 0
      },
      "text/plain": [
       "train-00000-of-00001.parquet:   0%|          | 0.00/1.37M [00:00<?, ?B/s]"
      ]
     },
     "metadata": {},
     "output_type": "display_data"
    },
    {
     "data": {
      "application/vnd.jupyter.widget-view+json": {
       "model_id": "a128f76a5a46491fbd92f1c78054efaa",
       "version_major": 2,
       "version_minor": 0
      },
      "text/plain": [
       "Generating train split:   0%|          | 0/106 [00:00<?, ? examples/s]"
      ]
     },
     "metadata": {},
     "output_type": "display_data"
    },
    {
     "name": "stdout",
     "output_type": "stream",
     "text": [
      "Processing Bio-Image_Data_Strudel_TU-Dresden_TP_Workshop_2023.pdf from Zenodo Record 10083555\n"
     ]
    },
    {
     "data": {
      "application/vnd.jupyter.widget-view+json": {
       "model_id": "b5a8b1e16fbc47de9f016ab2d15d0917",
       "version_major": 2,
       "version_minor": 0
      },
      "text/plain": [
       "Uploading the dataset shards:   0%|          | 0/1 [00:00<?, ?it/s]"
      ]
     },
     "metadata": {},
     "output_type": "display_data"
    },
    {
     "data": {
      "application/vnd.jupyter.widget-view+json": {
       "model_id": "47ef3b51f9d54e8e9cc3a9ea3a43dbcd",
       "version_major": 2,
       "version_minor": 0
      },
      "text/plain": [
       "Creating parquet from Arrow format:   0%|          | 0/1 [00:00<?, ?ba/s]"
      ]
     },
     "metadata": {},
     "output_type": "display_data"
    },
    {
     "name": "stdout",
     "output_type": "stream",
     "text": [
      "Finished processing Zenodo Record 10083555.\n",
      "Repository 'haesleinhuepf/SlightInsight_Cache' already exists.\n"
     ]
    },
    {
     "data": {
      "application/vnd.jupyter.widget-view+json": {
       "model_id": "565266fe5dc04ef99d02fd6ce18c75ac",
       "version_major": 2,
       "version_minor": 0
      },
      "text/plain": [
       "README.md:   0%|          | 0.00/514 [00:00<?, ?B/s]"
      ]
     },
     "metadata": {},
     "output_type": "display_data"
    },
    {
     "data": {
      "application/vnd.jupyter.widget-view+json": {
       "model_id": "e3b9a4659eb24c3dacea12b88f4d4a5e",
       "version_major": 2,
       "version_minor": 0
      },
      "text/plain": [
       "train-00000-of-00001.parquet:   0%|          | 0.00/1.52M [00:00<?, ?B/s]"
      ]
     },
     "metadata": {},
     "output_type": "display_data"
    },
    {
     "data": {
      "application/vnd.jupyter.widget-view+json": {
       "model_id": "cf348fc04f60461c96343fccb0d23ed3",
       "version_major": 2,
       "version_minor": 0
      },
      "text/plain": [
       "Generating train split:   0%|          | 0/115 [00:00<?, ? examples/s]"
      ]
     },
     "metadata": {},
     "output_type": "display_data"
    },
    {
     "data": {
      "application/vnd.jupyter.widget-view+json": {
       "model_id": "a35c0467e018413e8e7e3c3dd689d8ae",
       "version_major": 2,
       "version_minor": 0
      },
      "text/plain": [
       "Uploading the dataset shards:   0%|          | 0/1 [00:00<?, ?it/s]"
      ]
     },
     "metadata": {},
     "output_type": "display_data"
    },
    {
     "data": {
      "application/vnd.jupyter.widget-view+json": {
       "model_id": "ea9f21fef9294bc9a4864544ba65a009",
       "version_major": 2,
       "version_minor": 0
      },
      "text/plain": [
       "Creating parquet from Arrow format:   0%|          | 0/1 [00:00<?, ?ba/s]"
      ]
     },
     "metadata": {},
     "output_type": "display_data"
    },
    {
     "name": "stderr",
     "output_type": "stream",
     "text": [
      "No files have been modified since last commit. Skipping to prevent empty commit.\n"
     ]
    },
    {
     "name": "stdout",
     "output_type": "stream",
     "text": [
      "Finished processing Zenodo Record 10654775.\n",
      "Repository 'haesleinhuepf/SlightInsight_Cache' already exists.\n",
      "Processing ECBIA_2024_EF.pdf from Zenodo Record 10679054\n"
     ]
    },
    {
     "data": {
      "application/vnd.jupyter.widget-view+json": {
       "model_id": "db64f4f2568c4132ad7bd13e5f918103",
       "version_major": 2,
       "version_minor": 0
      },
      "text/plain": [
       "Uploading the dataset shards:   0%|          | 0/1 [00:00<?, ?it/s]"
      ]
     },
     "metadata": {},
     "output_type": "display_data"
    },
    {
     "data": {
      "application/vnd.jupyter.widget-view+json": {
       "model_id": "cacc9e0e3eaf4c748bbed6764c94236b",
       "version_major": 2,
       "version_minor": 0
      },
      "text/plain": [
       "Creating parquet from Arrow format:   0%|          | 0/1 [00:00<?, ?ba/s]"
      ]
     },
     "metadata": {},
     "output_type": "display_data"
    },
    {
     "name": "stdout",
     "output_type": "stream",
     "text": [
      "Finished processing Zenodo Record 10679054.\n",
      "Repository 'haesleinhuepf/SlightInsight_Cache' already exists.\n"
     ]
    },
    {
     "data": {
      "application/vnd.jupyter.widget-view+json": {
       "model_id": "53773503f79f4c5499cabc1ba42389d2",
       "version_major": 2,
       "version_minor": 0
      },
      "text/plain": [
       "README.md:   0%|          | 0.00/514 [00:00<?, ?B/s]"
      ]
     },
     "metadata": {},
     "output_type": "display_data"
    },
    {
     "data": {
      "application/vnd.jupyter.widget-view+json": {
       "model_id": "efc0fcf03819485fab746e11ddab962b",
       "version_major": 2,
       "version_minor": 0
      },
      "text/plain": [
       "train-00000-of-00001.parquet:   0%|          | 0.00/1.73M [00:00<?, ?B/s]"
      ]
     },
     "metadata": {},
     "output_type": "display_data"
    },
    {
     "data": {
      "application/vnd.jupyter.widget-view+json": {
       "model_id": "a190f5666e724582be57e2a77980808f",
       "version_major": 2,
       "version_minor": 0
      },
      "text/plain": [
       "Generating train split:   0%|          | 0/126 [00:00<?, ? examples/s]"
      ]
     },
     "metadata": {},
     "output_type": "display_data"
    },
    {
     "name": "stdout",
     "output_type": "stream",
     "text": [
      "Processing SWAT4HCLS_2024_v11.pdf from Zenodo Record 10687658\n"
     ]
    },
    {
     "data": {
      "application/vnd.jupyter.widget-view+json": {
       "model_id": "c1825f0f222d45489737149269c8c9f8",
       "version_major": 2,
       "version_minor": 0
      },
      "text/plain": [
       "Uploading the dataset shards:   0%|          | 0/1 [00:00<?, ?it/s]"
      ]
     },
     "metadata": {},
     "output_type": "display_data"
    },
    {
     "data": {
      "application/vnd.jupyter.widget-view+json": {
       "model_id": "e681f405f004470080102a5e50a220e2",
       "version_major": 2,
       "version_minor": 0
      },
      "text/plain": [
       "Creating parquet from Arrow format:   0%|          | 0/1 [00:00<?, ?ba/s]"
      ]
     },
     "metadata": {},
     "output_type": "display_data"
    },
    {
     "name": "stdout",
     "output_type": "stream",
     "text": [
      "Finished processing Zenodo Record 10687658.\n",
      "Repository 'haesleinhuepf/SlightInsight_Cache' already exists.\n"
     ]
    },
    {
     "data": {
      "application/vnd.jupyter.widget-view+json": {
       "model_id": "5b5c4bf7e14247a18dda5657ea0f63e5",
       "version_major": 2,
       "version_minor": 0
      },
      "text/plain": [
       "README.md:   0%|          | 0.00/514 [00:00<?, ?B/s]"
      ]
     },
     "metadata": {},
     "output_type": "display_data"
    },
    {
     "data": {
      "application/vnd.jupyter.widget-view+json": {
       "model_id": "b6b100585a49444d85e3470461e7e51a",
       "version_major": 2,
       "version_minor": 0
      },
      "text/plain": [
       "train-00000-of-00001.parquet:   0%|          | 0.00/1.74M [00:00<?, ?B/s]"
      ]
     },
     "metadata": {},
     "output_type": "display_data"
    },
    {
     "data": {
      "application/vnd.jupyter.widget-view+json": {
       "model_id": "a19fd490041647ec85b71ef498594ddd",
       "version_major": 2,
       "version_minor": 0
      },
      "text/plain": [
       "Generating train split:   0%|          | 0/127 [00:00<?, ? examples/s]"
      ]
     },
     "metadata": {},
     "output_type": "display_data"
    },
    {
     "data": {
      "application/vnd.jupyter.widget-view+json": {
       "model_id": "7a31675910e5461586084f18d595e0b4",
       "version_major": 2,
       "version_minor": 0
      },
      "text/plain": [
       "Uploading the dataset shards:   0%|          | 0/1 [00:00<?, ?it/s]"
      ]
     },
     "metadata": {},
     "output_type": "display_data"
    },
    {
     "data": {
      "application/vnd.jupyter.widget-view+json": {
       "model_id": "4de38bc085b843ee87190c943add2f45",
       "version_major": 2,
       "version_minor": 0
      },
      "text/plain": [
       "Creating parquet from Arrow format:   0%|          | 0/1 [00:00<?, ?ba/s]"
      ]
     },
     "metadata": {},
     "output_type": "display_data"
    },
    {
     "name": "stderr",
     "output_type": "stream",
     "text": [
      "No files have been modified since last commit. Skipping to prevent empty commit.\n"
     ]
    },
    {
     "name": "stdout",
     "output_type": "stream",
     "text": [
      "Finished processing Zenodo Record 10793699.\n",
      "Repository 'haesleinhuepf/SlightInsight_Cache' already exists.\n",
      "Processing LLMs_BIA_v3.pdf from Zenodo Record 10815329\n"
     ]
    },
    {
     "data": {
      "application/vnd.jupyter.widget-view+json": {
       "model_id": "f4ffddc2313d462c8159d7a26f45a447",
       "version_major": 2,
       "version_minor": 0
      },
      "text/plain": [
       "Uploading the dataset shards:   0%|          | 0/1 [00:00<?, ?it/s]"
      ]
     },
     "metadata": {},
     "output_type": "display_data"
    },
    {
     "data": {
      "application/vnd.jupyter.widget-view+json": {
       "model_id": "2b17826e47a846e1b55b6e39489fb3c7",
       "version_major": 2,
       "version_minor": 0
      },
      "text/plain": [
       "Creating parquet from Arrow format:   0%|          | 0/1 [00:00<?, ?ba/s]"
      ]
     },
     "metadata": {},
     "output_type": "display_data"
    },
    {
     "name": "stdout",
     "output_type": "stream",
     "text": [
      "Finished processing Zenodo Record 10815329.\n",
      "Repository 'haesleinhuepf/SlightInsight_Cache' already exists.\n"
     ]
    },
    {
     "data": {
      "application/vnd.jupyter.widget-view+json": {
       "model_id": "8dacda112d23474d83a80ba4275fd9fa",
       "version_major": 2,
       "version_minor": 0
      },
      "text/plain": [
       "README.md:   0%|          | 0.00/514 [00:00<?, ?B/s]"
      ]
     },
     "metadata": {},
     "output_type": "display_data"
    },
    {
     "data": {
      "application/vnd.jupyter.widget-view+json": {
       "model_id": "914ad5d6c0344a6cb7074dafbb08c3c4",
       "version_major": 2,
       "version_minor": 0
      },
      "text/plain": [
       "train-00000-of-00001.parquet:   0%|          | 0.00/2.64M [00:00<?, ?B/s]"
      ]
     },
     "metadata": {},
     "output_type": "display_data"
    },
    {
     "data": {
      "application/vnd.jupyter.widget-view+json": {
       "model_id": "0f4ae4abb658402b81b0e1fd632a92ce",
       "version_major": 2,
       "version_minor": 0
      },
      "text/plain": [
       "Generating train split:   0%|          | 0/179 [00:00<?, ? examples/s]"
      ]
     },
     "metadata": {},
     "output_type": "display_data"
    },
    {
     "name": "stdout",
     "output_type": "stream",
     "text": [
      "Processing Cultivating Open Training_v3.pdf from Zenodo Record 10816895\n"
     ]
    },
    {
     "data": {
      "application/vnd.jupyter.widget-view+json": {
       "model_id": "4a6ae273c9014ae39f8e1648d6339efc",
       "version_major": 2,
       "version_minor": 0
      },
      "text/plain": [
       "Uploading the dataset shards:   0%|          | 0/1 [00:00<?, ?it/s]"
      ]
     },
     "metadata": {},
     "output_type": "display_data"
    },
    {
     "data": {
      "application/vnd.jupyter.widget-view+json": {
       "model_id": "c99cb573b6c745b48eec61761386c7dc",
       "version_major": 2,
       "version_minor": 0
      },
      "text/plain": [
       "Creating parquet from Arrow format:   0%|          | 0/1 [00:00<?, ?ba/s]"
      ]
     },
     "metadata": {},
     "output_type": "display_data"
    },
    {
     "name": "stdout",
     "output_type": "stream",
     "text": [
      "Finished processing Zenodo Record 10816895.\n",
      "Repository 'haesleinhuepf/SlightInsight_Cache' already exists.\n"
     ]
    },
    {
     "data": {
      "application/vnd.jupyter.widget-view+json": {
       "model_id": "bf531696ea49444aa51128a29178e0d2",
       "version_major": 2,
       "version_minor": 0
      },
      "text/plain": [
       "README.md:   0%|          | 0.00/514 [00:00<?, ?B/s]"
      ]
     },
     "metadata": {},
     "output_type": "display_data"
    },
    {
     "data": {
      "application/vnd.jupyter.widget-view+json": {
       "model_id": "89a44600b926432281b7c758c30b899a",
       "version_major": 2,
       "version_minor": 0
      },
      "text/plain": [
       "train-00000-of-00001.parquet:   0%|          | 0.00/3.27M [00:00<?, ?B/s]"
      ]
     },
     "metadata": {},
     "output_type": "display_data"
    },
    {
     "data": {
      "application/vnd.jupyter.widget-view+json": {
       "model_id": "73588388956c4eedab7338a6f93dcfd3",
       "version_major": 2,
       "version_minor": 0
      },
      "text/plain": [
       "Generating train split:   0%|          | 0/214 [00:00<?, ? examples/s]"
      ]
     },
     "metadata": {},
     "output_type": "display_data"
    },
    {
     "name": "stdout",
     "output_type": "stream",
     "text": [
      "Processing FLIMfit_GerBi-FLIM-2024_Anca Margineanu.pdf from Zenodo Record 10886749\n",
      "Processing FLUTE-software_GerBI-FLIM-2024_Chiara-Stringari.pdf from Zenodo Record 10886749\n",
      "Processing napari-FLIM-phasor-plotter_GerBI-FLIM-2024_Conni-Wetzker+Marcelo-Zoccoler.pdf from Zenodo Record 10886749\n"
     ]
    },
    {
     "data": {
      "application/vnd.jupyter.widget-view+json": {
       "model_id": "3ea20288f98b4a95a42ceaef2a87b502",
       "version_major": 2,
       "version_minor": 0
      },
      "text/plain": [
       "Uploading the dataset shards:   0%|          | 0/1 [00:00<?, ?it/s]"
      ]
     },
     "metadata": {},
     "output_type": "display_data"
    },
    {
     "data": {
      "application/vnd.jupyter.widget-view+json": {
       "model_id": "ad35320a215f4ccaac7f2c1193480c97",
       "version_major": 2,
       "version_minor": 0
      },
      "text/plain": [
       "Creating parquet from Arrow format:   0%|          | 0/1 [00:00<?, ?ba/s]"
      ]
     },
     "metadata": {},
     "output_type": "display_data"
    },
    {
     "name": "stdout",
     "output_type": "stream",
     "text": [
      "Finished processing Zenodo Record 10886749.\n",
      "Repository 'haesleinhuepf/SlightInsight_Cache' already exists.\n"
     ]
    },
    {
     "data": {
      "application/vnd.jupyter.widget-view+json": {
       "model_id": "b5edc8408f5c4f42bc4e07b23ee5c5b8",
       "version_major": 2,
       "version_minor": 0
      },
      "text/plain": [
       "README.md:   0%|          | 0.00/514 [00:00<?, ?B/s]"
      ]
     },
     "metadata": {},
     "output_type": "display_data"
    },
    {
     "data": {
      "application/vnd.jupyter.widget-view+json": {
       "model_id": "4e19eaf7bdf24b0f929cf3ed7eb9fc0f",
       "version_major": 2,
       "version_minor": 0
      },
      "text/plain": [
       "train-00000-of-00001.parquet:   0%|          | 0.00/4.37M [00:00<?, ?B/s]"
      ]
     },
     "metadata": {},
     "output_type": "display_data"
    },
    {
     "data": {
      "application/vnd.jupyter.widget-view+json": {
       "model_id": "002ee80e4279420f85c1677f0390dad9",
       "version_major": 2,
       "version_minor": 0
      },
      "text/plain": [
       "Generating train split:   0%|          | 0/280 [00:00<?, ? examples/s]"
      ]
     },
     "metadata": {},
     "output_type": "display_data"
    },
    {
     "name": "stdout",
     "output_type": "stream",
     "text": [
      "Processing 20240410_NFDI4BIOIMAGE_RDM_Bio-Medicine_Schmidt.pdf from Zenodo Record 10939519\n"
     ]
    },
    {
     "data": {
      "application/vnd.jupyter.widget-view+json": {
       "model_id": "74cad0b0a9394bd9b6fdd9cf1196b854",
       "version_major": 2,
       "version_minor": 0
      },
      "text/plain": [
       "Uploading the dataset shards:   0%|          | 0/1 [00:00<?, ?it/s]"
      ]
     },
     "metadata": {},
     "output_type": "display_data"
    },
    {
     "data": {
      "application/vnd.jupyter.widget-view+json": {
       "model_id": "9d445a545d66495bb428719daa0041a0",
       "version_major": 2,
       "version_minor": 0
      },
      "text/plain": [
       "Creating parquet from Arrow format:   0%|          | 0/1 [00:00<?, ?ba/s]"
      ]
     },
     "metadata": {},
     "output_type": "display_data"
    },
    {
     "name": "stdout",
     "output_type": "stream",
     "text": [
      "Finished processing Zenodo Record 10939519.\n",
      "Repository 'haesleinhuepf/SlightInsight_Cache' already exists.\n"
     ]
    },
    {
     "data": {
      "application/vnd.jupyter.widget-view+json": {
       "model_id": "54d54b7e0b21407bbd60b748ceba0a6d",
       "version_major": 2,
       "version_minor": 0
      },
      "text/plain": [
       "README.md:   0%|          | 0.00/514 [00:00<?, ?B/s]"
      ]
     },
     "metadata": {},
     "output_type": "display_data"
    },
    {
     "data": {
      "application/vnd.jupyter.widget-view+json": {
       "model_id": "54641b97755f4a409b483df6c99a531b",
       "version_major": 2,
       "version_minor": 0
      },
      "text/plain": [
       "train-00000-of-00001.parquet:   0%|          | 0.00/4.50M [00:00<?, ?B/s]"
      ]
     },
     "metadata": {},
     "output_type": "display_data"
    },
    {
     "data": {
      "application/vnd.jupyter.widget-view+json": {
       "model_id": "32fce8d0fd33402eb80ec1bb902b6810",
       "version_major": 2,
       "version_minor": 0
      },
      "text/plain": [
       "Generating train split:   0%|          | 0/289 [00:00<?, ? examples/s]"
      ]
     },
     "metadata": {},
     "output_type": "display_data"
    },
    {
     "name": "stdout",
     "output_type": "stream",
     "text": [
      "Processing Stefano_Della_Chiesa_2nd_SaxFDM-Beratungsstammtisch_v01.pdf from Zenodo Record 10942559\n"
     ]
    },
    {
     "data": {
      "application/vnd.jupyter.widget-view+json": {
       "model_id": "200821bdfc1045cea941d4cd1533815d",
       "version_major": 2,
       "version_minor": 0
      },
      "text/plain": [
       "Uploading the dataset shards:   0%|          | 0/1 [00:00<?, ?it/s]"
      ]
     },
     "metadata": {},
     "output_type": "display_data"
    },
    {
     "data": {
      "application/vnd.jupyter.widget-view+json": {
       "model_id": "8d2c508a8edd4781bd3164865ea83ec4",
       "version_major": 2,
       "version_minor": 0
      },
      "text/plain": [
       "Creating parquet from Arrow format:   0%|          | 0/1 [00:00<?, ?ba/s]"
      ]
     },
     "metadata": {},
     "output_type": "display_data"
    },
    {
     "name": "stdout",
     "output_type": "stream",
     "text": [
      "Finished processing Zenodo Record 10942559.\n",
      "Repository 'haesleinhuepf/SlightInsight_Cache' already exists.\n"
     ]
    },
    {
     "data": {
      "application/vnd.jupyter.widget-view+json": {
       "model_id": "05af620870b84869b7f3f2acb382bc54",
       "version_major": 2,
       "version_minor": 0
      },
      "text/plain": [
       "README.md:   0%|          | 0.00/514 [00:00<?, ?B/s]"
      ]
     },
     "metadata": {},
     "output_type": "display_data"
    },
    {
     "data": {
      "application/vnd.jupyter.widget-view+json": {
       "model_id": "438ba8e1a8ef4b22b9a94d323ab70edf",
       "version_major": 2,
       "version_minor": 0
      },
      "text/plain": [
       "train-00000-of-00001.parquet:   0%|          | 0.00/4.75M [00:00<?, ?B/s]"
      ]
     },
     "metadata": {},
     "output_type": "display_data"
    },
    {
     "data": {
      "application/vnd.jupyter.widget-view+json": {
       "model_id": "9b00efd9b70d41babc35c62ec4361e2d",
       "version_major": 2,
       "version_minor": 0
      },
      "text/plain": [
       "Generating train split:   0%|          | 0/306 [00:00<?, ? examples/s]"
      ]
     },
     "metadata": {},
     "output_type": "display_data"
    },
    {
     "name": "stdout",
     "output_type": "stream",
     "text": [
      "Processing Intro_DM_de.pdf from Zenodo Record 10970869\n"
     ]
    },
    {
     "data": {
      "application/vnd.jupyter.widget-view+json": {
       "model_id": "38186210260042cc9b9239a1bec884d9",
       "version_major": 2,
       "version_minor": 0
      },
      "text/plain": [
       "Uploading the dataset shards:   0%|          | 0/1 [00:00<?, ?it/s]"
      ]
     },
     "metadata": {},
     "output_type": "display_data"
    },
    {
     "data": {
      "application/vnd.jupyter.widget-view+json": {
       "model_id": "2c0d5c35593f46fe9a0d8641bede7022",
       "version_major": 2,
       "version_minor": 0
      },
      "text/plain": [
       "Creating parquet from Arrow format:   0%|          | 0/1 [00:00<?, ?ba/s]"
      ]
     },
     "metadata": {},
     "output_type": "display_data"
    },
    {
     "name": "stdout",
     "output_type": "stream",
     "text": [
      "Finished processing Zenodo Record 10970869.\n",
      "Repository 'haesleinhuepf/SlightInsight_Cache' already exists.\n"
     ]
    },
    {
     "data": {
      "application/vnd.jupyter.widget-view+json": {
       "model_id": "c6b874856ae7416891cd689816446b1b",
       "version_major": 2,
       "version_minor": 0
      },
      "text/plain": [
       "README.md:   0%|          | 0.00/514 [00:00<?, ?B/s]"
      ]
     },
     "metadata": {},
     "output_type": "display_data"
    },
    {
     "data": {
      "application/vnd.jupyter.widget-view+json": {
       "model_id": "229f32b0dad2410ca80dca7d59f3847a",
       "version_major": 2,
       "version_minor": 0
      },
      "text/plain": [
       "train-00000-of-00001.parquet:   0%|          | 0.00/5.19M [00:00<?, ?B/s]"
      ]
     },
     "metadata": {},
     "output_type": "display_data"
    },
    {
     "data": {
      "application/vnd.jupyter.widget-view+json": {
       "model_id": "64f8d8c64623437cbcfd653fca6c3d88",
       "version_major": 2,
       "version_minor": 0
      },
      "text/plain": [
       "Generating train split:   0%|          | 0/338 [00:00<?, ? examples/s]"
      ]
     },
     "metadata": {},
     "output_type": "display_data"
    },
    {
     "name": "stdout",
     "output_type": "stream",
     "text": [
      "Processing DataWeek_git_de.pdf from Zenodo Record 10972692\n"
     ]
    },
    {
     "data": {
      "application/vnd.jupyter.widget-view+json": {
       "model_id": "8c117b5b18b942a1ab5d6aa0391184d0",
       "version_major": 2,
       "version_minor": 0
      },
      "text/plain": [
       "Uploading the dataset shards:   0%|          | 0/1 [00:00<?, ?it/s]"
      ]
     },
     "metadata": {},
     "output_type": "display_data"
    },
    {
     "data": {
      "application/vnd.jupyter.widget-view+json": {
       "model_id": "467907ecbc80474ca408d362dfa1dad2",
       "version_major": 2,
       "version_minor": 0
      },
      "text/plain": [
       "Creating parquet from Arrow format:   0%|          | 0/1 [00:00<?, ?ba/s]"
      ]
     },
     "metadata": {},
     "output_type": "display_data"
    },
    {
     "name": "stdout",
     "output_type": "stream",
     "text": [
      "Finished processing Zenodo Record 10972692.\n",
      "Repository 'haesleinhuepf/SlightInsight_Cache' already exists.\n"
     ]
    },
    {
     "data": {
      "application/vnd.jupyter.widget-view+json": {
       "model_id": "96306e58e3d341e49b3438a15a45ba3b",
       "version_major": 2,
       "version_minor": 0
      },
      "text/plain": [
       "README.md:   0%|          | 0.00/514 [00:00<?, ?B/s]"
      ]
     },
     "metadata": {},
     "output_type": "display_data"
    },
    {
     "data": {
      "application/vnd.jupyter.widget-view+json": {
       "model_id": "b15236d393cd4e5997d94a1b2651cf57",
       "version_major": 2,
       "version_minor": 0
      },
      "text/plain": [
       "train-00000-of-00001.parquet:   0%|          | 0.00/6.04M [00:00<?, ?B/s]"
      ]
     },
     "metadata": {},
     "output_type": "display_data"
    },
    {
     "data": {
      "application/vnd.jupyter.widget-view+json": {
       "model_id": "2ec83cc650d748c299f58c9a17995fcd",
       "version_major": 2,
       "version_minor": 0
      },
      "text/plain": [
       "Generating train split:   0%|          | 0/413 [00:00<?, ? examples/s]"
      ]
     },
     "metadata": {},
     "output_type": "display_data"
    },
    {
     "name": "stdout",
     "output_type": "stream",
     "text": [
      "Processing DataWeek_Sharing+Licensing.pdf from Zenodo Record 10990107\n"
     ]
    },
    {
     "data": {
      "application/vnd.jupyter.widget-view+json": {
       "model_id": "fa7796f9f9f8419e8e4ee22ad127e2d1",
       "version_major": 2,
       "version_minor": 0
      },
      "text/plain": [
       "Uploading the dataset shards:   0%|          | 0/1 [00:00<?, ?it/s]"
      ]
     },
     "metadata": {},
     "output_type": "display_data"
    },
    {
     "data": {
      "application/vnd.jupyter.widget-view+json": {
       "model_id": "eb684ecf0b6e4ed9a8b96f9e43ae0fb2",
       "version_major": 2,
       "version_minor": 0
      },
      "text/plain": [
       "Creating parquet from Arrow format:   0%|          | 0/1 [00:00<?, ?ba/s]"
      ]
     },
     "metadata": {},
     "output_type": "display_data"
    },
    {
     "name": "stdout",
     "output_type": "stream",
     "text": [
      "Finished processing Zenodo Record 10990107.\n",
      "Repository 'haesleinhuepf/SlightInsight_Cache' already exists.\n"
     ]
    },
    {
     "data": {
      "application/vnd.jupyter.widget-view+json": {
       "model_id": "ec831958c98246eaa80e17f071c782a6",
       "version_major": 2,
       "version_minor": 0
      },
      "text/plain": [
       "README.md:   0%|          | 0.00/514 [00:00<?, ?B/s]"
      ]
     },
     "metadata": {},
     "output_type": "display_data"
    },
    {
     "data": {
      "application/vnd.jupyter.widget-view+json": {
       "model_id": "ebb008e0b5be41ef8c2a0f3aa765a9db",
       "version_major": 2,
       "version_minor": 0
      },
      "text/plain": [
       "train-00000-of-00001.parquet:   0%|          | 0.00/7.33M [00:00<?, ?B/s]"
      ]
     },
     "metadata": {},
     "output_type": "display_data"
    },
    {
     "data": {
      "application/vnd.jupyter.widget-view+json": {
       "model_id": "15de1b8378a64e3db3ddefff483386fb",
       "version_major": 2,
       "version_minor": 0
      },
      "text/plain": [
       "Generating train split:   0%|          | 0/527 [00:00<?, ? examples/s]"
      ]
     },
     "metadata": {},
     "output_type": "display_data"
    },
    {
     "name": "stdout",
     "output_type": "stream",
     "text": [
      "Processing nfdi-mpg_bioimage_20240418.pdf from Zenodo Record 11031746\n"
     ]
    },
    {
     "data": {
      "application/vnd.jupyter.widget-view+json": {
       "model_id": "a71958ee83d54cdda146b0ce3d7c0f9b",
       "version_major": 2,
       "version_minor": 0
      },
      "text/plain": [
       "Uploading the dataset shards:   0%|          | 0/1 [00:00<?, ?it/s]"
      ]
     },
     "metadata": {},
     "output_type": "display_data"
    },
    {
     "data": {
      "application/vnd.jupyter.widget-view+json": {
       "model_id": "927302f79ac2434c993589145c30bf6c",
       "version_major": 2,
       "version_minor": 0
      },
      "text/plain": [
       "Creating parquet from Arrow format:   0%|          | 0/1 [00:00<?, ?ba/s]"
      ]
     },
     "metadata": {},
     "output_type": "display_data"
    },
    {
     "name": "stdout",
     "output_type": "stream",
     "text": [
      "Finished processing Zenodo Record 11031746.\n",
      "Repository 'haesleinhuepf/SlightInsight_Cache' already exists.\n"
     ]
    },
    {
     "data": {
      "application/vnd.jupyter.widget-view+json": {
       "model_id": "08b18fb44ffb439980b2f73cb71142e2",
       "version_major": 2,
       "version_minor": 0
      },
      "text/plain": [
       "README.md:   0%|          | 0.00/514 [00:00<?, ?B/s]"
      ]
     },
     "metadata": {},
     "output_type": "display_data"
    },
    {
     "data": {
      "application/vnd.jupyter.widget-view+json": {
       "model_id": "4583e6efc6124ad695a5022e9313fcdb",
       "version_major": 2,
       "version_minor": 0
      },
      "text/plain": [
       "train-00000-of-00001.parquet:   0%|          | 0.00/7.63M [00:00<?, ?B/s]"
      ]
     },
     "metadata": {},
     "output_type": "display_data"
    },
    {
     "data": {
      "application/vnd.jupyter.widget-view+json": {
       "model_id": "663c8a384fb94c5fb7dad0b66a992631",
       "version_major": 2,
       "version_minor": 0
      },
      "text/plain": [
       "Generating train split:   0%|          | 0/553 [00:00<?, ? examples/s]"
      ]
     },
     "metadata": {},
     "output_type": "display_data"
    },
    {
     "name": "stdout",
     "output_type": "stream",
     "text": [
      "Processing Cultivating_open_training_v6.pdf from Zenodo Record 11066250\n"
     ]
    },
    {
     "data": {
      "application/vnd.jupyter.widget-view+json": {
       "model_id": "a8ed59b75fbd4b8aae38ec22882d4bb8",
       "version_major": 2,
       "version_minor": 0
      },
      "text/plain": [
       "Uploading the dataset shards:   0%|          | 0/1 [00:00<?, ?it/s]"
      ]
     },
     "metadata": {},
     "output_type": "display_data"
    },
    {
     "data": {
      "application/vnd.jupyter.widget-view+json": {
       "model_id": "f8be8143a31c496582fe98daa46e6f0b",
       "version_major": 2,
       "version_minor": 0
      },
      "text/plain": [
       "Creating parquet from Arrow format:   0%|          | 0/1 [00:00<?, ?ba/s]"
      ]
     },
     "metadata": {},
     "output_type": "display_data"
    },
    {
     "name": "stdout",
     "output_type": "stream",
     "text": [
      "Finished processing Zenodo Record 11066250.\n",
      "Repository 'haesleinhuepf/SlightInsight_Cache' already exists.\n"
     ]
    },
    {
     "data": {
      "application/vnd.jupyter.widget-view+json": {
       "model_id": "6b665acf597f49a996d352e891a80f61",
       "version_major": 2,
       "version_minor": 0
      },
      "text/plain": [
       "README.md:   0%|          | 0.00/514 [00:00<?, ?B/s]"
      ]
     },
     "metadata": {},
     "output_type": "display_data"
    },
    {
     "data": {
      "application/vnd.jupyter.widget-view+json": {
       "model_id": "8cbe71880b0b4d7e9c709f1871415f7d",
       "version_major": 2,
       "version_minor": 0
      },
      "text/plain": [
       "train-00000-of-00001.parquet:   0%|          | 0.00/7.90M [00:00<?, ?B/s]"
      ]
     },
     "metadata": {},
     "output_type": "display_data"
    },
    {
     "data": {
      "application/vnd.jupyter.widget-view+json": {
       "model_id": "38338f2fb24540729f25b50f053c5246",
       "version_major": 2,
       "version_minor": 0
      },
      "text/plain": [
       "Generating train split:   0%|          | 0/577 [00:00<?, ? examples/s]"
      ]
     },
     "metadata": {},
     "output_type": "display_data"
    },
    {
     "name": "stdout",
     "output_type": "stream",
     "text": [
      "Processing 2024-04-19_data-week_ws-datenorganisation.pdf from Zenodo Record 11107798\n"
     ]
    },
    {
     "data": {
      "application/vnd.jupyter.widget-view+json": {
       "model_id": "c8193b8356d5425e8954da6d17bf7f3e",
       "version_major": 2,
       "version_minor": 0
      },
      "text/plain": [
       "Uploading the dataset shards:   0%|          | 0/1 [00:00<?, ?it/s]"
      ]
     },
     "metadata": {},
     "output_type": "display_data"
    },
    {
     "data": {
      "application/vnd.jupyter.widget-view+json": {
       "model_id": "651647c2e5644c168123f208602222ba",
       "version_major": 2,
       "version_minor": 0
      },
      "text/plain": [
       "Creating parquet from Arrow format:   0%|          | 0/1 [00:00<?, ?ba/s]"
      ]
     },
     "metadata": {},
     "output_type": "display_data"
    },
    {
     "name": "stdout",
     "output_type": "stream",
     "text": [
      "Finished processing Zenodo Record 11107798.\n",
      "Repository 'haesleinhuepf/SlightInsight_Cache' already exists.\n"
     ]
    },
    {
     "data": {
      "application/vnd.jupyter.widget-view+json": {
       "model_id": "52be5753f95745d9b23e6add4a93fb80",
       "version_major": 2,
       "version_minor": 0
      },
      "text/plain": [
       "README.md:   0%|          | 0.00/514 [00:00<?, ?B/s]"
      ]
     },
     "metadata": {},
     "output_type": "display_data"
    },
    {
     "data": {
      "application/vnd.jupyter.widget-view+json": {
       "model_id": "a194e35211ed4f9098fe769c3f836c2f",
       "version_major": 2,
       "version_minor": 0
      },
      "text/plain": [
       "train-00000-of-00001.parquet:   0%|          | 0.00/8.45M [00:00<?, ?B/s]"
      ]
     },
     "metadata": {},
     "output_type": "display_data"
    },
    {
     "data": {
      "application/vnd.jupyter.widget-view+json": {
       "model_id": "2c9cc864a8af45289f911167ba8fece2",
       "version_major": 2,
       "version_minor": 0
      },
      "text/plain": [
       "Generating train split:   0%|          | 0/626 [00:00<?, ? examples/s]"
      ]
     },
     "metadata": {},
     "output_type": "display_data"
    },
    {
     "name": "stdout",
     "output_type": "stream",
     "text": [
      "Processing MICROSAM_TALK_HUMAN_TECHNOPOLE_MAY_24.pdf from Zenodo Record 11265038\n",
      "Processing MICROSAM_TALK_SWISSBIAS_APR_24.pptx.pdf from Zenodo Record 11265038\n"
     ]
    },
    {
     "data": {
      "application/vnd.jupyter.widget-view+json": {
       "model_id": "4e5214e742724b8a8d28150ee16588f1",
       "version_major": 2,
       "version_minor": 0
      },
      "text/plain": [
       "Uploading the dataset shards:   0%|          | 0/1 [00:00<?, ?it/s]"
      ]
     },
     "metadata": {},
     "output_type": "display_data"
    },
    {
     "data": {
      "application/vnd.jupyter.widget-view+json": {
       "model_id": "ec34bf60b03546d0ba3369bae3be721f",
       "version_major": 2,
       "version_minor": 0
      },
      "text/plain": [
       "Creating parquet from Arrow format:   0%|          | 0/1 [00:00<?, ?ba/s]"
      ]
     },
     "metadata": {},
     "output_type": "display_data"
    },
    {
     "name": "stdout",
     "output_type": "stream",
     "text": [
      "Finished processing Zenodo Record 11265038.\n",
      "Repository 'haesleinhuepf/SlightInsight_Cache' already exists.\n"
     ]
    },
    {
     "data": {
      "application/vnd.jupyter.widget-view+json": {
       "model_id": "8cc3fcd8733348dcb5670778ccbc357b",
       "version_major": 2,
       "version_minor": 0
      },
      "text/plain": [
       "README.md:   0%|          | 0.00/515 [00:00<?, ?B/s]"
      ]
     },
     "metadata": {},
     "output_type": "display_data"
    },
    {
     "data": {
      "application/vnd.jupyter.widget-view+json": {
       "model_id": "270ce1020db745a6acafc35de132954f",
       "version_major": 2,
       "version_minor": 0
      },
      "text/plain": [
       "train-00000-of-00001.parquet:   0%|          | 0.00/10.1M [00:00<?, ?B/s]"
      ]
     },
     "metadata": {},
     "output_type": "display_data"
    },
    {
     "data": {
      "application/vnd.jupyter.widget-view+json": {
       "model_id": "bc9186f193bb4254973e012cf3170466",
       "version_major": 2,
       "version_minor": 0
      },
      "text/plain": [
       "Generating train split:   0%|          | 0/770 [00:00<?, ? examples/s]"
      ]
     },
     "metadata": {},
     "output_type": "display_data"
    },
    {
     "name": "stdout",
     "output_type": "stream",
     "text": [
      "Processing 20240528_datenschutz_vertiefungsworkshop.pdf from Zenodo Record 11396199\n"
     ]
    },
    {
     "data": {
      "application/vnd.jupyter.widget-view+json": {
       "model_id": "699d20c24f4f4efe87d970d7e23122e9",
       "version_major": 2,
       "version_minor": 0
      },
      "text/plain": [
       "Uploading the dataset shards:   0%|          | 0/1 [00:00<?, ?it/s]"
      ]
     },
     "metadata": {},
     "output_type": "display_data"
    },
    {
     "data": {
      "application/vnd.jupyter.widget-view+json": {
       "model_id": "72961d392fa046fc882b2aa70659db0e",
       "version_major": 2,
       "version_minor": 0
      },
      "text/plain": [
       "Creating parquet from Arrow format:   0%|          | 0/1 [00:00<?, ?ba/s]"
      ]
     },
     "metadata": {},
     "output_type": "display_data"
    },
    {
     "name": "stdout",
     "output_type": "stream",
     "text": [
      "Finished processing Zenodo Record 11396199.\n",
      "Repository 'haesleinhuepf/SlightInsight_Cache' already exists.\n"
     ]
    },
    {
     "data": {
      "application/vnd.jupyter.widget-view+json": {
       "model_id": "7fa201b2183e4df0ac4f1980e575e3c9",
       "version_major": 2,
       "version_minor": 0
      },
      "text/plain": [
       "README.md:   0%|          | 0.00/517 [00:00<?, ?B/s]"
      ]
     },
     "metadata": {},
     "output_type": "display_data"
    },
    {
     "data": {
      "application/vnd.jupyter.widget-view+json": {
       "model_id": "892fae5a00cc449ebb06b21e7619b0ce",
       "version_major": 2,
       "version_minor": 0
      },
      "text/plain": [
       "train-00000-of-00001.parquet:   0%|          | 0.00/10.6M [00:00<?, ?B/s]"
      ]
     },
     "metadata": {},
     "output_type": "display_data"
    },
    {
     "data": {
      "application/vnd.jupyter.widget-view+json": {
       "model_id": "ba213f43cffc41d58fcfe8381a680602",
       "version_major": 2,
       "version_minor": 0
      },
      "text/plain": [
       "Generating train split:   0%|          | 0/815 [00:00<?, ? examples/s]"
      ]
     },
     "metadata": {},
     "output_type": "display_data"
    },
    {
     "name": "stdout",
     "output_type": "stream",
     "text": [
      "Processing 2024-06-04_FDM-Vertiefungskurs_Urheberrecht.pdf from Zenodo Record 11472148\n"
     ]
    },
    {
     "data": {
      "application/vnd.jupyter.widget-view+json": {
       "model_id": "71702515dbe7404292edf7ed67eef467",
       "version_major": 2,
       "version_minor": 0
      },
      "text/plain": [
       "Uploading the dataset shards:   0%|          | 0/1 [00:00<?, ?it/s]"
      ]
     },
     "metadata": {},
     "output_type": "display_data"
    },
    {
     "data": {
      "application/vnd.jupyter.widget-view+json": {
       "model_id": "c0227a3a0c594184bd0426cfe3952eb5",
       "version_major": 2,
       "version_minor": 0
      },
      "text/plain": [
       "Creating parquet from Arrow format:   0%|          | 0/1 [00:00<?, ?ba/s]"
      ]
     },
     "metadata": {},
     "output_type": "display_data"
    },
    {
     "name": "stdout",
     "output_type": "stream",
     "text": [
      "Finished processing Zenodo Record 11472148.\n",
      "Repository 'haesleinhuepf/SlightInsight_Cache' already exists.\n"
     ]
    },
    {
     "data": {
      "application/vnd.jupyter.widget-view+json": {
       "model_id": "aa92cddd03ba43f8b0a28a9726d95ef4",
       "version_major": 2,
       "version_minor": 0
      },
      "text/plain": [
       "README.md:   0%|          | 0.00/517 [00:00<?, ?B/s]"
      ]
     },
     "metadata": {},
     "output_type": "display_data"
    },
    {
     "data": {
      "application/vnd.jupyter.widget-view+json": {
       "model_id": "b9da0e296675418cbdd741d66b53760d",
       "version_major": 2,
       "version_minor": 0
      },
      "text/plain": [
       "train-00000-of-00001.parquet:   0%|          | 0.00/11.1M [00:00<?, ?B/s]"
      ]
     },
     "metadata": {},
     "output_type": "display_data"
    },
    {
     "data": {
      "application/vnd.jupyter.widget-view+json": {
       "model_id": "fca046a63a854e21881f6f44996063bb",
       "version_major": 2,
       "version_minor": 0
      },
      "text/plain": [
       "Generating train split:   0%|          | 0/856 [00:00<?, ? examples/s]"
      ]
     },
     "metadata": {},
     "output_type": "display_data"
    },
    {
     "name": "stdout",
     "output_type": "stream",
     "text": [
      "Processing GuideToFAIRBioImageData24_practical_tasks.pdf from Zenodo Record 11474407\n"
     ]
    },
    {
     "data": {
      "application/vnd.jupyter.widget-view+json": {
       "model_id": "7e0bbf7a88ab416a8abd8cbb38ad954d",
       "version_major": 2,
       "version_minor": 0
      },
      "text/plain": [
       "Uploading the dataset shards:   0%|          | 0/1 [00:00<?, ?it/s]"
      ]
     },
     "metadata": {},
     "output_type": "display_data"
    },
    {
     "data": {
      "application/vnd.jupyter.widget-view+json": {
       "model_id": "f50deb624dd841c088e4034b0c6bd6a1",
       "version_major": 2,
       "version_minor": 0
      },
      "text/plain": [
       "Creating parquet from Arrow format:   0%|          | 0/1 [00:00<?, ?ba/s]"
      ]
     },
     "metadata": {},
     "output_type": "display_data"
    },
    {
     "name": "stdout",
     "output_type": "stream",
     "text": [
      "Finished processing Zenodo Record 11474407.\n",
      "Repository 'haesleinhuepf/SlightInsight_Cache' already exists.\n"
     ]
    },
    {
     "data": {
      "application/vnd.jupyter.widget-view+json": {
       "model_id": "7ed0b3bbf3554c8ead06a80f94d03f1c",
       "version_major": 2,
       "version_minor": 0
      },
      "text/plain": [
       "README.md:   0%|          | 0.00/517 [00:00<?, ?B/s]"
      ]
     },
     "metadata": {},
     "output_type": "display_data"
    },
    {
     "data": {
      "application/vnd.jupyter.widget-view+json": {
       "model_id": "05d1f6caca5c406a83750b1f6e48395e",
       "version_major": 2,
       "version_minor": 0
      },
      "text/plain": [
       "train-00000-of-00001.parquet:   0%|          | 0.00/11.2M [00:00<?, ?B/s]"
      ]
     },
     "metadata": {},
     "output_type": "display_data"
    },
    {
     "data": {
      "application/vnd.jupyter.widget-view+json": {
       "model_id": "1a68763375aa4a77bb594de00f6e54ec",
       "version_major": 2,
       "version_minor": 0
      },
      "text/plain": [
       "Generating train split:   0%|          | 0/864 [00:00<?, ? examples/s]"
      ]
     },
     "metadata": {},
     "output_type": "display_data"
    },
    {
     "name": "stdout",
     "output_type": "stream",
     "text": [
      "Processing S2-1_Simon_Parker-Research_Data_Protection_and_Data_Sharing_via_GHGA.pdf from Zenodo Record 11548617\n",
      "Processing S3-1_Tom_Boissonnet-Day_To_Day_Image_Data_Management_With_OMERO.pdf from Zenodo Record 11548617\n",
      "Processing S3-2_Riccardo_Massei-Data_Management_of_High_Content_Screening_Data_Using_OMERO.pdf from Zenodo Record 11548617\n",
      "Processing S3-3_Marcelo_Zoccoler-Image_Analysis_with_OMERO.pdf from Zenodo Record 11548617\n",
      "Processing S4-1_Simon_Bekemeier-Electronic-Lab-Notebooks-and-eLabFTW-An-Introduction.pdf from Zenodo Record 11548617\n",
      "Processing S4-2_Luca_Bertinetti_First_Steps_Towards_Effective_Data_Management_in_a_Multidisciplinary_Research_Group_with_eLabFTW.pdf from Zenodo Record 11548617\n",
      "Processing S4-3_Marc_Gentzel_eLabFTW_at_a_Facility.pdf from Zenodo Record 11548617\n",
      "Processing WS_program_and_campus_survey_Conni_Wetzker.pdf from Zenodo Record 11548617\n"
     ]
    },
    {
     "data": {
      "application/vnd.jupyter.widget-view+json": {
       "model_id": "633fd62d61174adbb13ba81e99c3484e",
       "version_major": 2,
       "version_minor": 0
      },
      "text/plain": [
       "Uploading the dataset shards:   0%|          | 0/1 [00:00<?, ?it/s]"
      ]
     },
     "metadata": {},
     "output_type": "display_data"
    },
    {
     "data": {
      "application/vnd.jupyter.widget-view+json": {
       "model_id": "8c98bf0d4426444d912ae46ff97452e5",
       "version_major": 2,
       "version_minor": 0
      },
      "text/plain": [
       "Creating parquet from Arrow format:   0%|          | 0/2 [00:00<?, ?ba/s]"
      ]
     },
     "metadata": {},
     "output_type": "display_data"
    },
    {
     "name": "stdout",
     "output_type": "stream",
     "text": [
      "Finished processing Zenodo Record 11548617.\n",
      "Repository 'haesleinhuepf/SlightInsight_Cache' already exists.\n"
     ]
    },
    {
     "data": {
      "application/vnd.jupyter.widget-view+json": {
       "model_id": "8a75bc880691448587d691e1ea25a7c6",
       "version_major": 2,
       "version_minor": 0
      },
      "text/plain": [
       "README.md:   0%|          | 0.00/518 [00:00<?, ?B/s]"
      ]
     },
     "metadata": {},
     "output_type": "display_data"
    },
    {
     "data": {
      "application/vnd.jupyter.widget-view+json": {
       "model_id": "630d18d9769a42b69efac676c5ad9dec",
       "version_major": 2,
       "version_minor": 0
      },
      "text/plain": [
       "train-00000-of-00001.parquet:   0%|          | 0.00/12.7M [00:00<?, ?B/s]"
      ]
     },
     "metadata": {},
     "output_type": "display_data"
    },
    {
     "data": {
      "application/vnd.jupyter.widget-view+json": {
       "model_id": "412cfcee3ac64e1193c63ee70d6a9127",
       "version_major": 2,
       "version_minor": 0
      },
      "text/plain": [
       "Generating train split:   0%|          | 0/1001 [00:00<?, ? examples/s]"
      ]
     },
     "metadata": {},
     "output_type": "display_data"
    },
    {
     "name": "stdout",
     "output_type": "stream",
     "text": [
      "Processing 01_Introduction_BIDS_2024.pdf from Zenodo Record 12623730\n",
      "Processing 02_Introduction_RDM_2024.pdf from Zenodo Record 12623730\n",
      "Processing 03_RSM_Image_Processing.pdf from Zenodo Record 12623730\n",
      "Processing 04_Image_segmentation.pdf from Zenodo Record 12623730\n",
      "Processing 05_Surface_Recon_QA.pdf from Zenodo Record 12623730\n",
      "Processing 06_Chatbots.pdf from Zenodo Record 12623730\n",
      "Processing 07_distributed_gpu_computing.pdf from Zenodo Record 12623730\n",
      "Processing 08_Sup_Unsup_Machine_Learning.pdf from Zenodo Record 12623730\n",
      "Processing 09_Deep_Learning.pdf from Zenodo Record 12623730\n",
      "Processing 10_function_calling.pdf from Zenodo Record 12623730\n",
      "Processing 11_prompteng_rag_finetuning.pdf from Zenodo Record 12623730\n",
      "Processing 12_Vision_models.pdf from Zenodo Record 12623730\n",
      "Processing 13_quality_assurance.pdf from Zenodo Record 12623730\n",
      "Processing 14_Summary.pdf from Zenodo Record 12623730\n"
     ]
    },
    {
     "data": {
      "application/vnd.jupyter.widget-view+json": {
       "model_id": "82f156609da442e099c4fc02a1ee14ae",
       "version_major": 2,
       "version_minor": 0
      },
      "text/plain": [
       "Uploading the dataset shards:   0%|          | 0/1 [00:00<?, ?it/s]"
      ]
     },
     "metadata": {},
     "output_type": "display_data"
    },
    {
     "data": {
      "application/vnd.jupyter.widget-view+json": {
       "model_id": "c8101d13496343ed9395fe54d9b4b588",
       "version_major": 2,
       "version_minor": 0
      },
      "text/plain": [
       "Creating parquet from Arrow format:   0%|          | 0/2 [00:00<?, ?ba/s]"
      ]
     },
     "metadata": {},
     "output_type": "display_data"
    },
    {
     "name": "stdout",
     "output_type": "stream",
     "text": [
      "Finished processing Zenodo Record 12623730.\n",
      "Repository 'haesleinhuepf/SlightInsight_Cache' already exists.\n"
     ]
    },
    {
     "data": {
      "application/vnd.jupyter.widget-view+json": {
       "model_id": "37c88a6d6e9641f892cd56aa75c59495",
       "version_major": 2,
       "version_minor": 0
      },
      "text/plain": [
       "README.md:   0%|          | 0.00/518 [00:00<?, ?B/s]"
      ]
     },
     "metadata": {},
     "output_type": "display_data"
    },
    {
     "data": {
      "application/vnd.jupyter.widget-view+json": {
       "model_id": "5cf59c43b42b4489a7c9f9fb0ced0a76",
       "version_major": 2,
       "version_minor": 0
      },
      "text/plain": [
       "train-00000-of-00001.parquet:   0%|          | 0.00/24.0M [00:00<?, ?B/s]"
      ]
     },
     "metadata": {},
     "output_type": "display_data"
    },
    {
     "data": {
      "application/vnd.jupyter.widget-view+json": {
       "model_id": "43ec6ca082934713b48a9673f69513a8",
       "version_major": 2,
       "version_minor": 0
      },
      "text/plain": [
       "Generating train split:   0%|          | 0/1864 [00:00<?, ? examples/s]"
      ]
     },
     "metadata": {},
     "output_type": "display_data"
    },
    {
     "name": "stdout",
     "output_type": "stream",
     "text": [
      "Processing CrashkursFDM_UniLeipzig_20200430.pdf from Zenodo Record 3778431\n",
      "Processing CrashkursFDM_UniLeipzig_Uebungen_20200430.pdf from Zenodo Record 3778431\n"
     ]
    },
    {
     "data": {
      "application/vnd.jupyter.widget-view+json": {
       "model_id": "3c58dcefeb3a45218b2d5178ce288755",
       "version_major": 2,
       "version_minor": 0
      },
      "text/plain": [
       "Uploading the dataset shards:   0%|          | 0/1 [00:00<?, ?it/s]"
      ]
     },
     "metadata": {},
     "output_type": "display_data"
    },
    {
     "data": {
      "application/vnd.jupyter.widget-view+json": {
       "model_id": "3e463da0aad8462895a96491b190de11",
       "version_major": 2,
       "version_minor": 0
      },
      "text/plain": [
       "Creating parquet from Arrow format:   0%|          | 0/3 [00:00<?, ?ba/s]"
      ]
     },
     "metadata": {},
     "output_type": "display_data"
    },
    {
     "name": "stdout",
     "output_type": "stream",
     "text": [
      "Finished processing Zenodo Record 3778431.\n",
      "Repository 'haesleinhuepf/SlightInsight_Cache' already exists.\n"
     ]
    },
    {
     "data": {
      "application/vnd.jupyter.widget-view+json": {
       "model_id": "3bbc5efbcff648d58a972898fdda1d5d",
       "version_major": 2,
       "version_minor": 0
      },
      "text/plain": [
       "README.md:   0%|          | 0.00/518 [00:00<?, ?B/s]"
      ]
     },
     "metadata": {},
     "output_type": "display_data"
    },
    {
     "data": {
      "application/vnd.jupyter.widget-view+json": {
       "model_id": "07bb3b33f8ae4a16b63837631a6622e1",
       "version_major": 2,
       "version_minor": 0
      },
      "text/plain": [
       "train-00000-of-00001.parquet:   0%|          | 0.00/26.2M [00:00<?, ?B/s]"
      ]
     },
     "metadata": {},
     "output_type": "display_data"
    },
    {
     "data": {
      "application/vnd.jupyter.widget-view+json": {
       "model_id": "696373ba8fef4708b14b3f21c0715943",
       "version_major": 2,
       "version_minor": 0
      },
      "text/plain": [
       "Generating train split:   0%|          | 0/2038 [00:00<?, ? examples/s]"
      ]
     },
     "metadata": {},
     "output_type": "display_data"
    },
    {
     "name": "stdout",
     "output_type": "stream",
     "text": [
      "Processing Creating Open Computational Curricula - CZI EOSS Meeting Dec 2020.pdf from Zenodo Record 4317149\n"
     ]
    },
    {
     "data": {
      "application/vnd.jupyter.widget-view+json": {
       "model_id": "6afdeddadae8402d9ef3472c3c0a9a6d",
       "version_major": 2,
       "version_minor": 0
      },
      "text/plain": [
       "Uploading the dataset shards:   0%|          | 0/1 [00:00<?, ?it/s]"
      ]
     },
     "metadata": {},
     "output_type": "display_data"
    },
    {
     "data": {
      "application/vnd.jupyter.widget-view+json": {
       "model_id": "2c22f2c639bf4793b0311ebd544b5c17",
       "version_major": 2,
       "version_minor": 0
      },
      "text/plain": [
       "Creating parquet from Arrow format:   0%|          | 0/3 [00:00<?, ?ba/s]"
      ]
     },
     "metadata": {},
     "output_type": "display_data"
    },
    {
     "name": "stdout",
     "output_type": "stream",
     "text": [
      "Finished processing Zenodo Record 4317149.\n",
      "Repository 'haesleinhuepf/SlightInsight_Cache' already exists.\n"
     ]
    },
    {
     "data": {
      "application/vnd.jupyter.widget-view+json": {
       "model_id": "dda42d6c7bdf4d56be2e0153e6662f86",
       "version_major": 2,
       "version_minor": 0
      },
      "text/plain": [
       "README.md:   0%|          | 0.00/518 [00:00<?, ?B/s]"
      ]
     },
     "metadata": {},
     "output_type": "display_data"
    },
    {
     "data": {
      "application/vnd.jupyter.widget-view+json": {
       "model_id": "f0b98a89dd6946c78345dd84587febb3",
       "version_major": 2,
       "version_minor": 0
      },
      "text/plain": [
       "train-00000-of-00001.parquet:   0%|          | 0.00/26.6M [00:00<?, ?B/s]"
      ]
     },
     "metadata": {},
     "output_type": "display_data"
    },
    {
     "data": {
      "application/vnd.jupyter.widget-view+json": {
       "model_id": "7252cbc544c94d6dae86080604ef496b",
       "version_major": 2,
       "version_minor": 0
      },
      "text/plain": [
       "Generating train split:   0%|          | 0/2062 [00:00<?, ? examples/s]"
      ]
     },
     "metadata": {},
     "output_type": "display_data"
    },
    {
     "name": "stdout",
     "output_type": "stream",
     "text": [
      "Processing 2020-12 QuPath-CZI (Compressed).pdf from Zenodo Record 4328911\n"
     ]
    },
    {
     "data": {
      "application/vnd.jupyter.widget-view+json": {
       "model_id": "66ef30b4500d4f1a9513509df2f422de",
       "version_major": 2,
       "version_minor": 0
      },
      "text/plain": [
       "Uploading the dataset shards:   0%|          | 0/1 [00:00<?, ?it/s]"
      ]
     },
     "metadata": {},
     "output_type": "display_data"
    },
    {
     "data": {
      "application/vnd.jupyter.widget-view+json": {
       "model_id": "64d84a35e9ae4f569dd31d8e6562e6a3",
       "version_major": 2,
       "version_minor": 0
      },
      "text/plain": [
       "Creating parquet from Arrow format:   0%|          | 0/3 [00:00<?, ?ba/s]"
      ]
     },
     "metadata": {},
     "output_type": "display_data"
    },
    {
     "name": "stdout",
     "output_type": "stream",
     "text": [
      "Finished processing Zenodo Record 4328911.\n",
      "Repository 'haesleinhuepf/SlightInsight_Cache' already exists.\n"
     ]
    },
    {
     "data": {
      "application/vnd.jupyter.widget-view+json": {
       "model_id": "1453e169493142c6b355779f3407caf2",
       "version_major": 2,
       "version_minor": 0
      },
      "text/plain": [
       "README.md:   0%|          | 0.00/518 [00:00<?, ?B/s]"
      ]
     },
     "metadata": {},
     "output_type": "display_data"
    },
    {
     "data": {
      "application/vnd.jupyter.widget-view+json": {
       "model_id": "be5a3f6ac7a64e4eb2dde08bc60dd90e",
       "version_major": 2,
       "version_minor": 0
      },
      "text/plain": [
       "train-00000-of-00001.parquet:   0%|          | 0.00/27.4M [00:00<?, ?B/s]"
      ]
     },
     "metadata": {},
     "output_type": "display_data"
    },
    {
     "data": {
      "application/vnd.jupyter.widget-view+json": {
       "model_id": "a66961a6fd5d4c119018905e339d82c2",
       "version_major": 2,
       "version_minor": 0
      },
      "text/plain": [
       "Generating train split:   0%|          | 0/2108 [00:00<?, ? examples/s]"
      ]
     },
     "metadata": {},
     "output_type": "display_data"
    },
    {
     "data": {
      "application/vnd.jupyter.widget-view+json": {
       "model_id": "d2884c344ffd459b8f3132e3dc27d541",
       "version_major": 2,
       "version_minor": 0
      },
      "text/plain": [
       "Uploading the dataset shards:   0%|          | 0/1 [00:00<?, ?it/s]"
      ]
     },
     "metadata": {},
     "output_type": "display_data"
    },
    {
     "data": {
      "application/vnd.jupyter.widget-view+json": {
       "model_id": "ce58f7018b7348b0831d8510c1dcdb8f",
       "version_major": 2,
       "version_minor": 0
      },
      "text/plain": [
       "Creating parquet from Arrow format:   0%|          | 0/3 [00:00<?, ?ba/s]"
      ]
     },
     "metadata": {},
     "output_type": "display_data"
    },
    {
     "name": "stderr",
     "output_type": "stream",
     "text": [
      "No files have been modified since last commit. Skipping to prevent empty commit.\n"
     ]
    },
    {
     "name": "stdout",
     "output_type": "stream",
     "text": [
      "Finished processing Zenodo Record 4330625.\n",
      "Repository 'haesleinhuepf/SlightInsight_Cache' already exists.\n",
      "Processing Nextflow CZI EOSS 2020.pdf from Zenodo Record 4334697\n"
     ]
    },
    {
     "data": {
      "application/vnd.jupyter.widget-view+json": {
       "model_id": "7598f52cdf9240ae8bc3f63e1bf3c835",
       "version_major": 2,
       "version_minor": 0
      },
      "text/plain": [
       "Uploading the dataset shards:   0%|          | 0/1 [00:00<?, ?it/s]"
      ]
     },
     "metadata": {},
     "output_type": "display_data"
    },
    {
     "data": {
      "application/vnd.jupyter.widget-view+json": {
       "model_id": "6bac0a4376f54051833aab614da13e3e",
       "version_major": 2,
       "version_minor": 0
      },
      "text/plain": [
       "Creating parquet from Arrow format:   0%|          | 0/3 [00:00<?, ?ba/s]"
      ]
     },
     "metadata": {},
     "output_type": "display_data"
    },
    {
     "name": "stdout",
     "output_type": "stream",
     "text": [
      "Finished processing Zenodo Record 4334697.\n",
      "Repository 'haesleinhuepf/SlightInsight_Cache' already exists.\n"
     ]
    },
    {
     "data": {
      "application/vnd.jupyter.widget-view+json": {
       "model_id": "f145a099d7de426ab49714689055c7d0",
       "version_major": 2,
       "version_minor": 0
      },
      "text/plain": [
       "README.md:   0%|          | 0.00/518 [00:00<?, ?B/s]"
      ]
     },
     "metadata": {},
     "output_type": "display_data"
    },
    {
     "data": {
      "application/vnd.jupyter.widget-view+json": {
       "model_id": "cb636fb995b442148bf9c0bcfab5e1c0",
       "version_major": 2,
       "version_minor": 0
      },
      "text/plain": [
       "train-00000-of-00001.parquet:   0%|          | 0.00/27.8M [00:00<?, ?B/s]"
      ]
     },
     "metadata": {},
     "output_type": "display_data"
    },
    {
     "data": {
      "application/vnd.jupyter.widget-view+json": {
       "model_id": "a97ec00c9aa847f3b54481c695cbf853",
       "version_major": 2,
       "version_minor": 0
      },
      "text/plain": [
       "Generating train split:   0%|          | 0/2135 [00:00<?, ? examples/s]"
      ]
     },
     "metadata": {},
     "output_type": "display_data"
    },
    {
     "name": "stdout",
     "output_type": "stream",
     "text": [
      "Processing 210121_SaxFDM_DigitalKitchen_Repositorien.pdf from Zenodo Record 4461261\n"
     ]
    },
    {
     "data": {
      "application/vnd.jupyter.widget-view+json": {
       "model_id": "75c7508be5d642e49fe1b3a39cfa1a0c",
       "version_major": 2,
       "version_minor": 0
      },
      "text/plain": [
       "Uploading the dataset shards:   0%|          | 0/1 [00:00<?, ?it/s]"
      ]
     },
     "metadata": {},
     "output_type": "display_data"
    },
    {
     "data": {
      "application/vnd.jupyter.widget-view+json": {
       "model_id": "1b4c38494c09420d875f6a0caabba302",
       "version_major": 2,
       "version_minor": 0
      },
      "text/plain": [
       "Creating parquet from Arrow format:   0%|          | 0/3 [00:00<?, ?ba/s]"
      ]
     },
     "metadata": {},
     "output_type": "display_data"
    },
    {
     "name": "stdout",
     "output_type": "stream",
     "text": [
      "Finished processing Zenodo Record 4461261.\n",
      "Repository 'haesleinhuepf/SlightInsight_Cache' already exists.\n"
     ]
    },
    {
     "data": {
      "application/vnd.jupyter.widget-view+json": {
       "model_id": "899c5b4cdcfc4d5e846e493b09991714",
       "version_major": 2,
       "version_minor": 0
      },
      "text/plain": [
       "README.md:   0%|          | 0.00/518 [00:00<?, ?B/s]"
      ]
     },
     "metadata": {},
     "output_type": "display_data"
    },
    {
     "data": {
      "application/vnd.jupyter.widget-view+json": {
       "model_id": "8f23b0d907d4486792171b56123d3955",
       "version_major": 2,
       "version_minor": 0
      },
      "text/plain": [
       "train-00000-of-00001.parquet:   0%|          | 0.00/28.2M [00:00<?, ?B/s]"
      ]
     },
     "metadata": {},
     "output_type": "display_data"
    },
    {
     "data": {
      "application/vnd.jupyter.widget-view+json": {
       "model_id": "45503f5d0bf048bfa9cea3fd7e84733c",
       "version_major": 2,
       "version_minor": 0
      },
      "text/plain": [
       "Generating train split:   0%|          | 0/2156 [00:00<?, ? examples/s]"
      ]
     },
     "metadata": {},
     "output_type": "display_data"
    },
    {
     "name": "stdout",
     "output_type": "stream",
     "text": [
      "Processing dmp_workshop_teil1_20210323.pdf from Zenodo Record 4630788\n"
     ]
    },
    {
     "data": {
      "application/vnd.jupyter.widget-view+json": {
       "model_id": "9786db7d8d08408ba4607bd8b78e1e73",
       "version_major": 2,
       "version_minor": 0
      },
      "text/plain": [
       "Uploading the dataset shards:   0%|          | 0/1 [00:00<?, ?it/s]"
      ]
     },
     "metadata": {},
     "output_type": "display_data"
    },
    {
     "data": {
      "application/vnd.jupyter.widget-view+json": {
       "model_id": "d71caa09e1664cee8b29bf32f86a25f1",
       "version_major": 2,
       "version_minor": 0
      },
      "text/plain": [
       "Creating parquet from Arrow format:   0%|          | 0/3 [00:00<?, ?ba/s]"
      ]
     },
     "metadata": {},
     "output_type": "display_data"
    },
    {
     "name": "stdout",
     "output_type": "stream",
     "text": [
      "Finished processing Zenodo Record 4630788.\n",
      "Repository 'haesleinhuepf/SlightInsight_Cache' already exists.\n"
     ]
    },
    {
     "data": {
      "application/vnd.jupyter.widget-view+json": {
       "model_id": "d483b36127d04828a969863c18d4cfdc",
       "version_major": 2,
       "version_minor": 0
      },
      "text/plain": [
       "README.md:   0%|          | 0.00/518 [00:00<?, ?B/s]"
      ]
     },
     "metadata": {},
     "output_type": "display_data"
    },
    {
     "data": {
      "application/vnd.jupyter.widget-view+json": {
       "model_id": "8e0e64602d5a4532836217d97e7d97ae",
       "version_major": 2,
       "version_minor": 0
      },
      "text/plain": [
       "train-00000-of-00001.parquet:   0%|          | 0.00/29.1M [00:00<?, ?B/s]"
      ]
     },
     "metadata": {},
     "output_type": "display_data"
    },
    {
     "data": {
      "application/vnd.jupyter.widget-view+json": {
       "model_id": "d06b0c92419e4c0cba4b7ea6e207da89",
       "version_major": 2,
       "version_minor": 0
      },
      "text/plain": [
       "Generating train split:   0%|          | 0/2207 [00:00<?, ? examples/s]"
      ]
     },
     "metadata": {},
     "output_type": "display_data"
    },
    {
     "name": "stdout",
     "output_type": "stream",
     "text": [
      "Processing EinblickeFDM_Recht_UniLeipzig_20210511_v03.pdf from Zenodo Record 4748510\n"
     ]
    },
    {
     "data": {
      "application/vnd.jupyter.widget-view+json": {
       "model_id": "39b72497300d49a59f06e1fd8b24763f",
       "version_major": 2,
       "version_minor": 0
      },
      "text/plain": [
       "Uploading the dataset shards:   0%|          | 0/1 [00:00<?, ?it/s]"
      ]
     },
     "metadata": {},
     "output_type": "display_data"
    },
    {
     "data": {
      "application/vnd.jupyter.widget-view+json": {
       "model_id": "30b09cdf5e994ce4afa5080b791804cf",
       "version_major": 2,
       "version_minor": 0
      },
      "text/plain": [
       "Creating parquet from Arrow format:   0%|          | 0/3 [00:00<?, ?ba/s]"
      ]
     },
     "metadata": {},
     "output_type": "display_data"
    },
    {
     "name": "stdout",
     "output_type": "stream",
     "text": [
      "Finished processing Zenodo Record 4748510.\n",
      "Repository 'haesleinhuepf/SlightInsight_Cache' already exists.\n"
     ]
    },
    {
     "data": {
      "application/vnd.jupyter.widget-view+json": {
       "model_id": "431c547bb322479ab7e41710f97954ab",
       "version_major": 2,
       "version_minor": 0
      },
      "text/plain": [
       "README.md:   0%|          | 0.00/518 [00:00<?, ?B/s]"
      ]
     },
     "metadata": {},
     "output_type": "display_data"
    },
    {
     "data": {
      "application/vnd.jupyter.widget-view+json": {
       "model_id": "75c02a61e9044c6dbd3f4ed414788d51",
       "version_major": 2,
       "version_minor": 0
      },
      "text/plain": [
       "train-00000-of-00001.parquet:   0%|          | 0.00/29.5M [00:00<?, ?B/s]"
      ]
     },
     "metadata": {},
     "output_type": "display_data"
    },
    {
     "data": {
      "application/vnd.jupyter.widget-view+json": {
       "model_id": "62335eed47f84584921b71a3c8128d3b",
       "version_major": 2,
       "version_minor": 0
      },
      "text/plain": [
       "Generating train split:   0%|          | 0/2232 [00:00<?, ? examples/s]"
      ]
     },
     "metadata": {},
     "output_type": "display_data"
    },
    {
     "name": "stdout",
     "output_type": "stream",
     "text": [
      "Processing DMP_Workshop_Teil2_20210330.pdf from Zenodo Record 4748534\n"
     ]
    },
    {
     "data": {
      "application/vnd.jupyter.widget-view+json": {
       "model_id": "9e9fd4cad9ae49beb7d019ab03ca4616",
       "version_major": 2,
       "version_minor": 0
      },
      "text/plain": [
       "Uploading the dataset shards:   0%|          | 0/1 [00:00<?, ?it/s]"
      ]
     },
     "metadata": {},
     "output_type": "display_data"
    },
    {
     "data": {
      "application/vnd.jupyter.widget-view+json": {
       "model_id": "d18e7681d59d4c309737d888d682c433",
       "version_major": 2,
       "version_minor": 0
      },
      "text/plain": [
       "Creating parquet from Arrow format:   0%|          | 0/3 [00:00<?, ?ba/s]"
      ]
     },
     "metadata": {},
     "output_type": "display_data"
    },
    {
     "name": "stdout",
     "output_type": "stream",
     "text": [
      "Finished processing Zenodo Record 4748534.\n",
      "Repository 'haesleinhuepf/SlightInsight_Cache' already exists.\n"
     ]
    },
    {
     "data": {
      "application/vnd.jupyter.widget-view+json": {
       "model_id": "03e9412789d74a57b17737cdc2c955a5",
       "version_major": 2,
       "version_minor": 0
      },
      "text/plain": [
       "README.md:   0%|          | 0.00/518 [00:00<?, ?B/s]"
      ]
     },
     "metadata": {},
     "output_type": "display_data"
    },
    {
     "data": {
      "application/vnd.jupyter.widget-view+json": {
       "model_id": "afa5af7a4dbb4427bfdbb52d4b379d61",
       "version_major": 2,
       "version_minor": 0
      },
      "text/plain": [
       "train-00000-of-00001.parquet:   0%|          | 0.00/30.0M [00:00<?, ?B/s]"
      ]
     },
     "metadata": {},
     "output_type": "display_data"
    },
    {
     "data": {
      "application/vnd.jupyter.widget-view+json": {
       "model_id": "014b1798f25044c6a781a0d41e4fc662",
       "version_major": 2,
       "version_minor": 0
      },
      "text/plain": [
       "Generating train split:   0%|          | 0/2262 [00:00<?, ? examples/s]"
      ]
     },
     "metadata": {},
     "output_type": "display_data"
    },
    {
     "name": "stdout",
     "output_type": "stream",
     "text": [
      "Processing intro_rdm_os_srds_short.pdf from Zenodo Record 4778265\n"
     ]
    },
    {
     "data": {
      "application/vnd.jupyter.widget-view+json": {
       "model_id": "1e5a899daf8540559e14bea1e018d9e0",
       "version_major": 2,
       "version_minor": 0
      },
      "text/plain": [
       "Uploading the dataset shards:   0%|          | 0/1 [00:00<?, ?it/s]"
      ]
     },
     "metadata": {},
     "output_type": "display_data"
    },
    {
     "data": {
      "application/vnd.jupyter.widget-view+json": {
       "model_id": "9da7e71bdeb24706bebf1c4bb624ac4c",
       "version_major": 2,
       "version_minor": 0
      },
      "text/plain": [
       "Creating parquet from Arrow format:   0%|          | 0/3 [00:00<?, ?ba/s]"
      ]
     },
     "metadata": {},
     "output_type": "display_data"
    },
    {
     "name": "stdout",
     "output_type": "stream",
     "text": [
      "Finished processing Zenodo Record 4778265.\n",
      "Repository 'haesleinhuepf/SlightInsight_Cache' already exists.\n"
     ]
    },
    {
     "data": {
      "application/vnd.jupyter.widget-view+json": {
       "model_id": "005bb69556ef4d96a5726d6506c65e9b",
       "version_major": 2,
       "version_minor": 0
      },
      "text/plain": [
       "README.md:   0%|          | 0.00/518 [00:00<?, ?B/s]"
      ]
     },
     "metadata": {},
     "output_type": "display_data"
    },
    {
     "data": {
      "application/vnd.jupyter.widget-view+json": {
       "model_id": "9a81d2aed5114325b893ee30706d013c",
       "version_major": 2,
       "version_minor": 0
      },
      "text/plain": [
       "train-00000-of-00001.parquet:   0%|          | 0.00/30.6M [00:00<?, ?B/s]"
      ]
     },
     "metadata": {},
     "output_type": "display_data"
    },
    {
     "data": {
      "application/vnd.jupyter.widget-view+json": {
       "model_id": "9a48bfec0432448295fd9ee83f357d54",
       "version_major": 2,
       "version_minor": 0
      },
      "text/plain": [
       "Generating train split:   0%|          | 0/2308 [00:00<?, ? examples/s]"
      ]
     },
     "metadata": {},
     "output_type": "display_data"
    },
    {
     "name": "stdout",
     "output_type": "stream",
     "text": [
      "Processing 202310_GENERAL_OMERO_Material_01_WhatIsOMERO.pdf from Zenodo Record 8323588\n",
      "Processing 202310_GENERAL_OMERO_Material_02_ConnectToOMERO.pdf from Zenodo Record 8323588\n",
      "Processing 202310_GENERAL_OMERO_Material_03_OMERO_Explained.pdf from Zenodo Record 8323588\n",
      "Processing 202310_GENERAL_OMERO_Material_04_UserGroups.pdf from Zenodo Record 8323588\n",
      "Processing 202310_GENERAL_OMERO_Material_05_UploadingData.pdf from Zenodo Record 8323588\n",
      "Processing 202310_GENERAL_OMERO_Material_06-0_DataOrganization.pdf from Zenodo Record 8323588\n",
      "Processing 202310_GENERAL_OMERO_Material_06-1_DataSearch.pdf from Zenodo Record 8323588\n",
      "Processing 202310_GENERAL_OMERO_Material_07-0_Metadata.pdf from Zenodo Record 8323588\n",
      "Processing 202310_GENERAL_OMERO_Material_07-1_Metadata_Tags.pdf from Zenodo Record 8323588\n",
      "Processing 202310_GENERAL_OMERO_Material_07-2_Metadata_KeyValuePairs.pdf from Zenodo Record 8323588\n",
      "Processing 202310_GENERAL_OMERO_Material_07-3_Metadata_Ontologies.pdf from Zenodo Record 8323588\n",
      "Processing 202310_GENERAL_OMERO_Material_08_OMERO-Fiji.pdf from Zenodo Record 8323588\n",
      "Processing 202310_GENERAL_OMERO_Material_09_More.pdf from Zenodo Record 8323588\n",
      "Processing 2023_Schmidt_etal_I3Dbio_OMERO_Training_Material_10.5281_zenodo.8323588.pdf from Zenodo Record 8323588\n"
     ]
    },
    {
     "data": {
      "application/vnd.jupyter.widget-view+json": {
       "model_id": "11e0541a9cd74f5fa76747b8fed67faf",
       "version_major": 2,
       "version_minor": 0
      },
      "text/plain": [
       "Uploading the dataset shards:   0%|          | 0/1 [00:00<?, ?it/s]"
      ]
     },
     "metadata": {},
     "output_type": "display_data"
    },
    {
     "data": {
      "application/vnd.jupyter.widget-view+json": {
       "model_id": "3732067c274446b9bee349101e6984aa",
       "version_major": 2,
       "version_minor": 0
      },
      "text/plain": [
       "Creating parquet from Arrow format:   0%|          | 0/3 [00:00<?, ?ba/s]"
      ]
     },
     "metadata": {},
     "output_type": "display_data"
    },
    {
     "name": "stdout",
     "output_type": "stream",
     "text": [
      "Finished processing Zenodo Record 8323588.\n",
      "Repository 'haesleinhuepf/SlightInsight_Cache' already exists.\n"
     ]
    },
    {
     "data": {
      "application/vnd.jupyter.widget-view+json": {
       "model_id": "622af0748ebd489491d6d920dc26bc07",
       "version_major": 2,
       "version_minor": 0
      },
      "text/plain": [
       "README.md:   0%|          | 0.00/518 [00:00<?, ?B/s]"
      ]
     },
     "metadata": {},
     "output_type": "display_data"
    },
    {
     "data": {
      "application/vnd.jupyter.widget-view+json": {
       "model_id": "bb56e65c97c74deea2c55fa57bc3a58e",
       "version_major": 2,
       "version_minor": 0
      },
      "text/plain": [
       "train-00000-of-00001.parquet:   0%|          | 0.00/33.2M [00:00<?, ?B/s]"
      ]
     },
     "metadata": {},
     "output_type": "display_data"
    },
    {
     "data": {
      "application/vnd.jupyter.widget-view+json": {
       "model_id": "6a15dcb71ffb4197a5a7a75fd6c1a9eb",
       "version_major": 2,
       "version_minor": 0
      },
      "text/plain": [
       "Generating train split:   0%|          | 0/2540 [00:00<?, ? examples/s]"
      ]
     },
     "metadata": {},
     "output_type": "display_data"
    },
    {
     "name": "stdout",
     "output_type": "stream",
     "text": [
      "Processing Thinking_Data_Management_On_Different_Scales.pdf from Zenodo Record 8329305\n"
     ]
    },
    {
     "data": {
      "application/vnd.jupyter.widget-view+json": {
       "model_id": "8d6b6edabf004db9ba56219c332e6397",
       "version_major": 2,
       "version_minor": 0
      },
      "text/plain": [
       "Uploading the dataset shards:   0%|          | 0/1 [00:00<?, ?it/s]"
      ]
     },
     "metadata": {},
     "output_type": "display_data"
    },
    {
     "data": {
      "application/vnd.jupyter.widget-view+json": {
       "model_id": "2120aaed64004419872ebd5551750bbc",
       "version_major": 2,
       "version_minor": 0
      },
      "text/plain": [
       "Creating parquet from Arrow format:   0%|          | 0/3 [00:00<?, ?ba/s]"
      ]
     },
     "metadata": {},
     "output_type": "display_data"
    },
    {
     "name": "stdout",
     "output_type": "stream",
     "text": [
      "Finished processing Zenodo Record 8329305.\n",
      "Repository 'haesleinhuepf/SlightInsight_Cache' already exists.\n"
     ]
    },
    {
     "data": {
      "application/vnd.jupyter.widget-view+json": {
       "model_id": "91bb7f6d68d1480a869b078fb9c7a243",
       "version_major": 2,
       "version_minor": 0
      },
      "text/plain": [
       "README.md:   0%|          | 0.00/518 [00:00<?, ?B/s]"
      ]
     },
     "metadata": {},
     "output_type": "display_data"
    },
    {
     "data": {
      "application/vnd.jupyter.widget-view+json": {
       "model_id": "9f72e4badb4c41a69d25602cc8f98c75",
       "version_major": 2,
       "version_minor": 0
      },
      "text/plain": [
       "train-00000-of-00001.parquet:   0%|          | 0.00/33.6M [00:00<?, ?B/s]"
      ]
     },
     "metadata": {},
     "output_type": "display_data"
    },
    {
     "data": {
      "application/vnd.jupyter.widget-view+json": {
       "model_id": "c9fa3ebfef734169ab3d048fb62d504e",
       "version_major": 2,
       "version_minor": 0
      },
      "text/plain": [
       "Generating train split:   0%|          | 0/2570 [00:00<?, ? examples/s]"
      ]
     },
     "metadata": {},
     "output_type": "display_data"
    },
    {
     "name": "stdout",
     "output_type": "stream",
     "text": [
      "Processing Thinking_Data_Management_On_Different_Scales.pdf from Zenodo Record 8329306\n"
     ]
    },
    {
     "data": {
      "application/vnd.jupyter.widget-view+json": {
       "model_id": "f467458c1005438690c4e6f6546facc7",
       "version_major": 2,
       "version_minor": 0
      },
      "text/plain": [
       "Uploading the dataset shards:   0%|          | 0/1 [00:00<?, ?it/s]"
      ]
     },
     "metadata": {},
     "output_type": "display_data"
    },
    {
     "data": {
      "application/vnd.jupyter.widget-view+json": {
       "model_id": "003d6ab40f90463c97dbefaed7a96a68",
       "version_major": 2,
       "version_minor": 0
      },
      "text/plain": [
       "Creating parquet from Arrow format:   0%|          | 0/3 [00:00<?, ?ba/s]"
      ]
     },
     "metadata": {},
     "output_type": "display_data"
    },
    {
     "name": "stdout",
     "output_type": "stream",
     "text": [
      "Finished processing Zenodo Record 8329306.\n",
      "Repository 'haesleinhuepf/SlightInsight_Cache' already exists.\n"
     ]
    },
    {
     "data": {
      "application/vnd.jupyter.widget-view+json": {
       "model_id": "6aabf10af55444968c0d0ab91f4f3241",
       "version_major": 2,
       "version_minor": 0
      },
      "text/plain": [
       "README.md:   0%|          | 0.00/518 [00:00<?, ?B/s]"
      ]
     },
     "metadata": {},
     "output_type": "display_data"
    },
    {
     "data": {
      "application/vnd.jupyter.widget-view+json": {
       "model_id": "e2dac5538dee417cba016f245d001623",
       "version_major": 2,
       "version_minor": 0
      },
      "text/plain": [
       "train-00000-of-00001.parquet:   0%|          | 0.00/33.9M [00:00<?, ?B/s]"
      ]
     },
     "metadata": {},
     "output_type": "display_data"
    },
    {
     "data": {
      "application/vnd.jupyter.widget-view+json": {
       "model_id": "24cc7f64c8414e319d2d51af10fb5c36",
       "version_major": 2,
       "version_minor": 0
      },
      "text/plain": [
       "Generating train split:   0%|          | 0/2600 [00:00<?, ? examples/s]"
      ]
     },
     "metadata": {},
     "output_type": "display_data"
    },
    {
     "name": "stdout",
     "output_type": "stream",
     "text": [
      "Processing 20231005_PIC_UFZ_NFDI4BIOIMAGE_Massei_public.pdf from Zenodo Record 8414318\n"
     ]
    },
    {
     "data": {
      "application/vnd.jupyter.widget-view+json": {
       "model_id": "d70cb73e55814d50a54000a0eea66ccf",
       "version_major": 2,
       "version_minor": 0
      },
      "text/plain": [
       "Uploading the dataset shards:   0%|          | 0/1 [00:00<?, ?it/s]"
      ]
     },
     "metadata": {},
     "output_type": "display_data"
    },
    {
     "data": {
      "application/vnd.jupyter.widget-view+json": {
       "model_id": "df0db6904e5b49078826a389350e56a0",
       "version_major": 2,
       "version_minor": 0
      },
      "text/plain": [
       "Creating parquet from Arrow format:   0%|          | 0/3 [00:00<?, ?ba/s]"
      ]
     },
     "metadata": {},
     "output_type": "display_data"
    },
    {
     "name": "stdout",
     "output_type": "stream",
     "text": [
      "Finished processing Zenodo Record 8414318.\n"
     ]
    }
   ],
   "source": [
    "from caching import ensure_repo_exists, load_cache_dataset, append_rows_to_dataset, embed_text, embed_visual, embed_mixed, cache_hf\n",
    "from datasets import concatenate_datasets, load_dataset\n",
    "\n",
    "repo_name = \"ScaDS-AI/SlightInsight_Cache\"\n",
    "for record_id in zenodo_ids:\n",
    "    cache_hf(record_id, token, use_openai, repo_name)"
   ]
  },
  {
   "cell_type": "markdown",
   "id": "593a1600-b850-479e-8173-543e5f691738",
   "metadata": {},
   "source": [
    "4. Example on how to load the data again for a specific slide from a specific Record/Presentation"
   ]
  },
  {
   "cell_type": "code",
   "execution_count": 2,
   "id": "d59adb9a-2321-4347-8a64-1884d7a5b42f",
   "metadata": {},
   "outputs": [
    {
     "name": "stderr",
     "output_type": "stream",
     "text": [
      "Using a slow image processor as `use_fast` is unset and a slow processor was saved with this model. `use_fast=True` will be the default behavior in v4.52, even if the model was saved with a slow processor. This will result in minor differences in outputs. You'll still be able to use a slow processor with `use_fast=False`.\n"
     ]
    },
    {
     "data": {
      "text/html": [
       "<div>\n",
       "<style scoped>\n",
       "    .dataframe tbody tr th:only-of-type {\n",
       "        vertical-align: middle;\n",
       "    }\n",
       "\n",
       "    .dataframe tbody tr th {\n",
       "        vertical-align: top;\n",
       "    }\n",
       "\n",
       "    .dataframe thead th {\n",
       "        text-align: right;\n",
       "    }\n",
       "</style>\n",
       "<table border=\"1\" class=\"dataframe\">\n",
       "  <thead>\n",
       "    <tr style=\"text-align: right;\">\n",
       "      <th></th>\n",
       "      <th>key</th>\n",
       "      <th>zenodo_record_id</th>\n",
       "      <th>zenodo_filename</th>\n",
       "      <th>page_number</th>\n",
       "      <th>text_embedding</th>\n",
       "      <th>visual_embedding</th>\n",
       "      <th>mixed_embedding</th>\n",
       "      <th>extracted_text</th>\n",
       "    </tr>\n",
       "  </thead>\n",
       "  <tbody>\n",
       "    <tr>\n",
       "      <th>0</th>\n",
       "      <td>record10083555_pdf1_slide3</td>\n",
       "      <td>10083555</td>\n",
       "      <td>Bio-Image_Data_Strudel_TU-Dresden_TP_Workshop_...</td>\n",
       "      <td>3</td>\n",
       "      <td>[-0.8083789, -0.57003796, 0.026535584, 0.15640...</td>\n",
       "      <td>[-0.002609865041449666, -0.11352983117103577, ...</td>\n",
       "      <td>[-0.53784376, -0.4322776, 0.20752871, -0.15392...</td>\n",
       "      <td>What is the ‚Nationale Forschungsdaten Infrast...</td>\n",
       "    </tr>\n",
       "  </tbody>\n",
       "</table>\n",
       "</div>"
      ],
      "text/plain": [
       "                          key zenodo_record_id  \\\n",
       "0  record10083555_pdf1_slide3         10083555   \n",
       "\n",
       "                                     zenodo_filename  page_number  \\\n",
       "0  Bio-Image_Data_Strudel_TU-Dresden_TP_Workshop_...            3   \n",
       "\n",
       "                                      text_embedding  \\\n",
       "0  [-0.8083789, -0.57003796, 0.026535584, 0.15640...   \n",
       "\n",
       "                                    visual_embedding  \\\n",
       "0  [-0.002609865041449666, -0.11352983117103577, ...   \n",
       "\n",
       "                                     mixed_embedding  \\\n",
       "0  [-0.53784376, -0.4322776, 0.20752871, -0.15392...   \n",
       "\n",
       "                                      extracted_text  \n",
       "0  What is the ‚Nationale Forschungsdaten Infrast...  "
      ]
     },
     "execution_count": 2,
     "metadata": {},
     "output_type": "execute_result"
    }
   ],
   "source": [
    "from caching import load_single_hf_cache\n",
    "import pandas as pd\n",
    "\n",
    "df = load_single_hf_cache(\"10083555\", 3)\n",
    "df"
   ]
  },
  {
   "cell_type": "markdown",
   "id": "0d48fc92-1f3e-4709-9721-62c43ef639f8",
   "metadata": {},
   "source": [
    "5. How to load the whole dataset"
   ]
  },
  {
   "cell_type": "code",
   "execution_count": 3,
   "id": "cd4ad39a-5d79-4c0b-ac59-1aed4ec2a00b",
   "metadata": {},
   "outputs": [
    {
     "data": {
      "text/html": [
       "<div>\n",
       "<style scoped>\n",
       "    .dataframe tbody tr th:only-of-type {\n",
       "        vertical-align: middle;\n",
       "    }\n",
       "\n",
       "    .dataframe tbody tr th {\n",
       "        vertical-align: top;\n",
       "    }\n",
       "\n",
       "    .dataframe thead th {\n",
       "        text-align: right;\n",
       "    }\n",
       "</style>\n",
       "<table border=\"1\" class=\"dataframe\">\n",
       "  <thead>\n",
       "    <tr style=\"text-align: right;\">\n",
       "      <th></th>\n",
       "      <th>key</th>\n",
       "      <th>zenodo_record_id</th>\n",
       "      <th>zenodo_filename</th>\n",
       "      <th>page_number</th>\n",
       "      <th>text_embedding</th>\n",
       "      <th>visual_embedding</th>\n",
       "      <th>mixed_embedding</th>\n",
       "      <th>extracted_text</th>\n",
       "    </tr>\n",
       "  </thead>\n",
       "  <tbody>\n",
       "    <tr>\n",
       "      <th>0</th>\n",
       "      <td>record10008464_pdf1_slide1</td>\n",
       "      <td>10008464</td>\n",
       "      <td>2023-Moore-N4BI-AHM-Welcome.pdf</td>\n",
       "      <td>1</td>\n",
       "      <td>[0.8054575, -0.4204579, 0.111390926, 0.2636367...</td>\n",
       "      <td>[0.22024887800216675, 0.6564452648162842, 0.02...</td>\n",
       "      <td>[0.22330284, -0.5643485, 0.32713842, -0.074667...</td>\n",
       "      <td>Welcome to\\nBioImage Town!\\nJosh Moore, Senior...</td>\n",
       "    </tr>\n",
       "    <tr>\n",
       "      <th>1</th>\n",
       "      <td>record10008464_pdf1_slide2</td>\n",
       "      <td>10008464</td>\n",
       "      <td>2023-Moore-N4BI-AHM-Welcome.pdf</td>\n",
       "      <td>2</td>\n",
       "      <td>[1.1522328, 0.02467385, 0.23145455, 0.17258961...</td>\n",
       "      <td>[-0.3846272826194763, -0.01668522134423256, -0...</td>\n",
       "      <td>[0.34757608, -0.6562839, 0.5335755, -0.1906935...</td>\n",
       "      <td>Special welcome\\nHonored New\\nGuests Colleague...</td>\n",
       "    </tr>\n",
       "    <tr>\n",
       "      <th>2</th>\n",
       "      <td>record10008464_pdf1_slide3</td>\n",
       "      <td>10008464</td>\n",
       "      <td>2023-Moore-N4BI-AHM-Welcome.pdf</td>\n",
       "      <td>3</td>\n",
       "      <td>[1.0057557, 0.18344171, 0.03796136, 0.23549518...</td>\n",
       "      <td>[-0.32376205921173096, 0.06897055357694626, 0....</td>\n",
       "      <td>[0.06456853, -0.79703176, 0.871621, -0.8768049...</td>\n",
       "      <td>Value of bioimages\\nhttps://ome-model.readthed...</td>\n",
       "    </tr>\n",
       "    <tr>\n",
       "      <th>3</th>\n",
       "      <td>record10008464_pdf1_slide4</td>\n",
       "      <td>10008464</td>\n",
       "      <td>2023-Moore-N4BI-AHM-Welcome.pdf</td>\n",
       "      <td>4</td>\n",
       "      <td>[1.2563236, 0.25261688, 0.0040982994, 0.202414...</td>\n",
       "      <td>[-0.03493745997548103, -0.11242333054542542, 0...</td>\n",
       "      <td>[0.3643795, -0.40593308, 0.97395766, -0.495041...</td>\n",
       "      <td>Value of bioimages\\nAll-Hands Meeting · Josh M...</td>\n",
       "    </tr>\n",
       "    <tr>\n",
       "      <th>4</th>\n",
       "      <td>record10008464_pdf1_slide5</td>\n",
       "      <td>10008464</td>\n",
       "      <td>2023-Moore-N4BI-AHM-Welcome.pdf</td>\n",
       "      <td>5</td>\n",
       "      <td>[0.8471789, -0.40933934, 0.85754687, -0.496454...</td>\n",
       "      <td>[-0.6693567037582397, -0.02434205450117588, -0...</td>\n",
       "      <td>[-0.22939722, -0.6752343, 0.57570195, 0.046955...</td>\n",
       "      <td>Image Data Management isn’t always FAIR\\n\"Clar...</td>\n",
       "    </tr>\n",
       "  </tbody>\n",
       "</table>\n",
       "</div>"
      ],
      "text/plain": [
       "                          key zenodo_record_id  \\\n",
       "0  record10008464_pdf1_slide1         10008464   \n",
       "1  record10008464_pdf1_slide2         10008464   \n",
       "2  record10008464_pdf1_slide3         10008464   \n",
       "3  record10008464_pdf1_slide4         10008464   \n",
       "4  record10008464_pdf1_slide5         10008464   \n",
       "\n",
       "                   zenodo_filename  page_number  \\\n",
       "0  2023-Moore-N4BI-AHM-Welcome.pdf            1   \n",
       "1  2023-Moore-N4BI-AHM-Welcome.pdf            2   \n",
       "2  2023-Moore-N4BI-AHM-Welcome.pdf            3   \n",
       "3  2023-Moore-N4BI-AHM-Welcome.pdf            4   \n",
       "4  2023-Moore-N4BI-AHM-Welcome.pdf            5   \n",
       "\n",
       "                                      text_embedding  \\\n",
       "0  [0.8054575, -0.4204579, 0.111390926, 0.2636367...   \n",
       "1  [1.1522328, 0.02467385, 0.23145455, 0.17258961...   \n",
       "2  [1.0057557, 0.18344171, 0.03796136, 0.23549518...   \n",
       "3  [1.2563236, 0.25261688, 0.0040982994, 0.202414...   \n",
       "4  [0.8471789, -0.40933934, 0.85754687, -0.496454...   \n",
       "\n",
       "                                    visual_embedding  \\\n",
       "0  [0.22024887800216675, 0.6564452648162842, 0.02...   \n",
       "1  [-0.3846272826194763, -0.01668522134423256, -0...   \n",
       "2  [-0.32376205921173096, 0.06897055357694626, 0....   \n",
       "3  [-0.03493745997548103, -0.11242333054542542, 0...   \n",
       "4  [-0.6693567037582397, -0.02434205450117588, -0...   \n",
       "\n",
       "                                     mixed_embedding  \\\n",
       "0  [0.22330284, -0.5643485, 0.32713842, -0.074667...   \n",
       "1  [0.34757608, -0.6562839, 0.5335755, -0.1906935...   \n",
       "2  [0.06456853, -0.79703176, 0.871621, -0.8768049...   \n",
       "3  [0.3643795, -0.40593308, 0.97395766, -0.495041...   \n",
       "4  [-0.22939722, -0.6752343, 0.57570195, 0.046955...   \n",
       "\n",
       "                                      extracted_text  \n",
       "0  Welcome to\\nBioImage Town!\\nJosh Moore, Senior...  \n",
       "1  Special welcome\\nHonored New\\nGuests Colleague...  \n",
       "2  Value of bioimages\\nhttps://ome-model.readthed...  \n",
       "3  Value of bioimages\\nAll-Hands Meeting · Josh M...  \n",
       "4  Image Data Management isn’t always FAIR\\n\"Clar...  "
      ]
     },
     "execution_count": 3,
     "metadata": {},
     "output_type": "execute_result"
    }
   ],
   "source": [
    "from caching import load_full_hf_cache\n",
    "\n",
    "df_full = load_full_hf_cache()    \n",
    "df_full.head()"
   ]
  }
 ],
 "metadata": {
  "kernelspec": {
   "display_name": "Python 3 (ipykernel)",
   "language": "python",
   "name": "python3"
  },
  "language_info": {
   "codemirror_mode": {
    "name": "ipython",
    "version": 3
   },
   "file_extension": ".py",
   "mimetype": "text/x-python",
   "name": "python",
   "nbconvert_exporter": "python",
   "pygments_lexer": "ipython3",
   "version": "3.10.12"
  }
 },
 "nbformat": 4,
 "nbformat_minor": 5
}
